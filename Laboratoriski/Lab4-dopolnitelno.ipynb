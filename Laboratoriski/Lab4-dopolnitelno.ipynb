{
 "cells": [
  {
   "cell_type": "code",
   "execution_count": 1,
   "id": "17304f17-aa15-4def-982e-cc03db1ed330",
   "metadata": {},
   "outputs": [],
   "source": [
    "import pandas as pd\n",
    "from sklearn.model_selection import train_test_split\n",
    "from sklearn.preprocessing import MinMaxScaler, LabelEncoder\n",
    "from sklearn.metrics import accuracy_score, confusion_matrix, classification_report, f1_score\n",
    "from keras.models import Sequential\n",
    "from keras.layers import Dense, Input, Dropout\n",
    "from sklearn.feature_extraction.text import TfidfVectorizer\n",
    "from sklearn.naive_bayes import MultinomialNB"
   ]
  },
  {
   "cell_type": "code",
   "execution_count": 2,
   "id": "44522f43-f357-48e9-af6c-d78924a58076",
   "metadata": {},
   "outputs": [
    {
     "data": {
      "text/html": [
       "<div>\n",
       "<style scoped>\n",
       "    .dataframe tbody tr th:only-of-type {\n",
       "        vertical-align: middle;\n",
       "    }\n",
       "\n",
       "    .dataframe tbody tr th {\n",
       "        vertical-align: top;\n",
       "    }\n",
       "\n",
       "    .dataframe thead th {\n",
       "        text-align: right;\n",
       "    }\n",
       "</style>\n",
       "<table border=\"1\" class=\"dataframe\">\n",
       "  <thead>\n",
       "    <tr style=\"text-align: right;\">\n",
       "      <th></th>\n",
       "      <th>Id</th>\n",
       "      <th>Comment</th>\n",
       "      <th>Topic</th>\n",
       "    </tr>\n",
       "  </thead>\n",
       "  <tbody>\n",
       "    <tr>\n",
       "      <th>0</th>\n",
       "      <td>0x840</td>\n",
       "      <td>A few things. You might have negative- frequen...</td>\n",
       "      <td>Biology</td>\n",
       "    </tr>\n",
       "    <tr>\n",
       "      <th>1</th>\n",
       "      <td>0xbf0</td>\n",
       "      <td>Is it so hard to believe that there exist part...</td>\n",
       "      <td>Physics</td>\n",
       "    </tr>\n",
       "    <tr>\n",
       "      <th>2</th>\n",
       "      <td>0x1dfc</td>\n",
       "      <td>There are bees</td>\n",
       "      <td>Biology</td>\n",
       "    </tr>\n",
       "    <tr>\n",
       "      <th>3</th>\n",
       "      <td>0xc7e</td>\n",
       "      <td>I'm a medication technician. And that's alot o...</td>\n",
       "      <td>Biology</td>\n",
       "    </tr>\n",
       "    <tr>\n",
       "      <th>4</th>\n",
       "      <td>0xbba</td>\n",
       "      <td>Cesium is such a pretty metal.</td>\n",
       "      <td>Chemistry</td>\n",
       "    </tr>\n",
       "    <tr>\n",
       "      <th>...</th>\n",
       "      <td>...</td>\n",
       "      <td>...</td>\n",
       "      <td>...</td>\n",
       "    </tr>\n",
       "    <tr>\n",
       "      <th>8690</th>\n",
       "      <td>0x1e02</td>\n",
       "      <td>I make similar observations over the last week...</td>\n",
       "      <td>Biology</td>\n",
       "    </tr>\n",
       "    <tr>\n",
       "      <th>8691</th>\n",
       "      <td>0xc8d</td>\n",
       "      <td>You would know.</td>\n",
       "      <td>Biology</td>\n",
       "    </tr>\n",
       "    <tr>\n",
       "      <th>8692</th>\n",
       "      <td>0x723</td>\n",
       "      <td>Also use the correct number of sig figs</td>\n",
       "      <td>Chemistry</td>\n",
       "    </tr>\n",
       "    <tr>\n",
       "      <th>8693</th>\n",
       "      <td>0x667</td>\n",
       "      <td>What about the ethical delimmas,  groundbreaki...</td>\n",
       "      <td>Biology</td>\n",
       "    </tr>\n",
       "    <tr>\n",
       "      <th>8694</th>\n",
       "      <td>0x1476</td>\n",
       "      <td>I would like to know too.</td>\n",
       "      <td>Biology</td>\n",
       "    </tr>\n",
       "  </tbody>\n",
       "</table>\n",
       "<p>8695 rows × 3 columns</p>\n",
       "</div>"
      ],
      "text/plain": [
       "          Id                                            Comment      Topic\n",
       "0      0x840  A few things. You might have negative- frequen...    Biology\n",
       "1      0xbf0  Is it so hard to believe that there exist part...    Physics\n",
       "2     0x1dfc                                     There are bees    Biology\n",
       "3      0xc7e  I'm a medication technician. And that's alot o...    Biology\n",
       "4      0xbba                     Cesium is such a pretty metal.  Chemistry\n",
       "...      ...                                                ...        ...\n",
       "8690  0x1e02  I make similar observations over the last week...    Biology\n",
       "8691   0xc8d                                    You would know.    Biology\n",
       "8692   0x723            Also use the correct number of sig figs  Chemistry\n",
       "8693   0x667  What about the ethical delimmas,  groundbreaki...    Biology\n",
       "8694  0x1476                          I would like to know too.    Biology\n",
       "\n",
       "[8695 rows x 3 columns]"
      ]
     },
     "execution_count": 2,
     "metadata": {},
     "output_type": "execute_result"
    }
   ],
   "source": [
    "data = pd.read_csv(\"train.csv\")\n",
    "data"
   ]
  },
  {
   "cell_type": "code",
   "execution_count": 3,
   "id": "1bb9433f-a3bf-419a-9860-01f64f517a1b",
   "metadata": {},
   "outputs": [],
   "source": [
    "def drop_data(data:pd.DataFrame, columns:list):\n",
    "  data_copy = data.copy()\n",
    "  data_copy.drop(columns, axis=1, inplace=True)\n",
    "  return data_copy"
   ]
  },
  {
   "cell_type": "code",
   "execution_count": 4,
   "id": "6359b624-e47a-4324-bb8a-b7d9f72cca21",
   "metadata": {},
   "outputs": [],
   "source": [
    "data = drop_data(data,['Id'])"
   ]
  },
  {
   "cell_type": "code",
   "execution_count": 5,
   "id": "0f334a80-4f99-4eb0-88a9-953ad0304751",
   "metadata": {},
   "outputs": [],
   "source": [
    "def label_data(data:pd.DataFrame, columns:list):\n",
    "  encoder = LabelEncoder()\n",
    "  data_copy = data.copy()\n",
    "\n",
    "  for column in columns:\n",
    "    data_copy[column] = encoder.fit_transform(data_copy[[column]].astype(str).values.ravel())\n",
    "  return data_copy"
   ]
  },
  {
   "cell_type": "code",
   "execution_count": 6,
   "id": "64446043-9311-4f48-a736-bdd139d4e933",
   "metadata": {},
   "outputs": [],
   "source": [
    "data = label_data(data,['Topic'])"
   ]
  },
  {
   "cell_type": "code",
   "execution_count": 7,
   "id": "27c74bcc-df8e-48fe-8200-17158afda39f",
   "metadata": {},
   "outputs": [
    {
     "data": {
      "text/html": [
       "<div>\n",
       "<style scoped>\n",
       "    .dataframe tbody tr th:only-of-type {\n",
       "        vertical-align: middle;\n",
       "    }\n",
       "\n",
       "    .dataframe tbody tr th {\n",
       "        vertical-align: top;\n",
       "    }\n",
       "\n",
       "    .dataframe thead th {\n",
       "        text-align: right;\n",
       "    }\n",
       "</style>\n",
       "<table border=\"1\" class=\"dataframe\">\n",
       "  <thead>\n",
       "    <tr style=\"text-align: right;\">\n",
       "      <th></th>\n",
       "      <th>Comment</th>\n",
       "      <th>Topic</th>\n",
       "    </tr>\n",
       "  </thead>\n",
       "  <tbody>\n",
       "    <tr>\n",
       "      <th>0</th>\n",
       "      <td>A few things. You might have negative- frequen...</td>\n",
       "      <td>0</td>\n",
       "    </tr>\n",
       "    <tr>\n",
       "      <th>1</th>\n",
       "      <td>Is it so hard to believe that there exist part...</td>\n",
       "      <td>2</td>\n",
       "    </tr>\n",
       "    <tr>\n",
       "      <th>2</th>\n",
       "      <td>There are bees</td>\n",
       "      <td>0</td>\n",
       "    </tr>\n",
       "    <tr>\n",
       "      <th>3</th>\n",
       "      <td>I'm a medication technician. And that's alot o...</td>\n",
       "      <td>0</td>\n",
       "    </tr>\n",
       "    <tr>\n",
       "      <th>4</th>\n",
       "      <td>Cesium is such a pretty metal.</td>\n",
       "      <td>1</td>\n",
       "    </tr>\n",
       "  </tbody>\n",
       "</table>\n",
       "</div>"
      ],
      "text/plain": [
       "                                             Comment  Topic\n",
       "0  A few things. You might have negative- frequen...      0\n",
       "1  Is it so hard to believe that there exist part...      2\n",
       "2                                     There are bees      0\n",
       "3  I'm a medication technician. And that's alot o...      0\n",
       "4                     Cesium is such a pretty metal.      1"
      ]
     },
     "execution_count": 7,
     "metadata": {},
     "output_type": "execute_result"
    }
   ],
   "source": [
    "data.head()"
   ]
  },
  {
   "cell_type": "code",
   "execution_count": 8,
   "id": "1ef0247d-e061-4078-b514-b42257275c45",
   "metadata": {},
   "outputs": [],
   "source": [
    "X = list(data['Comment'])\n",
    "y = data['Topic']"
   ]
  },
  {
   "cell_type": "code",
   "execution_count": 9,
   "id": "f8060ebd-4940-40bf-96d0-fc8af8fad299",
   "metadata": {},
   "outputs": [],
   "source": [
    "tfidf_vectorizer = TfidfVectorizer(\n",
    "    binary=True,\n",
    "    norm=None,\n",
    "    use_idf=False,\n",
    "    smooth_idf=False,\n",
    "    lowercase=True,\n",
    "    stop_words='english',\n",
    "    token_pattern=r'(?u)\\b[A-Za-z]+\\b',\n",
    "    min_df=1,\n",
    "    max_df=1.0,\n",
    "    max_features=None,\n",
    "    ngram_range=(1, 1)\n",
    ")\n",
    "tfidf_vectorizer_vectors = tfidf_vectorizer.fit_transform(X)\n",
    "X = tfidf_vectorizer_vectors.toarray()"
   ]
  },
  {
   "cell_type": "code",
   "execution_count": 10,
   "id": "471417e1-1cce-4d64-825f-ec438d76ce7c",
   "metadata": {},
   "outputs": [],
   "source": [
    "X_train, X_test, y_train, y_test = train_test_split(X, y, test_size=0.3, random_state=42)"
   ]
  },
  {
   "cell_type": "code",
   "execution_count": 11,
   "id": "3946fc9b-6852-493d-a516-706652a58ed7",
   "metadata": {},
   "outputs": [],
   "source": [
    "model2 = Sequential([\n",
    "    Input(shape=(X.shape[1],)),\n",
    "    Dense(128, activation='relu'),\n",
    "    Dense(64, activation='relu'),\n",
    "    Dropout(0.3),\n",
    "    Dense(32, activation='relu'),\n",
    "    Dense(4, activation='softmax')\n",
    "])"
   ]
  },
  {
   "cell_type": "code",
   "execution_count": 12,
   "id": "03944b22-1529-4fdd-90ef-26a1878ad3eb",
   "metadata": {},
   "outputs": [],
   "source": [
    "model2.compile(\n",
    "    loss=\"sparse_categorical_crossentropy\",\n",
    "    optimizer=\"adam\",\n",
    "    metrics=[\"accuracy\"]\n",
    ")"
   ]
  },
  {
   "cell_type": "code",
   "execution_count": 13,
   "id": "f9d1eb1b-63f8-4876-a95e-942664c75f21",
   "metadata": {},
   "outputs": [
    {
     "name": "stdout",
     "output_type": "stream",
     "text": [
      "Epoch 1/10\n",
      "\u001b[1m685/685\u001b[0m \u001b[32m━━━━━━━━━━━━━━━━━━━━\u001b[0m\u001b[37m\u001b[0m \u001b[1m30s\u001b[0m 38ms/step - accuracy: 0.5144 - loss: 1.0220 - val_accuracy: 0.6765 - val_loss: 0.6813\n",
      "Epoch 2/10\n",
      "\u001b[1m685/685\u001b[0m \u001b[32m━━━━━━━━━━━━━━━━━━━━\u001b[0m\u001b[37m\u001b[0m \u001b[1m26s\u001b[0m 39ms/step - accuracy: 0.8598 - loss: 0.3754 - val_accuracy: 0.6995 - val_loss: 0.7540\n",
      "Epoch 3/10\n",
      "\u001b[1m685/685\u001b[0m \u001b[32m━━━━━━━━━━━━━━━━━━━━\u001b[0m\u001b[37m\u001b[0m \u001b[1m24s\u001b[0m 35ms/step - accuracy: 0.9293 - loss: 0.1729 - val_accuracy: 0.6962 - val_loss: 1.0034\n",
      "Epoch 4/10\n",
      "\u001b[1m685/685\u001b[0m \u001b[32m━━━━━━━━━━━━━━━━━━━━\u001b[0m\u001b[37m\u001b[0m \u001b[1m40s\u001b[0m 34ms/step - accuracy: 0.9567 - loss: 0.1052 - val_accuracy: 0.6929 - val_loss: 1.2200\n",
      "Epoch 5/10\n",
      "\u001b[1m685/685\u001b[0m \u001b[32m━━━━━━━━━━━━━━━━━━━━\u001b[0m\u001b[37m\u001b[0m \u001b[1m42s\u001b[0m 35ms/step - accuracy: 0.9724 - loss: 0.0668 - val_accuracy: 0.6946 - val_loss: 1.3040\n",
      "Epoch 6/10\n",
      "\u001b[1m685/685\u001b[0m \u001b[32m━━━━━━━━━━━━━━━━━━━━\u001b[0m\u001b[37m\u001b[0m \u001b[1m41s\u001b[0m 34ms/step - accuracy: 0.9728 - loss: 0.0630 - val_accuracy: 0.7011 - val_loss: 1.6088\n",
      "Epoch 7/10\n",
      "\u001b[1m685/685\u001b[0m \u001b[32m━━━━━━━━━━━━━━━━━━━━\u001b[0m\u001b[37m\u001b[0m \u001b[1m24s\u001b[0m 35ms/step - accuracy: 0.9762 - loss: 0.0524 - val_accuracy: 0.6995 - val_loss: 1.6902\n",
      "Epoch 8/10\n",
      "\u001b[1m685/685\u001b[0m \u001b[32m━━━━━━━━━━━━━━━━━━━━\u001b[0m\u001b[37m\u001b[0m \u001b[1m25s\u001b[0m 36ms/step - accuracy: 0.9812 - loss: 0.0403 - val_accuracy: 0.6913 - val_loss: 1.8274\n",
      "Epoch 9/10\n",
      "\u001b[1m685/685\u001b[0m \u001b[32m━━━━━━━━━━━━━━━━━━━━\u001b[0m\u001b[37m\u001b[0m \u001b[1m25s\u001b[0m 37ms/step - accuracy: 0.9775 - loss: 0.0459 - val_accuracy: 0.6880 - val_loss: 2.1802\n",
      "Epoch 10/10\n",
      "\u001b[1m685/685\u001b[0m \u001b[32m━━━━━━━━━━━━━━━━━━━━\u001b[0m\u001b[37m\u001b[0m \u001b[1m26s\u001b[0m 37ms/step - accuracy: 0.9767 - loss: 0.0460 - val_accuracy: 0.6880 - val_loss: 2.3687\n"
     ]
    }
   ],
   "source": [
    "history = model2.fit(X_train, y_train, validation_split=0.1, epochs=10, batch_size=8)"
   ]
  },
  {
   "cell_type": "code",
   "execution_count": 23,
   "id": "e2e3d96a-a17a-4851-a3e7-709cf8d9c97c",
   "metadata": {},
   "outputs": [
    {
     "name": "stdout",
     "output_type": "stream",
     "text": [
      "\u001b[1m82/82\u001b[0m \u001b[32m━━━━━━━━━━━━━━━━━━━━\u001b[0m\u001b[37m\u001b[0m \u001b[1m0s\u001b[0m 5ms/step\n",
      "              precision    recall  f1-score   support\n",
      "\n",
      "           0       0.72      0.73      0.72      1088\n",
      "           1       0.64      0.66      0.65       889\n",
      "           2       0.67      0.63      0.65       632\n",
      "\n",
      "    accuracy                           0.68      2609\n",
      "   macro avg       0.68      0.67      0.67      2609\n",
      "weighted avg       0.68      0.68      0.68      2609\n",
      "\n",
      "0.6803372939823688\n"
     ]
    }
   ],
   "source": [
    "y_pred = [probs.tolist().index(max(probs)) for probs in model2.predict(X_test)]\n",
    "print(classification_report(y_test, y_pred))\n",
    "print(f1_score(y_test, y_pred, average='micro'))"
   ]
  }
 ],
 "metadata": {
  "kernelspec": {
   "display_name": "Python 3 (ipykernel)",
   "language": "python",
   "name": "python3"
  },
  "language_info": {
   "codemirror_mode": {
    "name": "ipython",
    "version": 3
   },
   "file_extension": ".py",
   "mimetype": "text/x-python",
   "name": "python",
   "nbconvert_exporter": "python",
   "pygments_lexer": "ipython3",
   "version": "3.12.4"
  }
 },
 "nbformat": 4,
 "nbformat_minor": 5
}
