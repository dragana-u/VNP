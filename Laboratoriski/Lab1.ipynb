{
 "cells": [
  {
   "cell_type": "markdown",
   "metadata": {
    "id": "skreU4ZawqQ_"
   },
   "source": [
    "# Lab Exercise 1. Scraping Static Websites\n"
   ]
  },
  {
   "cell_type": "markdown",
   "metadata": {
    "id": "VzAWoqz5wwT9"
   },
   "source": [
    "This is the warmup task for the first laboratory exercise. It consists of scraping static Websites with BeautifulSoap.\n",
    "\n",
    " It should be completed at home and presented at the laboratory."
   ]
  },
  {
   "cell_type": "markdown",
   "metadata": {
    "id": "qpdvbrsow5EE"
   },
   "source": [
    "**Total points: 2**"
   ]
  },
  {
   "cell_type": "markdown",
   "metadata": {
    "id": "6eDmGLrXx0t8"
   },
   "source": [
    "### Task Description"
   ]
  },
  {
   "cell_type": "markdown",
   "metadata": {
    "id": "RG42MHsDxAP_"
   },
   "source": [
    "Scrape the information about the products on the following page:\n",
    "https://clevershop.mk/product-category/mobilni-laptopi-i-tableti/"
   ]
  },
  {
   "cell_type": "markdown",
   "metadata": {
    "id": "uoTcMRl4xP3G"
   },
   "source": [
    "For each product scrape:\n",
    "\n",
    "\n",
    "*   Product title (selector `'.wd-entities-title'`)\n",
    "*   Product regular price (selector `'.woocommerce-Price-amount'`)\n",
    "*   Product discount price (if available), same selector as regular price\n",
    "*   URL to the product page\n",
    "*   Add to cart button URL\n",
    "\n",
    "***Help: There are multiple product pages, for each page you need to send a separate request***\n"
   ]
  },
  {
   "cell_type": "markdown",
   "metadata": {
    "id": "tc0QvUR8xxwt"
   },
   "source": [
    "Save the results as a DataFrame object"
   ]
  },
  {
   "cell_type": "markdown",
   "metadata": {
    "id": "peGjiUZLzbZt"
   },
   "source": [
    "You can add as many code cells as you need."
   ]
  },
  {
   "cell_type": "markdown",
   "metadata": {
    "id": "b7U-kwKSzUIV"
   },
   "source": [
    "________________________________________________________________"
   ]
  },
  {
   "cell_type": "markdown",
   "metadata": {
    "id": "yn5gyMzNx5Vk"
   },
   "source": [
    "### Requirements"
   ]
  },
  {
   "cell_type": "markdown",
   "metadata": {
    "id": "WZ3ifNLhx7tk"
   },
   "source": [
    "Import libraries and modules that you are going to use"
   ]
  },
  {
   "cell_type": "code",
   "execution_count": 1,
   "metadata": {
    "id": "GQ3zSO8WyJC_"
   },
   "outputs": [],
   "source": [
    "import requests\n",
    "from bs4 import BeautifulSoup\n",
    "import pandas as pd"
   ]
  },
  {
   "cell_type": "markdown",
   "metadata": {
    "id": "fsR71mugyJP7"
   },
   "source": [
    "### Send HTTP request to the target Website"
   ]
  },
  {
   "cell_type": "code",
   "execution_count": 2,
   "metadata": {
    "id": "61ImGen2yQff"
   },
   "outputs": [],
   "source": [
    "url = \"https://clevershop.mk/product-category/mobilni-laptopi-i-tableti/\""
   ]
  },
  {
   "cell_type": "code",
   "execution_count": 3,
   "metadata": {},
   "outputs": [],
   "source": [
    "response = requests.get(url)"
   ]
  },
  {
   "cell_type": "markdown",
   "metadata": {
    "id": "lFnRsSVJyXit"
   },
   "source": [
    "check the response status code"
   ]
  },
  {
   "cell_type": "code",
   "execution_count": 4,
   "metadata": {
    "id": "xy6xJ3RGyXUN"
   },
   "outputs": [
    {
     "data": {
      "text/plain": [
       "<Response [200]>"
      ]
     },
     "execution_count": 4,
     "metadata": {},
     "output_type": "execute_result"
    }
   ],
   "source": [
    "response"
   ]
  },
  {
   "cell_type": "markdown",
   "metadata": {
    "id": "-MykzAV4yQ4j"
   },
   "source": [
    "### Parse the response content with BeautifulSoap"
   ]
  },
  {
   "cell_type": "code",
   "execution_count": 5,
   "metadata": {
    "id": "F92A3wvlyUBc"
   },
   "outputs": [],
   "source": [
    "raw_html = response.text"
   ]
  },
  {
   "cell_type": "code",
   "execution_count": 6,
   "metadata": {},
   "outputs": [],
   "source": [
    "soup = BeautifulSoup(raw_html, \"html.parser\")"
   ]
  },
  {
   "cell_type": "markdown",
   "metadata": {
    "id": "F8hifMvVycfV"
   },
   "source": [
    "### Extract data from the BeautifulSoap object using any selectors, attribute identifiers, etc."
   ]
  },
  {
   "cell_type": "markdown",
   "metadata": {
    "id": "sHgfHr61y2tD"
   },
   "source": [
    "* Product title (selector '.wd-entities-title')\n",
    "* Product regular price (selector '.woocommerce-Price-amount')\n",
    "* Product discount price (if available), same selector as regular price\n",
    "* URL to the product page\n",
    "* Add to cart button URL"
   ]
  },
  {
   "cell_type": "code",
   "execution_count": 74,
   "metadata": {},
   "outputs": [],
   "source": [
    "products = []\n",
    "page_number = 1\n",
    "while True:\n",
    "    url_paged = url + \"page/\" + str(page_number) + \"/\"\n",
    "    response = requests.get(url_paged)\n",
    "    raw_html = response.text\n",
    "    soup = BeautifulSoup(raw_html, \"html.parser\")\n",
    "\n",
    "    products_on_page = soup.select(\".product-wrapper\")\n",
    "    if not products_on_page:\n",
    "        break;\n",
    "\n",
    "    for product in products_on_page:\n",
    "        title = product.select_one(\".wd-entities-title\").text.strip()\n",
    "        prices = product.find_all(\"span\", class_=\"woocommerce-Price-amount\")\n",
    "        if len(prices) == 1:\n",
    "            regular_price = prices[0].text.strip()\n",
    "            discount_price = None\n",
    "        elif len(prices) == 2:\n",
    "            regular_price = prices[0].text.strip()\n",
    "            discount_price = prices[1].text.strip()\n",
    "        else:\n",
    "            regular_price = None\n",
    "            discount_price = None\n",
    "            \n",
    "        url_to_product_page = product.select_one('.product-image-link').get(\"href\")\n",
    "\n",
    "        add_to_cart_url = product.select_one('.wd-add-btn a').get(\"href\")\n",
    "        add_to_cart_url = url + add_to_cart_url\n",
    "\n",
    "        product_dict = {\n",
    "            \"ProductTitle\" : title,\n",
    "            \"RegularPrice\" : regular_price,\n",
    "            \"DiscountPrice\" : discount_price,\n",
    "            \"URLToProductPage\" : url_to_product_page,\n",
    "            \"AddToCartURL\" : add_to_cart_url\n",
    "        }\n",
    "\n",
    "        products.append(product_dict)\n",
    "\n",
    "    page_number += 1"
   ]
  },
  {
   "cell_type": "code",
   "execution_count": 76,
   "metadata": {},
   "outputs": [
    {
     "data": {
      "text/plain": [
       "320"
      ]
     },
     "execution_count": 76,
     "metadata": {},
     "output_type": "execute_result"
    }
   ],
   "source": [
    "len(products)"
   ]
  },
  {
   "cell_type": "markdown",
   "metadata": {},
   "source": [
    "Helper:"
   ]
  },
  {
   "cell_type": "code",
   "execution_count": 78,
   "metadata": {},
   "outputs": [],
   "source": [
    "test = soup.select(\".product-wrapper\")\n",
    "urll = url + \"page/\" + str(1) + \"/\"\n",
    "for t in test:\n",
    "    naslov = t.select_one(\".wd-entities-title\").text.strip()\n",
    "    pr = t.find_all(\"span\", class_=\"woocommerce-Price-amount\")\n",
    "    if len(pr) ==  1:\n",
    "        reg = pr[0].text.strip()\n",
    "        dsc = None\n",
    "    elif len(pr) == 2:\n",
    "        reg = pr[0].text.strip()\n",
    "        dsc = pr[1].text.strip()\n",
    "    link = t.select_one('.product-image-link').get(\"href\")\n",
    "    cart = t.select_one('.wd-add-btn a').get(\"href\")\n",
    "    cart = url + cart\n",
    "    print(cart)\n"
   ]
  },
  {
   "cell_type": "markdown",
   "metadata": {
    "id": "gToy7d5Jy9Qk"
   },
   "source": [
    "Repeat the extraction process for each page of products"
   ]
  },
  {
   "cell_type": "markdown",
   "metadata": {
    "id": "R4OIUt0AynuU"
   },
   "source": [
    "### Create a pandas DataFrame with the scraped products"
   ]
  },
  {
   "cell_type": "code",
   "execution_count": 80,
   "metadata": {
    "id": "-wCzGEj8yrKU"
   },
   "outputs": [],
   "source": [
    "df = pd.DataFrame(products)"
   ]
  },
  {
   "cell_type": "code",
   "execution_count": 81,
   "metadata": {},
   "outputs": [
    {
     "data": {
      "text/html": [
       "<div>\n",
       "<style scoped>\n",
       "    .dataframe tbody tr th:only-of-type {\n",
       "        vertical-align: middle;\n",
       "    }\n",
       "\n",
       "    .dataframe tbody tr th {\n",
       "        vertical-align: top;\n",
       "    }\n",
       "\n",
       "    .dataframe thead th {\n",
       "        text-align: right;\n",
       "    }\n",
       "</style>\n",
       "<table border=\"1\" class=\"dataframe\">\n",
       "  <thead>\n",
       "    <tr style=\"text-align: right;\">\n",
       "      <th></th>\n",
       "      <th>ProductTitle</th>\n",
       "      <th>RegularPrice</th>\n",
       "      <th>DiscountPrice</th>\n",
       "      <th>URLToProductPage</th>\n",
       "      <th>AddToCartURL</th>\n",
       "    </tr>\n",
       "  </thead>\n",
       "  <tbody>\n",
       "    <tr>\n",
       "      <th>0</th>\n",
       "      <td>Acer A315-23-A7KD</td>\n",
       "      <td>17.590 ден</td>\n",
       "      <td>None</td>\n",
       "      <td>https://clevershop.mk/product/acer-a315-23-a7kd/</td>\n",
       "      <td>https://clevershop.mk/product-category/mobilni...</td>\n",
       "    </tr>\n",
       "    <tr>\n",
       "      <th>1</th>\n",
       "      <td>Acer A315-23-R5P2</td>\n",
       "      <td>27.490 ден</td>\n",
       "      <td>None</td>\n",
       "      <td>https://clevershop.mk/product/acer-a315-23-r5p2/</td>\n",
       "      <td>https://clevershop.mk/product-category/mobilni...</td>\n",
       "    </tr>\n",
       "    <tr>\n",
       "      <th>2</th>\n",
       "      <td>ACER Aspire 1 A115-22</td>\n",
       "      <td>18.999 ден</td>\n",
       "      <td>15.999 ден</td>\n",
       "      <td>https://clevershop.mk/product/acer-aspire-1-nx...</td>\n",
       "      <td>https://clevershop.mk/product-category/mobilni...</td>\n",
       "    </tr>\n",
       "    <tr>\n",
       "      <th>3</th>\n",
       "      <td>Acer Aspire 3 A315-23-R26A</td>\n",
       "      <td>29.990 ден</td>\n",
       "      <td>None</td>\n",
       "      <td>https://clevershop.mk/product/acer-aspire-3-a3...</td>\n",
       "      <td>https://clevershop.mk/product-category/mobilni...</td>\n",
       "    </tr>\n",
       "    <tr>\n",
       "      <th>4</th>\n",
       "      <td>Acer Aspire 3 A315-58-33WK</td>\n",
       "      <td>24.490 ден</td>\n",
       "      <td>None</td>\n",
       "      <td>https://clevershop.mk/product/21498/</td>\n",
       "      <td>https://clevershop.mk/product-category/mobilni...</td>\n",
       "    </tr>\n",
       "    <tr>\n",
       "      <th>...</th>\n",
       "      <td>...</td>\n",
       "      <td>...</td>\n",
       "      <td>...</td>\n",
       "      <td>...</td>\n",
       "      <td>...</td>\n",
       "    </tr>\n",
       "    <tr>\n",
       "      <th>315</th>\n",
       "      <td>Monitor 27 Philips 272E1GAJ/00 VA 1ms 144Hz</td>\n",
       "      <td>12.890 ден</td>\n",
       "      <td>None</td>\n",
       "      <td>https://clevershop.mk/product/monitor-27-phili...</td>\n",
       "      <td>https://clevershop.mk/product-category/mobilni...</td>\n",
       "    </tr>\n",
       "    <tr>\n",
       "      <th>316</th>\n",
       "      <td>Philips 24″ 243V7QDSB</td>\n",
       "      <td>8.390 ден</td>\n",
       "      <td>None</td>\n",
       "      <td>https://clevershop.mk/product/philips-24%e2%80...</td>\n",
       "      <td>https://clevershop.mk/product-category/mobilni...</td>\n",
       "    </tr>\n",
       "    <tr>\n",
       "      <th>317</th>\n",
       "      <td>Philips 27″ 278E1A/00 4K UHD IPS</td>\n",
       "      <td>18.990 ден</td>\n",
       "      <td>None</td>\n",
       "      <td>https://clevershop.mk/product/hp-27%e2%80%b3-2...</td>\n",
       "      <td>https://clevershop.mk/product-category/mobilni...</td>\n",
       "    </tr>\n",
       "    <tr>\n",
       "      <th>318</th>\n",
       "      <td>Philips 279C9-00 MON LED 27″ 3840 x 2160 5Ms 6...</td>\n",
       "      <td>26.990 ден</td>\n",
       "      <td>None</td>\n",
       "      <td>https://clevershop.mk/product/philips-279c9-00...</td>\n",
       "      <td>https://clevershop.mk/product-category/mobilni...</td>\n",
       "    </tr>\n",
       "    <tr>\n",
       "      <th>319</th>\n",
       "      <td>Xiaomi Redmi AirDots Wireless</td>\n",
       "      <td>990 ден</td>\n",
       "      <td>None</td>\n",
       "      <td>https://clevershop.mk/product/redmi-headphones/</td>\n",
       "      <td>https://clevershop.mk/product-category/mobilni...</td>\n",
       "    </tr>\n",
       "  </tbody>\n",
       "</table>\n",
       "<p>320 rows × 5 columns</p>\n",
       "</div>"
      ],
      "text/plain": [
       "                                          ProductTitle RegularPrice  \\\n",
       "0                                    Acer A315-23-A7KD   17.590 ден   \n",
       "1                                    Acer A315-23-R5P2   27.490 ден   \n",
       "2                                ACER Aspire 1 A115-22   18.999 ден   \n",
       "3                           Acer Aspire 3 A315-23-R26A   29.990 ден   \n",
       "4                           Acer Aspire 3 A315-58-33WK   24.490 ден   \n",
       "..                                                 ...          ...   \n",
       "315        Monitor 27 Philips 272E1GAJ/00 VA 1ms 144Hz   12.890 ден   \n",
       "316                              Philips 24″ 243V7QDSB    8.390 ден   \n",
       "317                   Philips 27″ 278E1A/00 4K UHD IPS   18.990 ден   \n",
       "318  Philips 279C9-00 MON LED 27″ 3840 x 2160 5Ms 6...   26.990 ден   \n",
       "319                      Xiaomi Redmi AirDots Wireless      990 ден   \n",
       "\n",
       "    DiscountPrice                                   URLToProductPage  \\\n",
       "0            None   https://clevershop.mk/product/acer-a315-23-a7kd/   \n",
       "1            None   https://clevershop.mk/product/acer-a315-23-r5p2/   \n",
       "2      15.999 ден  https://clevershop.mk/product/acer-aspire-1-nx...   \n",
       "3            None  https://clevershop.mk/product/acer-aspire-3-a3...   \n",
       "4            None               https://clevershop.mk/product/21498/   \n",
       "..            ...                                                ...   \n",
       "315          None  https://clevershop.mk/product/monitor-27-phili...   \n",
       "316          None  https://clevershop.mk/product/philips-24%e2%80...   \n",
       "317          None  https://clevershop.mk/product/hp-27%e2%80%b3-2...   \n",
       "318          None  https://clevershop.mk/product/philips-279c9-00...   \n",
       "319          None    https://clevershop.mk/product/redmi-headphones/   \n",
       "\n",
       "                                          AddToCartURL  \n",
       "0    https://clevershop.mk/product-category/mobilni...  \n",
       "1    https://clevershop.mk/product-category/mobilni...  \n",
       "2    https://clevershop.mk/product-category/mobilni...  \n",
       "3    https://clevershop.mk/product-category/mobilni...  \n",
       "4    https://clevershop.mk/product-category/mobilni...  \n",
       "..                                                 ...  \n",
       "315  https://clevershop.mk/product-category/mobilni...  \n",
       "316  https://clevershop.mk/product-category/mobilni...  \n",
       "317  https://clevershop.mk/product-category/mobilni...  \n",
       "318  https://clevershop.mk/product-category/mobilni...  \n",
       "319  https://clevershop.mk/product-category/mobilni...  \n",
       "\n",
       "[320 rows x 5 columns]"
      ]
     },
     "execution_count": 81,
     "metadata": {},
     "output_type": "execute_result"
    }
   ],
   "source": [
    "df"
   ]
  },
  {
   "cell_type": "markdown",
   "metadata": {
    "id": "Rxbi54EOyrb8"
   },
   "source": [
    "Save the dataframe as `.csv`"
   ]
  },
  {
   "cell_type": "code",
   "execution_count": 82,
   "metadata": {
    "id": "TLNfZQ07yuQE"
   },
   "outputs": [],
   "source": [
    "df.to_csv('products-clever-shop.csv', index=False)"
   ]
  }
 ],
 "metadata": {
  "colab": {
   "provenance": []
  },
  "kernelspec": {
   "display_name": "Python 3 (ipykernel)",
   "language": "python",
   "name": "python3"
  },
  "language_info": {
   "codemirror_mode": {
    "name": "ipython",
    "version": 3
   },
   "file_extension": ".py",
   "mimetype": "text/x-python",
   "name": "python",
   "nbconvert_exporter": "python",
   "pygments_lexer": "ipython3",
   "version": "3.12.4"
  }
 },
 "nbformat": 4,
 "nbformat_minor": 4
}
