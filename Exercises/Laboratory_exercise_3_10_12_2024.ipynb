{
  "cells": [
    {
      "cell_type": "markdown",
      "metadata": {
        "id": "rODb9vHvIEbp"
      },
      "source": [
        "# Requirements"
      ]
    },
    {
      "cell_type": "code",
      "execution_count": 38,
      "metadata": {
        "id": "-rgNa1IOH9KV"
      },
      "outputs": [],
      "source": [
        "import pandas as pd\n",
        "import seaborn as sns\n",
        "from sklearn.model_selection import train_test_split\n",
        "from sklearn.preprocessing import MinMaxScaler"
      ]
    },
    {
      "cell_type": "code",
      "execution_count": 33,
      "metadata": {
        "id": "U4KmHBd2cdx9"
      },
      "outputs": [],
      "source": [
        "# Add as many imports as you need."
      ]
    },
    {
      "cell_type": "markdown",
      "metadata": {
        "id": "_rAh_91OIjeS"
      },
      "source": [
        "## Introduction\n",
        "In this laboratory assignment, the focus is on time series forecasting, specifically targeting the prediction of the current **close price** for Bitcoin. To accomplish this, you will use data from the preceding 7 days, and past statistics.\n"
      ]
    },
    {
      "cell_type": "markdown",
      "metadata": {
        "id": "zBYI-EypaWom"
      },
      "source": [
        "## The Amazon Stock Price Dataset"
      ]
    },
    {
      "cell_type": "markdown",
      "metadata": {
        "id": "iAtPoYzAZo1v"
      },
      "source": [
        "The dataset comprises the following columns:\n",
        "- date - the date of the recorded price\n",
        "- symbol - the resource for prediction\n",
        "- open - the open price of BTC\n",
        "- high - the high price of BTC\n",
        "- low - the low price of BTC\n",
        "- volumeBTC - the volume of trades BTC\n",
        "- volumeUSD - the volume of trades USD\n",
        "- close - the close price of BTC\n",
        "\n",
        "Target:\n",
        "close"
      ]
    },
    {
      "cell_type": "markdown",
      "metadata": {
        "id": "DCm1qm1mZwMr"
      },
      "source": [
        "Load the dataset into a `pandas` data frame."
      ]
    },
    {
      "cell_type": "code",
      "execution_count": 39,
      "metadata": {
        "id": "KMOn4fgcZn8s",
        "colab": {
          "base_uri": "https://localhost:8080/",
          "height": 424
        },
        "outputId": "de8e0012-3cdd-4e5e-f7d0-ab48394c7e26"
      },
      "outputs": [
        {
          "output_type": "execute_result",
          "data": {
            "text/plain": [
              "                 date   symbol      open      high       low     close  \\\n",
              "0       3/1/2022 0:00  BTC/USD  43221.71  43626.49  43185.48  43185.48   \n",
              "1      2/28/2022 0:00  BTC/USD  37717.10  44256.08  37468.99  43178.98   \n",
              "2      2/27/2022 0:00  BTC/USD  39146.66  39886.92  37015.74  37712.68   \n",
              "3      2/26/2022 0:00  BTC/USD  39242.64  40330.99  38600.00  39146.66   \n",
              "4      2/25/2022 0:00  BTC/USD  38360.93  39727.97  38027.61  39231.64   \n",
              "...               ...      ...       ...       ...       ...       ...   \n",
              "2646   12/2/2014 0:00  BTC/USD    378.39    382.86    375.23    379.25   \n",
              "2647   12/1/2014 0:00  BTC/USD    376.40    382.31    373.03    378.39   \n",
              "2648  11/30/2014 0:00  BTC/USD    376.57    381.99    373.32    373.34   \n",
              "2649  11/29/2014 0:00  BTC/USD    376.42    386.60    372.25    376.72   \n",
              "2650  11/28/2014 0:00  BTC/USD    363.59    381.34    360.57    376.28   \n",
              "\n",
              "        Volume BTC    Volume USD  \n",
              "0     4.900629e+01  2.116360e+06  \n",
              "1     3.160618e+03  1.364723e+08  \n",
              "2     1.701817e+03  6.418008e+07  \n",
              "3     9.127241e+02  3.573010e+07  \n",
              "4     2.202852e+03  8.642149e+07  \n",
              "...            ...           ...  \n",
              "2646  2.593576e+06  6.832530e+03  \n",
              "2647  2.520662e+06  6.660560e+03  \n",
              "2648  1.145567e+06  3.046330e+03  \n",
              "2649  2.746157e+06  7.245190e+03  \n",
              "2650  3.220878e+06  8.617150e+03  \n",
              "\n",
              "[2651 rows x 8 columns]"
            ],
            "text/html": [
              "\n",
              "  <div id=\"df-f4885aab-ff6e-43d1-8558-a82d026c77ee\" class=\"colab-df-container\">\n",
              "    <div>\n",
              "<style scoped>\n",
              "    .dataframe tbody tr th:only-of-type {\n",
              "        vertical-align: middle;\n",
              "    }\n",
              "\n",
              "    .dataframe tbody tr th {\n",
              "        vertical-align: top;\n",
              "    }\n",
              "\n",
              "    .dataframe thead th {\n",
              "        text-align: right;\n",
              "    }\n",
              "</style>\n",
              "<table border=\"1\" class=\"dataframe\">\n",
              "  <thead>\n",
              "    <tr style=\"text-align: right;\">\n",
              "      <th></th>\n",
              "      <th>date</th>\n",
              "      <th>symbol</th>\n",
              "      <th>open</th>\n",
              "      <th>high</th>\n",
              "      <th>low</th>\n",
              "      <th>close</th>\n",
              "      <th>Volume BTC</th>\n",
              "      <th>Volume USD</th>\n",
              "    </tr>\n",
              "  </thead>\n",
              "  <tbody>\n",
              "    <tr>\n",
              "      <th>0</th>\n",
              "      <td>3/1/2022 0:00</td>\n",
              "      <td>BTC/USD</td>\n",
              "      <td>43221.71</td>\n",
              "      <td>43626.49</td>\n",
              "      <td>43185.48</td>\n",
              "      <td>43185.48</td>\n",
              "      <td>4.900629e+01</td>\n",
              "      <td>2.116360e+06</td>\n",
              "    </tr>\n",
              "    <tr>\n",
              "      <th>1</th>\n",
              "      <td>2/28/2022 0:00</td>\n",
              "      <td>BTC/USD</td>\n",
              "      <td>37717.10</td>\n",
              "      <td>44256.08</td>\n",
              "      <td>37468.99</td>\n",
              "      <td>43178.98</td>\n",
              "      <td>3.160618e+03</td>\n",
              "      <td>1.364723e+08</td>\n",
              "    </tr>\n",
              "    <tr>\n",
              "      <th>2</th>\n",
              "      <td>2/27/2022 0:00</td>\n",
              "      <td>BTC/USD</td>\n",
              "      <td>39146.66</td>\n",
              "      <td>39886.92</td>\n",
              "      <td>37015.74</td>\n",
              "      <td>37712.68</td>\n",
              "      <td>1.701817e+03</td>\n",
              "      <td>6.418008e+07</td>\n",
              "    </tr>\n",
              "    <tr>\n",
              "      <th>3</th>\n",
              "      <td>2/26/2022 0:00</td>\n",
              "      <td>BTC/USD</td>\n",
              "      <td>39242.64</td>\n",
              "      <td>40330.99</td>\n",
              "      <td>38600.00</td>\n",
              "      <td>39146.66</td>\n",
              "      <td>9.127241e+02</td>\n",
              "      <td>3.573010e+07</td>\n",
              "    </tr>\n",
              "    <tr>\n",
              "      <th>4</th>\n",
              "      <td>2/25/2022 0:00</td>\n",
              "      <td>BTC/USD</td>\n",
              "      <td>38360.93</td>\n",
              "      <td>39727.97</td>\n",
              "      <td>38027.61</td>\n",
              "      <td>39231.64</td>\n",
              "      <td>2.202852e+03</td>\n",
              "      <td>8.642149e+07</td>\n",
              "    </tr>\n",
              "    <tr>\n",
              "      <th>...</th>\n",
              "      <td>...</td>\n",
              "      <td>...</td>\n",
              "      <td>...</td>\n",
              "      <td>...</td>\n",
              "      <td>...</td>\n",
              "      <td>...</td>\n",
              "      <td>...</td>\n",
              "      <td>...</td>\n",
              "    </tr>\n",
              "    <tr>\n",
              "      <th>2646</th>\n",
              "      <td>12/2/2014 0:00</td>\n",
              "      <td>BTC/USD</td>\n",
              "      <td>378.39</td>\n",
              "      <td>382.86</td>\n",
              "      <td>375.23</td>\n",
              "      <td>379.25</td>\n",
              "      <td>2.593576e+06</td>\n",
              "      <td>6.832530e+03</td>\n",
              "    </tr>\n",
              "    <tr>\n",
              "      <th>2647</th>\n",
              "      <td>12/1/2014 0:00</td>\n",
              "      <td>BTC/USD</td>\n",
              "      <td>376.40</td>\n",
              "      <td>382.31</td>\n",
              "      <td>373.03</td>\n",
              "      <td>378.39</td>\n",
              "      <td>2.520662e+06</td>\n",
              "      <td>6.660560e+03</td>\n",
              "    </tr>\n",
              "    <tr>\n",
              "      <th>2648</th>\n",
              "      <td>11/30/2014 0:00</td>\n",
              "      <td>BTC/USD</td>\n",
              "      <td>376.57</td>\n",
              "      <td>381.99</td>\n",
              "      <td>373.32</td>\n",
              "      <td>373.34</td>\n",
              "      <td>1.145567e+06</td>\n",
              "      <td>3.046330e+03</td>\n",
              "    </tr>\n",
              "    <tr>\n",
              "      <th>2649</th>\n",
              "      <td>11/29/2014 0:00</td>\n",
              "      <td>BTC/USD</td>\n",
              "      <td>376.42</td>\n",
              "      <td>386.60</td>\n",
              "      <td>372.25</td>\n",
              "      <td>376.72</td>\n",
              "      <td>2.746157e+06</td>\n",
              "      <td>7.245190e+03</td>\n",
              "    </tr>\n",
              "    <tr>\n",
              "      <th>2650</th>\n",
              "      <td>11/28/2014 0:00</td>\n",
              "      <td>BTC/USD</td>\n",
              "      <td>363.59</td>\n",
              "      <td>381.34</td>\n",
              "      <td>360.57</td>\n",
              "      <td>376.28</td>\n",
              "      <td>3.220878e+06</td>\n",
              "      <td>8.617150e+03</td>\n",
              "    </tr>\n",
              "  </tbody>\n",
              "</table>\n",
              "<p>2651 rows × 8 columns</p>\n",
              "</div>\n",
              "    <div class=\"colab-df-buttons\">\n",
              "\n",
              "  <div class=\"colab-df-container\">\n",
              "    <button class=\"colab-df-convert\" onclick=\"convertToInteractive('df-f4885aab-ff6e-43d1-8558-a82d026c77ee')\"\n",
              "            title=\"Convert this dataframe to an interactive table.\"\n",
              "            style=\"display:none;\">\n",
              "\n",
              "  <svg xmlns=\"http://www.w3.org/2000/svg\" height=\"24px\" viewBox=\"0 -960 960 960\">\n",
              "    <path d=\"M120-120v-720h720v720H120Zm60-500h600v-160H180v160Zm220 220h160v-160H400v160Zm0 220h160v-160H400v160ZM180-400h160v-160H180v160Zm440 0h160v-160H620v160ZM180-180h160v-160H180v160Zm440 0h160v-160H620v160Z\"/>\n",
              "  </svg>\n",
              "    </button>\n",
              "\n",
              "  <style>\n",
              "    .colab-df-container {\n",
              "      display:flex;\n",
              "      gap: 12px;\n",
              "    }\n",
              "\n",
              "    .colab-df-convert {\n",
              "      background-color: #E8F0FE;\n",
              "      border: none;\n",
              "      border-radius: 50%;\n",
              "      cursor: pointer;\n",
              "      display: none;\n",
              "      fill: #1967D2;\n",
              "      height: 32px;\n",
              "      padding: 0 0 0 0;\n",
              "      width: 32px;\n",
              "    }\n",
              "\n",
              "    .colab-df-convert:hover {\n",
              "      background-color: #E2EBFA;\n",
              "      box-shadow: 0px 1px 2px rgba(60, 64, 67, 0.3), 0px 1px 3px 1px rgba(60, 64, 67, 0.15);\n",
              "      fill: #174EA6;\n",
              "    }\n",
              "\n",
              "    .colab-df-buttons div {\n",
              "      margin-bottom: 4px;\n",
              "    }\n",
              "\n",
              "    [theme=dark] .colab-df-convert {\n",
              "      background-color: #3B4455;\n",
              "      fill: #D2E3FC;\n",
              "    }\n",
              "\n",
              "    [theme=dark] .colab-df-convert:hover {\n",
              "      background-color: #434B5C;\n",
              "      box-shadow: 0px 1px 3px 1px rgba(0, 0, 0, 0.15);\n",
              "      filter: drop-shadow(0px 1px 2px rgba(0, 0, 0, 0.3));\n",
              "      fill: #FFFFFF;\n",
              "    }\n",
              "  </style>\n",
              "\n",
              "    <script>\n",
              "      const buttonEl =\n",
              "        document.querySelector('#df-f4885aab-ff6e-43d1-8558-a82d026c77ee button.colab-df-convert');\n",
              "      buttonEl.style.display =\n",
              "        google.colab.kernel.accessAllowed ? 'block' : 'none';\n",
              "\n",
              "      async function convertToInteractive(key) {\n",
              "        const element = document.querySelector('#df-f4885aab-ff6e-43d1-8558-a82d026c77ee');\n",
              "        const dataTable =\n",
              "          await google.colab.kernel.invokeFunction('convertToInteractive',\n",
              "                                                    [key], {});\n",
              "        if (!dataTable) return;\n",
              "\n",
              "        const docLinkHtml = 'Like what you see? Visit the ' +\n",
              "          '<a target=\"_blank\" href=https://colab.research.google.com/notebooks/data_table.ipynb>data table notebook</a>'\n",
              "          + ' to learn more about interactive tables.';\n",
              "        element.innerHTML = '';\n",
              "        dataTable['output_type'] = 'display_data';\n",
              "        await google.colab.output.renderOutput(dataTable, element);\n",
              "        const docLink = document.createElement('div');\n",
              "        docLink.innerHTML = docLinkHtml;\n",
              "        element.appendChild(docLink);\n",
              "      }\n",
              "    </script>\n",
              "  </div>\n",
              "\n",
              "\n",
              "<div id=\"df-7dd1d8f9-b452-4f18-b5ac-55838160b853\">\n",
              "  <button class=\"colab-df-quickchart\" onclick=\"quickchart('df-7dd1d8f9-b452-4f18-b5ac-55838160b853')\"\n",
              "            title=\"Suggest charts\"\n",
              "            style=\"display:none;\">\n",
              "\n",
              "<svg xmlns=\"http://www.w3.org/2000/svg\" height=\"24px\"viewBox=\"0 0 24 24\"\n",
              "     width=\"24px\">\n",
              "    <g>\n",
              "        <path d=\"M19 3H5c-1.1 0-2 .9-2 2v14c0 1.1.9 2 2 2h14c1.1 0 2-.9 2-2V5c0-1.1-.9-2-2-2zM9 17H7v-7h2v7zm4 0h-2V7h2v10zm4 0h-2v-4h2v4z\"/>\n",
              "    </g>\n",
              "</svg>\n",
              "  </button>\n",
              "\n",
              "<style>\n",
              "  .colab-df-quickchart {\n",
              "      --bg-color: #E8F0FE;\n",
              "      --fill-color: #1967D2;\n",
              "      --hover-bg-color: #E2EBFA;\n",
              "      --hover-fill-color: #174EA6;\n",
              "      --disabled-fill-color: #AAA;\n",
              "      --disabled-bg-color: #DDD;\n",
              "  }\n",
              "\n",
              "  [theme=dark] .colab-df-quickchart {\n",
              "      --bg-color: #3B4455;\n",
              "      --fill-color: #D2E3FC;\n",
              "      --hover-bg-color: #434B5C;\n",
              "      --hover-fill-color: #FFFFFF;\n",
              "      --disabled-bg-color: #3B4455;\n",
              "      --disabled-fill-color: #666;\n",
              "  }\n",
              "\n",
              "  .colab-df-quickchart {\n",
              "    background-color: var(--bg-color);\n",
              "    border: none;\n",
              "    border-radius: 50%;\n",
              "    cursor: pointer;\n",
              "    display: none;\n",
              "    fill: var(--fill-color);\n",
              "    height: 32px;\n",
              "    padding: 0;\n",
              "    width: 32px;\n",
              "  }\n",
              "\n",
              "  .colab-df-quickchart:hover {\n",
              "    background-color: var(--hover-bg-color);\n",
              "    box-shadow: 0 1px 2px rgba(60, 64, 67, 0.3), 0 1px 3px 1px rgba(60, 64, 67, 0.15);\n",
              "    fill: var(--button-hover-fill-color);\n",
              "  }\n",
              "\n",
              "  .colab-df-quickchart-complete:disabled,\n",
              "  .colab-df-quickchart-complete:disabled:hover {\n",
              "    background-color: var(--disabled-bg-color);\n",
              "    fill: var(--disabled-fill-color);\n",
              "    box-shadow: none;\n",
              "  }\n",
              "\n",
              "  .colab-df-spinner {\n",
              "    border: 2px solid var(--fill-color);\n",
              "    border-color: transparent;\n",
              "    border-bottom-color: var(--fill-color);\n",
              "    animation:\n",
              "      spin 1s steps(1) infinite;\n",
              "  }\n",
              "\n",
              "  @keyframes spin {\n",
              "    0% {\n",
              "      border-color: transparent;\n",
              "      border-bottom-color: var(--fill-color);\n",
              "      border-left-color: var(--fill-color);\n",
              "    }\n",
              "    20% {\n",
              "      border-color: transparent;\n",
              "      border-left-color: var(--fill-color);\n",
              "      border-top-color: var(--fill-color);\n",
              "    }\n",
              "    30% {\n",
              "      border-color: transparent;\n",
              "      border-left-color: var(--fill-color);\n",
              "      border-top-color: var(--fill-color);\n",
              "      border-right-color: var(--fill-color);\n",
              "    }\n",
              "    40% {\n",
              "      border-color: transparent;\n",
              "      border-right-color: var(--fill-color);\n",
              "      border-top-color: var(--fill-color);\n",
              "    }\n",
              "    60% {\n",
              "      border-color: transparent;\n",
              "      border-right-color: var(--fill-color);\n",
              "    }\n",
              "    80% {\n",
              "      border-color: transparent;\n",
              "      border-right-color: var(--fill-color);\n",
              "      border-bottom-color: var(--fill-color);\n",
              "    }\n",
              "    90% {\n",
              "      border-color: transparent;\n",
              "      border-bottom-color: var(--fill-color);\n",
              "    }\n",
              "  }\n",
              "</style>\n",
              "\n",
              "  <script>\n",
              "    async function quickchart(key) {\n",
              "      const quickchartButtonEl =\n",
              "        document.querySelector('#' + key + ' button');\n",
              "      quickchartButtonEl.disabled = true;  // To prevent multiple clicks.\n",
              "      quickchartButtonEl.classList.add('colab-df-spinner');\n",
              "      try {\n",
              "        const charts = await google.colab.kernel.invokeFunction(\n",
              "            'suggestCharts', [key], {});\n",
              "      } catch (error) {\n",
              "        console.error('Error during call to suggestCharts:', error);\n",
              "      }\n",
              "      quickchartButtonEl.classList.remove('colab-df-spinner');\n",
              "      quickchartButtonEl.classList.add('colab-df-quickchart-complete');\n",
              "    }\n",
              "    (() => {\n",
              "      let quickchartButtonEl =\n",
              "        document.querySelector('#df-7dd1d8f9-b452-4f18-b5ac-55838160b853 button');\n",
              "      quickchartButtonEl.style.display =\n",
              "        google.colab.kernel.accessAllowed ? 'block' : 'none';\n",
              "    })();\n",
              "  </script>\n",
              "</div>\n",
              "    </div>\n",
              "  </div>\n"
            ],
            "application/vnd.google.colaboratory.intrinsic+json": {
              "type": "dataframe",
              "variable_name": "data",
              "summary": "{\n  \"name\": \"data\",\n  \"rows\": 2651,\n  \"fields\": [\n    {\n      \"column\": \"date\",\n      \"properties\": {\n        \"dtype\": \"object\",\n        \"num_unique_values\": 2651,\n        \"samples\": [\n          \"5/28/2015 0:00\",\n          \"9/9/2021 0:00\",\n          \"10/19/2018 0:00\"\n        ],\n        \"semantic_type\": \"\",\n        \"description\": \"\"\n      }\n    },\n    {\n      \"column\": \"symbol\",\n      \"properties\": {\n        \"dtype\": \"category\",\n        \"num_unique_values\": 1,\n        \"samples\": [\n          \"BTC/USD\"\n        ],\n        \"semantic_type\": \"\",\n        \"description\": \"\"\n      }\n    },\n    {\n      \"column\": \"open\",\n      \"properties\": {\n        \"dtype\": \"number\",\n        \"std\": 16272.554746456606,\n        \"min\": 162.0,\n        \"max\": 67547.49,\n        \"num_unique_values\": 2631,\n        \"samples\": [\n          32306.98\n        ],\n        \"semantic_type\": \"\",\n        \"description\": \"\"\n      }\n    },\n    {\n      \"column\": \"high\",\n      \"properties\": {\n        \"dtype\": \"number\",\n        \"std\": 16739.237000116806,\n        \"min\": 212.84,\n        \"max\": 69000.0,\n        \"num_unique_values\": 2567,\n        \"samples\": [\n          11247.62\n        ],\n        \"semantic_type\": \"\",\n        \"description\": \"\"\n      }\n    },\n    {\n      \"column\": \"low\",\n      \"properties\": {\n        \"dtype\": \"number\",\n        \"std\": 15718.29751134247,\n        \"min\": 152.4,\n        \"max\": 66250.0,\n        \"num_unique_values\": 2558,\n        \"samples\": [\n          249.0\n        ],\n        \"semantic_type\": \"\",\n        \"description\": \"\"\n      }\n    },\n    {\n      \"column\": \"close\",\n      \"properties\": {\n        \"dtype\": \"number\",\n        \"std\": 16282.908703967005,\n        \"min\": 162.0,\n        \"max\": 67559.0,\n        \"num_unique_values\": 2631,\n        \"samples\": [\n          33684.17\n        ],\n        \"semantic_type\": \"\",\n        \"description\": \"\"\n      }\n    },\n    {\n      \"column\": \"Volume BTC\",\n      \"properties\": {\n        \"dtype\": \"number\",\n        \"std\": 47153664.51635313,\n        \"min\": 0.0,\n        \"max\": 772329454.8,\n        \"num_unique_values\": 2644,\n        \"samples\": [\n          28154.41356\n        ],\n        \"semantic_type\": \"\",\n        \"description\": \"\"\n      }\n    },\n    {\n      \"column\": \"Volume USD\",\n      \"properties\": {\n        \"dtype\": \"number\",\n        \"std\": 107283803.79996635,\n        \"min\": 0.0,\n        \"max\": 1446125474.0765376,\n        \"num_unique_values\": 2642,\n        \"samples\": [\n          11529.17\n        ],\n        \"semantic_type\": \"\",\n        \"description\": \"\"\n      }\n    }\n  ]\n}"
            }
          },
          "metadata": {},
          "execution_count": 39
        }
      ],
      "source": [
        "data = pd.read_csv(\"BTC-Daily.csv\")\n",
        "data"
      ]
    },
    {
      "cell_type": "markdown",
      "metadata": {
        "id": "5slwyyhCKRo9"
      },
      "source": [
        "Explore the dataset using visualizations of your choice."
      ]
    },
    {
      "cell_type": "code",
      "execution_count": 40,
      "metadata": {
        "id": "DFY6TKhGKOY4",
        "colab": {
          "base_uri": "https://localhost:8080/",
          "height": 448
        },
        "outputId": "53bf33ee-2557-445d-8cb3-7d7c45163fff"
      },
      "outputs": [
        {
          "output_type": "execute_result",
          "data": {
            "text/plain": [
              "<Axes: ylabel='close'>"
            ]
          },
          "metadata": {},
          "execution_count": 40
        },
        {
          "output_type": "display_data",
          "data": {
            "text/plain": [
              "<Figure size 640x480 with 1 Axes>"
            ],
            "image/png": "[encoded data removed]"
          },
          "metadata": {}
        }
      ],
      "source": [
        "sns.lineplot(data[\"close\"])"
      ]
    },
    {
      "cell_type": "code",
      "source": [
        "sns.lineplot(data[\"open\"])"
      ],
      "metadata": {
        "colab": {
          "base_uri": "https://localhost:8080/",
          "height": 448
        },
        "id": "Uu9pt52sdWFG",
        "outputId": "7241f38f-7fad-44a3-a21c-97a418359f9e"
      },
      "execution_count": 41,
      "outputs": [
        {
          "output_type": "execute_result",
          "data": {
            "text/plain": [
              "<Axes: ylabel='open'>"
            ]
          },
          "metadata": {},
          "execution_count": 41
        },
        {
          "output_type": "display_data",
          "data": {
            "text/plain": [
              "<Figure size 640x480 with 1 Axes>"
            ],
            "image/png": "[encoded data removed]"
          },
          "metadata": {}
        }
      ]
    },
    {
      "cell_type": "code",
      "source": [
        "sns.heatmap(data.drop(columns=['date','symbol'],axis=1).corr(), annot=True, fmt=\".2f\")"
      ],
      "metadata": {
        "colab": {
          "base_uri": "https://localhost:8080/",
          "height": 524
        },
        "id": "lgx3VSXrdcxV",
        "outputId": "558812e1-47b8-49ed-b404-969e38ff9ad0"
      },
      "execution_count": 42,
      "outputs": [
        {
          "output_type": "execute_result",
          "data": {
            "text/plain": [
              "<Axes: >"
            ]
          },
          "metadata": {},
          "execution_count": 42
        },
        {
          "output_type": "display_data",
          "data": {
            "text/plain": [
              "<Figure size 640x480 with 2 Axes>"
            ],
            "image/png": "[encoded data removed]"
          },
          "metadata": {}
        }
      ]
    },
    {
      "cell_type": "markdown",
      "metadata": {
        "id": "hZceBEFuiGpI"
      },
      "source": [
        "# Feauture Extraction\n",
        "Select the relevant features for prediction and apply a lag of up to 7 days to each chosen feature\n",
        "\n",
        "Hint: Use `df['column_name'].shift(period)`. Check the documentation at https://pandas.pydata.org/docs/reference/api/pandas.DataFrame.shift.html."
      ]
    },
    {
      "cell_type": "code",
      "execution_count": 43,
      "metadata": {
        "id": "qHwGg9ieiFL1",
        "colab": {
          "base_uri": "https://localhost:8080/"
        },
        "outputId": "cc80de6e-644f-4256-ad78-d73e0de7439f"
      },
      "outputs": [
        {
          "output_type": "execute_result",
          "data": {
            "text/plain": [
              "[7, 6, 5, 4, 3, 2, 1]"
            ]
          },
          "metadata": {},
          "execution_count": 43
        }
      ],
      "source": [
        "lags = range(7, 0, -1)\n",
        "list(lags)"
      ]
    },
    {
      "cell_type": "code",
      "source": [
        "data = data.drop(columns=['open','symbol','low','high','Volume BTC', 'Volume USD'],axis=1)"
      ],
      "metadata": {
        "id": "oDYpWPvKeE_s"
      },
      "execution_count": 44,
      "outputs": []
    },
    {
      "cell_type": "code",
      "source": [
        "data[\"date\"] = pd.to_datetime(data[\"date\"])\n",
        "data.set_index(keys=[\"date\"], inplace=True)\n",
        "data.sort_index(inplace=True)\n",
        "data"
      ],
      "metadata": {
        "colab": {
          "base_uri": "https://localhost:8080/",
          "height": 455
        },
        "id": "dZ9E4r2fecpO",
        "outputId": "d5785a6f-6981-41c9-8d66-e8b53fe8eb5d"
      },
      "execution_count": 45,
      "outputs": [
        {
          "output_type": "execute_result",
          "data": {
            "text/plain": [
              "               close\n",
              "date                \n",
              "2014-11-28    376.28\n",
              "2014-11-29    376.72\n",
              "2014-11-30    373.34\n",
              "2014-12-01    378.39\n",
              "2014-12-02    379.25\n",
              "...              ...\n",
              "2022-02-25  39231.64\n",
              "2022-02-26  39146.66\n",
              "2022-02-27  37712.68\n",
              "2022-02-28  43178.98\n",
              "2022-03-01  43185.48\n",
              "\n",
              "[2651 rows x 1 columns]"
            ],
            "text/html": [
              "\n",
              "  <div id=\"df-63bb16b8-e24c-4028-9589-f19c2b070d6e\" class=\"colab-df-container\">\n",
              "    <div>\n",
              "<style scoped>\n",
              "    .dataframe tbody tr th:only-of-type {\n",
              "        vertical-align: middle;\n",
              "    }\n",
              "\n",
              "    .dataframe tbody tr th {\n",
              "        vertical-align: top;\n",
              "    }\n",
              "\n",
              "    .dataframe thead th {\n",
              "        text-align: right;\n",
              "    }\n",
              "</style>\n",
              "<table border=\"1\" class=\"dataframe\">\n",
              "  <thead>\n",
              "    <tr style=\"text-align: right;\">\n",
              "      <th></th>\n",
              "      <th>close</th>\n",
              "    </tr>\n",
              "    <tr>\n",
              "      <th>date</th>\n",
              "      <th></th>\n",
              "    </tr>\n",
              "  </thead>\n",
              "  <tbody>\n",
              "    <tr>\n",
              "      <th>2014-11-28</th>\n",
              "      <td>376.28</td>\n",
              "    </tr>\n",
              "    <tr>\n",
              "      <th>2014-11-29</th>\n",
              "      <td>376.72</td>\n",
              "    </tr>\n",
              "    <tr>\n",
              "      <th>2014-11-30</th>\n",
              "      <td>373.34</td>\n",
              "    </tr>\n",
              "    <tr>\n",
              "      <th>2014-12-01</th>\n",
              "      <td>378.39</td>\n",
              "    </tr>\n",
              "    <tr>\n",
              "      <th>2014-12-02</th>\n",
              "      <td>379.25</td>\n",
              "    </tr>\n",
              "    <tr>\n",
              "      <th>...</th>\n",
              "      <td>...</td>\n",
              "    </tr>\n",
              "    <tr>\n",
              "      <th>2022-02-25</th>\n",
              "      <td>39231.64</td>\n",
              "    </tr>\n",
              "    <tr>\n",
              "      <th>2022-02-26</th>\n",
              "      <td>39146.66</td>\n",
              "    </tr>\n",
              "    <tr>\n",
              "      <th>2022-02-27</th>\n",
              "      <td>37712.68</td>\n",
              "    </tr>\n",
              "    <tr>\n",
              "      <th>2022-02-28</th>\n",
              "      <td>43178.98</td>\n",
              "    </tr>\n",
              "    <tr>\n",
              "      <th>2022-03-01</th>\n",
              "      <td>43185.48</td>\n",
              "    </tr>\n",
              "  </tbody>\n",
              "</table>\n",
              "<p>2651 rows × 1 columns</p>\n",
              "</div>\n",
              "    <div class=\"colab-df-buttons\">\n",
              "\n",
              "  <div class=\"colab-df-container\">\n",
              "    <button class=\"colab-df-convert\" onclick=\"convertToInteractive('df-63bb16b8-e24c-4028-9589-f19c2b070d6e')\"\n",
              "            title=\"Convert this dataframe to an interactive table.\"\n",
              "            style=\"display:none;\">\n",
              "\n",
              "  <svg xmlns=\"http://www.w3.org/2000/svg\" height=\"24px\" viewBox=\"0 -960 960 960\">\n",
              "    <path d=\"M120-120v-720h720v720H120Zm60-500h600v-160H180v160Zm220 220h160v-160H400v160Zm0 220h160v-160H400v160ZM180-400h160v-160H180v160Zm440 0h160v-160H620v160ZM180-180h160v-160H180v160Zm440 0h160v-160H620v160Z\"/>\n",
              "  </svg>\n",
              "    </button>\n",
              "\n",
              "  <style>\n",
              "    .colab-df-container {\n",
              "      display:flex;\n",
              "      gap: 12px;\n",
              "    }\n",
              "\n",
              "    .colab-df-convert {\n",
              "      background-color: #E8F0FE;\n",
              "      border: none;\n",
              "      border-radius: 50%;\n",
              "      cursor: pointer;\n",
              "      display: none;\n",
              "      fill: #1967D2;\n",
              "      height: 32px;\n",
              "      padding: 0 0 0 0;\n",
              "      width: 32px;\n",
              "    }\n",
              "\n",
              "    .colab-df-convert:hover {\n",
              "      background-color: #E2EBFA;\n",
              "      box-shadow: 0px 1px 2px rgba(60, 64, 67, 0.3), 0px 1px 3px 1px rgba(60, 64, 67, 0.15);\n",
              "      fill: #174EA6;\n",
              "    }\n",
              "\n",
              "    .colab-df-buttons div {\n",
              "      margin-bottom: 4px;\n",
              "    }\n",
              "\n",
              "    [theme=dark] .colab-df-convert {\n",
              "      background-color: #3B4455;\n",
              "      fill: #D2E3FC;\n",
              "    }\n",
              "\n",
              "    [theme=dark] .colab-df-convert:hover {\n",
              "      background-color: #434B5C;\n",
              "      box-shadow: 0px 1px 3px 1px rgba(0, 0, 0, 0.15);\n",
              "      filter: drop-shadow(0px 1px 2px rgba(0, 0, 0, 0.3));\n",
              "      fill: #FFFFFF;\n",
              "    }\n",
              "  </style>\n",
              "\n",
              "    <script>\n",
              "      const buttonEl =\n",
              "        document.querySelector('#df-63bb16b8-e24c-4028-9589-f19c2b070d6e button.colab-df-convert');\n",
              "      buttonEl.style.display =\n",
              "        google.colab.kernel.accessAllowed ? 'block' : 'none';\n",
              "\n",
              "      async function convertToInteractive(key) {\n",
              "        const element = document.querySelector('#df-63bb16b8-e24c-4028-9589-f19c2b070d6e');\n",
              "        const dataTable =\n",
              "          await google.colab.kernel.invokeFunction('convertToInteractive',\n",
              "                                                    [key], {});\n",
              "        if (!dataTable) return;\n",
              "\n",
              "        const docLinkHtml = 'Like what you see? Visit the ' +\n",
              "          '<a target=\"_blank\" href=https://colab.research.google.com/notebooks/data_table.ipynb>data table notebook</a>'\n",
              "          + ' to learn more about interactive tables.';\n",
              "        element.innerHTML = '';\n",
              "        dataTable['output_type'] = 'display_data';\n",
              "        await google.colab.output.renderOutput(dataTable, element);\n",
              "        const docLink = document.createElement('div');\n",
              "        docLink.innerHTML = docLinkHtml;\n",
              "        element.appendChild(docLink);\n",
              "      }\n",
              "    </script>\n",
              "  </div>\n",
              "\n",
              "\n",
              "<div id=\"df-c34e85d2-afa9-4a5d-a2de-09d8a676c1b3\">\n",
              "  <button class=\"colab-df-quickchart\" onclick=\"quickchart('df-c34e85d2-afa9-4a5d-a2de-09d8a676c1b3')\"\n",
              "            title=\"Suggest charts\"\n",
              "            style=\"display:none;\">\n",
              "\n",
              "<svg xmlns=\"http://www.w3.org/2000/svg\" height=\"24px\"viewBox=\"0 0 24 24\"\n",
              "     width=\"24px\">\n",
              "    <g>\n",
              "        <path d=\"M19 3H5c-1.1 0-2 .9-2 2v14c0 1.1.9 2 2 2h14c1.1 0 2-.9 2-2V5c0-1.1-.9-2-2-2zM9 17H7v-7h2v7zm4 0h-2V7h2v10zm4 0h-2v-4h2v4z\"/>\n",
              "    </g>\n",
              "</svg>\n",
              "  </button>\n",
              "\n",
              "<style>\n",
              "  .colab-df-quickchart {\n",
              "      --bg-color: #E8F0FE;\n",
              "      --fill-color: #1967D2;\n",
              "      --hover-bg-color: #E2EBFA;\n",
              "      --hover-fill-color: #174EA6;\n",
              "      --disabled-fill-color: #AAA;\n",
              "      --disabled-bg-color: #DDD;\n",
              "  }\n",
              "\n",
              "  [theme=dark] .colab-df-quickchart {\n",
              "      --bg-color: #3B4455;\n",
              "      --fill-color: #D2E3FC;\n",
              "      --hover-bg-color: #434B5C;\n",
              "      --hover-fill-color: #FFFFFF;\n",
              "      --disabled-bg-color: #3B4455;\n",
              "      --disabled-fill-color: #666;\n",
              "  }\n",
              "\n",
              "  .colab-df-quickchart {\n",
              "    background-color: var(--bg-color);\n",
              "    border: none;\n",
              "    border-radius: 50%;\n",
              "    cursor: pointer;\n",
              "    display: none;\n",
              "    fill: var(--fill-color);\n",
              "    height: 32px;\n",
              "    padding: 0;\n",
              "    width: 32px;\n",
              "  }\n",
              "\n",
              "  .colab-df-quickchart:hover {\n",
              "    background-color: var(--hover-bg-color);\n",
              "    box-shadow: 0 1px 2px rgba(60, 64, 67, 0.3), 0 1px 3px 1px rgba(60, 64, 67, 0.15);\n",
              "    fill: var(--button-hover-fill-color);\n",
              "  }\n",
              "\n",
              "  .colab-df-quickchart-complete:disabled,\n",
              "  .colab-df-quickchart-complete:disabled:hover {\n",
              "    background-color: var(--disabled-bg-color);\n",
              "    fill: var(--disabled-fill-color);\n",
              "    box-shadow: none;\n",
              "  }\n",
              "\n",
              "  .colab-df-spinner {\n",
              "    border: 2px solid var(--fill-color);\n",
              "    border-color: transparent;\n",
              "    border-bottom-color: var(--fill-color);\n",
              "    animation:\n",
              "      spin 1s steps(1) infinite;\n",
              "  }\n",
              "\n",
              "  @keyframes spin {\n",
              "    0% {\n",
              "      border-color: transparent;\n",
              "      border-bottom-color: var(--fill-color);\n",
              "      border-left-color: var(--fill-color);\n",
              "    }\n",
              "    20% {\n",
              "      border-color: transparent;\n",
              "      border-left-color: var(--fill-color);\n",
              "      border-top-color: var(--fill-color);\n",
              "    }\n",
              "    30% {\n",
              "      border-color: transparent;\n",
              "      border-left-color: var(--fill-color);\n",
              "      border-top-color: var(--fill-color);\n",
              "      border-right-color: var(--fill-color);\n",
              "    }\n",
              "    40% {\n",
              "      border-color: transparent;\n",
              "      border-right-color: var(--fill-color);\n",
              "      border-top-color: var(--fill-color);\n",
              "    }\n",
              "    60% {\n",
              "      border-color: transparent;\n",
              "      border-right-color: var(--fill-color);\n",
              "    }\n",
              "    80% {\n",
              "      border-color: transparent;\n",
              "      border-right-color: var(--fill-color);\n",
              "      border-bottom-color: var(--fill-color);\n",
              "    }\n",
              "    90% {\n",
              "      border-color: transparent;\n",
              "      border-bottom-color: var(--fill-color);\n",
              "    }\n",
              "  }\n",
              "</style>\n",
              "\n",
              "  <script>\n",
              "    async function quickchart(key) {\n",
              "      const quickchartButtonEl =\n",
              "        document.querySelector('#' + key + ' button');\n",
              "      quickchartButtonEl.disabled = true;  // To prevent multiple clicks.\n",
              "      quickchartButtonEl.classList.add('colab-df-spinner');\n",
              "      try {\n",
              "        const charts = await google.colab.kernel.invokeFunction(\n",
              "            'suggestCharts', [key], {});\n",
              "      } catch (error) {\n",
              "        console.error('Error during call to suggestCharts:', error);\n",
              "      }\n",
              "      quickchartButtonEl.classList.remove('colab-df-spinner');\n",
              "      quickchartButtonEl.classList.add('colab-df-quickchart-complete');\n",
              "    }\n",
              "    (() => {\n",
              "      let quickchartButtonEl =\n",
              "        document.querySelector('#df-c34e85d2-afa9-4a5d-a2de-09d8a676c1b3 button');\n",
              "      quickchartButtonEl.style.display =\n",
              "        google.colab.kernel.accessAllowed ? 'block' : 'none';\n",
              "    })();\n",
              "  </script>\n",
              "</div>\n",
              "    </div>\n",
              "  </div>\n"
            ],
            "application/vnd.google.colaboratory.intrinsic+json": {
              "type": "dataframe",
              "variable_name": "data",
              "summary": "{\n  \"name\": \"data\",\n  \"rows\": 2651,\n  \"fields\": [\n    {\n      \"column\": \"date\",\n      \"properties\": {\n        \"dtype\": \"date\",\n        \"min\": \"2014-11-28 00:00:00\",\n        \"max\": \"2022-03-01 00:00:00\",\n        \"num_unique_values\": 2651,\n        \"samples\": [\n          \"2021-09-01 00:00:00\",\n          \"2015-05-20 00:00:00\",\n          \"2018-04-10 00:00:00\"\n        ],\n        \"semantic_type\": \"\",\n        \"description\": \"\"\n      }\n    },\n    {\n      \"column\": \"close\",\n      \"properties\": {\n        \"dtype\": \"number\",\n        \"std\": 16282.908703967016,\n        \"min\": 162.0,\n        \"max\": 67559.0,\n        \"num_unique_values\": 2631,\n        \"samples\": [\n          276.73,\n          285.82,\n          2465.49\n        ],\n        \"semantic_type\": \"\",\n        \"description\": \"\"\n      }\n    }\n  ]\n}"
            }
          },
          "metadata": {},
          "execution_count": 45
        }
      ]
    },
    {
      "cell_type": "code",
      "source": [
        "target = ['close']"
      ],
      "metadata": {
        "id": "CUtIWJkVeuwS"
      },
      "execution_count": 46,
      "outputs": []
    },
    {
      "cell_type": "code",
      "source": [
        "for lag in lags:\n",
        "    for column in ['close']:\n",
        "        data[f\"{column}_{lag}\"] = data[column].shift(lag)\n",
        "data"
      ],
      "metadata": {
        "colab": {
          "base_uri": "https://localhost:8080/",
          "height": 455
        },
        "id": "UJQTSSnze1MW",
        "outputId": "45165ef4-c05f-4f3f-9a07-f51abf3d3b02"
      },
      "execution_count": 47,
      "outputs": [
        {
          "output_type": "execute_result",
          "data": {
            "text/plain": [
              "               close   close_7   close_6   close_5   close_4   close_3  \\\n",
              "date                                                                     \n",
              "2014-11-28    376.28       NaN       NaN       NaN       NaN       NaN   \n",
              "2014-11-29    376.72       NaN       NaN       NaN       NaN       NaN   \n",
              "2014-11-30    373.34       NaN       NaN       NaN       NaN       NaN   \n",
              "2014-12-01    378.39       NaN       NaN       NaN       NaN    376.28   \n",
              "2014-12-02    379.25       NaN       NaN       NaN    376.28    376.72   \n",
              "...              ...       ...       ...       ...       ...       ...   \n",
              "2022-02-25  39231.64  39996.99  40109.02  38373.90  37076.60  38269.94   \n",
              "2022-02-26  39146.66  40109.02  38373.90  37076.60  38269.94  37274.18   \n",
              "2022-02-27  37712.68  38373.90  37076.60  38269.94  37274.18  38376.88   \n",
              "2022-02-28  43178.98  37076.60  38269.94  37274.18  38376.88  39231.64   \n",
              "2022-03-01  43185.48  38269.94  37274.18  38376.88  39231.64  39146.66   \n",
              "\n",
              "             close_2   close_1  \n",
              "date                            \n",
              "2014-11-28       NaN       NaN  \n",
              "2014-11-29       NaN    376.28  \n",
              "2014-11-30    376.28    376.72  \n",
              "2014-12-01    376.72    373.34  \n",
              "2014-12-02    373.34    378.39  \n",
              "...              ...       ...  \n",
              "2022-02-25  37274.18  38376.88  \n",
              "2022-02-26  38376.88  39231.64  \n",
              "2022-02-27  39231.64  39146.66  \n",
              "2022-02-28  39146.66  37712.68  \n",
              "2022-03-01  37712.68  43178.98  \n",
              "\n",
              "[2651 rows x 8 columns]"
            ],
            "text/html": [
              "\n",
              "  <div id=\"df-cc4cdd45-e287-41a5-98c9-2d08a000c4dc\" class=\"colab-df-container\">\n",
              "    <div>\n",
              "<style scoped>\n",
              "    .dataframe tbody tr th:only-of-type {\n",
              "        vertical-align: middle;\n",
              "    }\n",
              "\n",
              "    .dataframe tbody tr th {\n",
              "        vertical-align: top;\n",
              "    }\n",
              "\n",
              "    .dataframe thead th {\n",
              "        text-align: right;\n",
              "    }\n",
              "</style>\n",
              "<table border=\"1\" class=\"dataframe\">\n",
              "  <thead>\n",
              "    <tr style=\"text-align: right;\">\n",
              "      <th></th>\n",
              "      <th>close</th>\n",
              "      <th>close_7</th>\n",
              "      <th>close_6</th>\n",
              "      <th>close_5</th>\n",
              "      <th>close_4</th>\n",
              "      <th>close_3</th>\n",
              "      <th>close_2</th>\n",
              "      <th>close_1</th>\n",
              "    </tr>\n",
              "    <tr>\n",
              "      <th>date</th>\n",
              "      <th></th>\n",
              "      <th></th>\n",
              "      <th></th>\n",
              "      <th></th>\n",
              "      <th></th>\n",
              "      <th></th>\n",
              "      <th></th>\n",
              "      <th></th>\n",
              "    </tr>\n",
              "  </thead>\n",
              "  <tbody>\n",
              "    <tr>\n",
              "      <th>2014-11-28</th>\n",
              "      <td>376.28</td>\n",
              "      <td>NaN</td>\n",
              "      <td>NaN</td>\n",
              "      <td>NaN</td>\n",
              "      <td>NaN</td>\n",
              "      <td>NaN</td>\n",
              "      <td>NaN</td>\n",
              "      <td>NaN</td>\n",
              "    </tr>\n",
              "    <tr>\n",
              "      <th>2014-11-29</th>\n",
              "      <td>376.72</td>\n",
              "      <td>NaN</td>\n",
              "      <td>NaN</td>\n",
              "      <td>NaN</td>\n",
              "      <td>NaN</td>\n",
              "      <td>NaN</td>\n",
              "      <td>NaN</td>\n",
              "      <td>376.28</td>\n",
              "    </tr>\n",
              "    <tr>\n",
              "      <th>2014-11-30</th>\n",
              "      <td>373.34</td>\n",
              "      <td>NaN</td>\n",
              "      <td>NaN</td>\n",
              "      <td>NaN</td>\n",
              "      <td>NaN</td>\n",
              "      <td>NaN</td>\n",
              "      <td>376.28</td>\n",
              "      <td>376.72</td>\n",
              "    </tr>\n",
              "    <tr>\n",
              "      <th>2014-12-01</th>\n",
              "      <td>378.39</td>\n",
              "      <td>NaN</td>\n",
              "      <td>NaN</td>\n",
              "      <td>NaN</td>\n",
              "      <td>NaN</td>\n",
              "      <td>376.28</td>\n",
              "      <td>376.72</td>\n",
              "      <td>373.34</td>\n",
              "    </tr>\n",
              "    <tr>\n",
              "      <th>2014-12-02</th>\n",
              "      <td>379.25</td>\n",
              "      <td>NaN</td>\n",
              "      <td>NaN</td>\n",
              "      <td>NaN</td>\n",
              "      <td>376.28</td>\n",
              "      <td>376.72</td>\n",
              "      <td>373.34</td>\n",
              "      <td>378.39</td>\n",
              "    </tr>\n",
              "    <tr>\n",
              "      <th>...</th>\n",
              "      <td>...</td>\n",
              "      <td>...</td>\n",
              "      <td>...</td>\n",
              "      <td>...</td>\n",
              "      <td>...</td>\n",
              "      <td>...</td>\n",
              "      <td>...</td>\n",
              "      <td>...</td>\n",
              "    </tr>\n",
              "    <tr>\n",
              "      <th>2022-02-25</th>\n",
              "      <td>39231.64</td>\n",
              "      <td>39996.99</td>\n",
              "      <td>40109.02</td>\n",
              "      <td>38373.90</td>\n",
              "      <td>37076.60</td>\n",
              "      <td>38269.94</td>\n",
              "      <td>37274.18</td>\n",
              "      <td>38376.88</td>\n",
              "    </tr>\n",
              "    <tr>\n",
              "      <th>2022-02-26</th>\n",
              "      <td>39146.66</td>\n",
              "      <td>40109.02</td>\n",
              "      <td>38373.90</td>\n",
              "      <td>37076.60</td>\n",
              "      <td>38269.94</td>\n",
              "      <td>37274.18</td>\n",
              "      <td>38376.88</td>\n",
              "      <td>39231.64</td>\n",
              "    </tr>\n",
              "    <tr>\n",
              "      <th>2022-02-27</th>\n",
              "      <td>37712.68</td>\n",
              "      <td>38373.90</td>\n",
              "      <td>37076.60</td>\n",
              "      <td>38269.94</td>\n",
              "      <td>37274.18</td>\n",
              "      <td>38376.88</td>\n",
              "      <td>39231.64</td>\n",
              "      <td>39146.66</td>\n",
              "    </tr>\n",
              "    <tr>\n",
              "      <th>2022-02-28</th>\n",
              "      <td>43178.98</td>\n",
              "      <td>37076.60</td>\n",
              "      <td>38269.94</td>\n",
              "      <td>37274.18</td>\n",
              "      <td>38376.88</td>\n",
              "      <td>39231.64</td>\n",
              "      <td>39146.66</td>\n",
              "      <td>37712.68</td>\n",
              "    </tr>\n",
              "    <tr>\n",
              "      <th>2022-03-01</th>\n",
              "      <td>43185.48</td>\n",
              "      <td>38269.94</td>\n",
              "      <td>37274.18</td>\n",
              "      <td>38376.88</td>\n",
              "      <td>39231.64</td>\n",
              "      <td>39146.66</td>\n",
              "      <td>37712.68</td>\n",
              "      <td>43178.98</td>\n",
              "    </tr>\n",
              "  </tbody>\n",
              "</table>\n",
              "<p>2651 rows × 8 columns</p>\n",
              "</div>\n",
              "    <div class=\"colab-df-buttons\">\n",
              "\n",
              "  <div class=\"colab-df-container\">\n",
              "    <button class=\"colab-df-convert\" onclick=\"convertToInteractive('df-cc4cdd45-e287-41a5-98c9-2d08a000c4dc')\"\n",
              "            title=\"Convert this dataframe to an interactive table.\"\n",
              "            style=\"display:none;\">\n",
              "\n",
              "  <svg xmlns=\"http://www.w3.org/2000/svg\" height=\"24px\" viewBox=\"0 -960 960 960\">\n",
              "    <path d=\"M120-120v-720h720v720H120Zm60-500h600v-160H180v160Zm220 220h160v-160H400v160Zm0 220h160v-160H400v160ZM180-400h160v-160H180v160Zm440 0h160v-160H620v160ZM180-180h160v-160H180v160Zm440 0h160v-160H620v160Z\"/>\n",
              "  </svg>\n",
              "    </button>\n",
              "\n",
              "  <style>\n",
              "    .colab-df-container {\n",
              "      display:flex;\n",
              "      gap: 12px;\n",
              "    }\n",
              "\n",
              "    .colab-df-convert {\n",
              "      background-color: #E8F0FE;\n",
              "      border: none;\n",
              "      border-radius: 50%;\n",
              "      cursor: pointer;\n",
              "      display: none;\n",
              "      fill: #1967D2;\n",
              "      height: 32px;\n",
              "      padding: 0 0 0 0;\n",
              "      width: 32px;\n",
              "    }\n",
              "\n",
              "    .colab-df-convert:hover {\n",
              "      background-color: #E2EBFA;\n",
              "      box-shadow: 0px 1px 2px rgba(60, 64, 67, 0.3), 0px 1px 3px 1px rgba(60, 64, 67, 0.15);\n",
              "      fill: #174EA6;\n",
              "    }\n",
              "\n",
              "    .colab-df-buttons div {\n",
              "      margin-bottom: 4px;\n",
              "    }\n",
              "\n",
              "    [theme=dark] .colab-df-convert {\n",
              "      background-color: #3B4455;\n",
              "      fill: #D2E3FC;\n",
              "    }\n",
              "\n",
              "    [theme=dark] .colab-df-convert:hover {\n",
              "      background-color: #434B5C;\n",
              "      box-shadow: 0px 1px 3px 1px rgba(0, 0, 0, 0.15);\n",
              "      filter: drop-shadow(0px 1px 2px rgba(0, 0, 0, 0.3));\n",
              "      fill: #FFFFFF;\n",
              "    }\n",
              "  </style>\n",
              "\n",
              "    <script>\n",
              "      const buttonEl =\n",
              "        document.querySelector('#df-cc4cdd45-e287-41a5-98c9-2d08a000c4dc button.colab-df-convert');\n",
              "      buttonEl.style.display =\n",
              "        google.colab.kernel.accessAllowed ? 'block' : 'none';\n",
              "\n",
              "      async function convertToInteractive(key) {\n",
              "        const element = document.querySelector('#df-cc4cdd45-e287-41a5-98c9-2d08a000c4dc');\n",
              "        const dataTable =\n",
              "          await google.colab.kernel.invokeFunction('convertToInteractive',\n",
              "                                                    [key], {});\n",
              "        if (!dataTable) return;\n",
              "\n",
              "        const docLinkHtml = 'Like what you see? Visit the ' +\n",
              "          '<a target=\"_blank\" href=https://colab.research.google.com/notebooks/data_table.ipynb>data table notebook</a>'\n",
              "          + ' to learn more about interactive tables.';\n",
              "        element.innerHTML = '';\n",
              "        dataTable['output_type'] = 'display_data';\n",
              "        await google.colab.output.renderOutput(dataTable, element);\n",
              "        const docLink = document.createElement('div');\n",
              "        docLink.innerHTML = docLinkHtml;\n",
              "        element.appendChild(docLink);\n",
              "      }\n",
              "    </script>\n",
              "  </div>\n",
              "\n",
              "\n",
              "<div id=\"df-e6140a37-3af2-42d6-8a6c-243cfe1f7ac1\">\n",
              "  <button class=\"colab-df-quickchart\" onclick=\"quickchart('df-e6140a37-3af2-42d6-8a6c-243cfe1f7ac1')\"\n",
              "            title=\"Suggest charts\"\n",
              "            style=\"display:none;\">\n",
              "\n",
              "<svg xmlns=\"http://www.w3.org/2000/svg\" height=\"24px\"viewBox=\"0 0 24 24\"\n",
              "     width=\"24px\">\n",
              "    <g>\n",
              "        <path d=\"M19 3H5c-1.1 0-2 .9-2 2v14c0 1.1.9 2 2 2h14c1.1 0 2-.9 2-2V5c0-1.1-.9-2-2-2zM9 17H7v-7h2v7zm4 0h-2V7h2v10zm4 0h-2v-4h2v4z\"/>\n",
              "    </g>\n",
              "</svg>\n",
              "  </button>\n",
              "\n",
              "<style>\n",
              "  .colab-df-quickchart {\n",
              "      --bg-color: #E8F0FE;\n",
              "      --fill-color: #1967D2;\n",
              "      --hover-bg-color: #E2EBFA;\n",
              "      --hover-fill-color: #174EA6;\n",
              "      --disabled-fill-color: #AAA;\n",
              "      --disabled-bg-color: #DDD;\n",
              "  }\n",
              "\n",
              "  [theme=dark] .colab-df-quickchart {\n",
              "      --bg-color: #3B4455;\n",
              "      --fill-color: #D2E3FC;\n",
              "      --hover-bg-color: #434B5C;\n",
              "      --hover-fill-color: #FFFFFF;\n",
              "      --disabled-bg-color: #3B4455;\n",
              "      --disabled-fill-color: #666;\n",
              "  }\n",
              "\n",
              "  .colab-df-quickchart {\n",
              "    background-color: var(--bg-color);\n",
              "    border: none;\n",
              "    border-radius: 50%;\n",
              "    cursor: pointer;\n",
              "    display: none;\n",
              "    fill: var(--fill-color);\n",
              "    height: 32px;\n",
              "    padding: 0;\n",
              "    width: 32px;\n",
              "  }\n",
              "\n",
              "  .colab-df-quickchart:hover {\n",
              "    background-color: var(--hover-bg-color);\n",
              "    box-shadow: 0 1px 2px rgba(60, 64, 67, 0.3), 0 1px 3px 1px rgba(60, 64, 67, 0.15);\n",
              "    fill: var(--button-hover-fill-color);\n",
              "  }\n",
              "\n",
              "  .colab-df-quickchart-complete:disabled,\n",
              "  .colab-df-quickchart-complete:disabled:hover {\n",
              "    background-color: var(--disabled-bg-color);\n",
              "    fill: var(--disabled-fill-color);\n",
              "    box-shadow: none;\n",
              "  }\n",
              "\n",
              "  .colab-df-spinner {\n",
              "    border: 2px solid var(--fill-color);\n",
              "    border-color: transparent;\n",
              "    border-bottom-color: var(--fill-color);\n",
              "    animation:\n",
              "      spin 1s steps(1) infinite;\n",
              "  }\n",
              "\n",
              "  @keyframes spin {\n",
              "    0% {\n",
              "      border-color: transparent;\n",
              "      border-bottom-color: var(--fill-color);\n",
              "      border-left-color: var(--fill-color);\n",
              "    }\n",
              "    20% {\n",
              "      border-color: transparent;\n",
              "      border-left-color: var(--fill-color);\n",
              "      border-top-color: var(--fill-color);\n",
              "    }\n",
              "    30% {\n",
              "      border-color: transparent;\n",
              "      border-left-color: var(--fill-color);\n",
              "      border-top-color: var(--fill-color);\n",
              "      border-right-color: var(--fill-color);\n",
              "    }\n",
              "    40% {\n",
              "      border-color: transparent;\n",
              "      border-right-color: var(--fill-color);\n",
              "      border-top-color: var(--fill-color);\n",
              "    }\n",
              "    60% {\n",
              "      border-color: transparent;\n",
              "      border-right-color: var(--fill-color);\n",
              "    }\n",
              "    80% {\n",
              "      border-color: transparent;\n",
              "      border-right-color: var(--fill-color);\n",
              "      border-bottom-color: var(--fill-color);\n",
              "    }\n",
              "    90% {\n",
              "      border-color: transparent;\n",
              "      border-bottom-color: var(--fill-color);\n",
              "    }\n",
              "  }\n",
              "</style>\n",
              "\n",
              "  <script>\n",
              "    async function quickchart(key) {\n",
              "      const quickchartButtonEl =\n",
              "        document.querySelector('#' + key + ' button');\n",
              "      quickchartButtonEl.disabled = true;  // To prevent multiple clicks.\n",
              "      quickchartButtonEl.classList.add('colab-df-spinner');\n",
              "      try {\n",
              "        const charts = await google.colab.kernel.invokeFunction(\n",
              "            'suggestCharts', [key], {});\n",
              "      } catch (error) {\n",
              "        console.error('Error during call to suggestCharts:', error);\n",
              "      }\n",
              "      quickchartButtonEl.classList.remove('colab-df-spinner');\n",
              "      quickchartButtonEl.classList.add('colab-df-quickchart-complete');\n",
              "    }\n",
              "    (() => {\n",
              "      let quickchartButtonEl =\n",
              "        document.querySelector('#df-e6140a37-3af2-42d6-8a6c-243cfe1f7ac1 button');\n",
              "      quickchartButtonEl.style.display =\n",
              "        google.colab.kernel.accessAllowed ? 'block' : 'none';\n",
              "    })();\n",
              "  </script>\n",
              "</div>\n",
              "    </div>\n",
              "  </div>\n"
            ],
            "application/vnd.google.colaboratory.intrinsic+json": {
              "type": "dataframe",
              "variable_name": "data",
              "summary": "{\n  \"name\": \"data\",\n  \"rows\": 2651,\n  \"fields\": [\n    {\n      \"column\": \"date\",\n      \"properties\": {\n        \"dtype\": \"date\",\n        \"min\": \"2014-11-28 00:00:00\",\n        \"max\": \"2022-03-01 00:00:00\",\n        \"num_unique_values\": 2651,\n        \"samples\": [\n          \"2021-09-01 00:00:00\",\n          \"2015-05-20 00:00:00\",\n          \"2018-04-10 00:00:00\"\n        ],\n        \"semantic_type\": \"\",\n        \"description\": \"\"\n      }\n    },\n    {\n      \"column\": \"close\",\n      \"properties\": {\n        \"dtype\": \"number\",\n        \"std\": 16282.908703967016,\n        \"min\": 162.0,\n        \"max\": 67559.0,\n        \"num_unique_values\": 2631,\n        \"samples\": [\n          276.73,\n          285.82,\n          2465.49\n        ],\n        \"semantic_type\": \"\",\n        \"description\": \"\"\n      }\n    },\n    {\n      \"column\": \"close_7\",\n      \"properties\": {\n        \"dtype\": \"number\",\n        \"std\": 16239.97044422975,\n        \"min\": 162.0,\n        \"max\": 67559.0,\n        \"num_unique_values\": 2624,\n        \"samples\": [\n          233.27,\n          8033.7,\n          7469.45\n        ],\n        \"semantic_type\": \"\",\n        \"description\": \"\"\n      }\n    },\n    {\n      \"column\": \"close_6\",\n      \"properties\": {\n        \"dtype\": \"number\",\n        \"std\": 16244.550480422897,\n        \"min\": 162.0,\n        \"max\": 67559.0,\n        \"num_unique_values\": 2625,\n        \"samples\": [\n          233.27,\n          7936.25,\n          7469.45\n        ],\n        \"semantic_type\": \"\",\n        \"description\": \"\"\n      }\n    },\n    {\n      \"column\": \"close_5\",\n      \"properties\": {\n        \"dtype\": \"number\",\n        \"std\": 16249.791429864878,\n        \"min\": 162.0,\n        \"max\": 67559.0,\n        \"num_unique_values\": 2626,\n        \"samples\": [\n          276.73,\n          285.82,\n          2465.49\n        ],\n        \"semantic_type\": \"\",\n        \"description\": \"\"\n      }\n    },\n    {\n      \"column\": \"close_4\",\n      \"properties\": {\n        \"dtype\": \"number\",\n        \"std\": 16255.559785570622,\n        \"min\": 162.0,\n        \"max\": 67559.0,\n        \"num_unique_values\": 2627,\n        \"samples\": [\n          276.73,\n          285.82,\n          2465.49\n        ],\n        \"semantic_type\": \"\",\n        \"description\": \"\"\n      }\n    },\n    {\n      \"column\": \"close_3\",\n      \"properties\": {\n        \"dtype\": \"number\",\n        \"std\": 16261.260750450372,\n        \"min\": 162.0,\n        \"max\": 67559.0,\n        \"num_unique_values\": 2628,\n        \"samples\": [\n          276.73,\n          285.82,\n          2465.49\n        ],\n        \"semantic_type\": \"\",\n        \"description\": \"\"\n      }\n    },\n    {\n      \"column\": \"close_2\",\n      \"properties\": {\n        \"dtype\": \"number\",\n        \"std\": 16266.058460276736,\n        \"min\": 162.0,\n        \"max\": 67559.0,\n        \"num_unique_values\": 2629,\n        \"samples\": [\n          276.73,\n          285.82,\n          2465.49\n        ],\n        \"semantic_type\": \"\",\n        \"description\": \"\"\n      }\n    },\n    {\n      \"column\": \"close_1\",\n      \"properties\": {\n        \"dtype\": \"number\",\n        \"std\": 16274.490908345108,\n        \"min\": 162.0,\n        \"max\": 67559.0,\n        \"num_unique_values\": 2630,\n        \"samples\": [\n          276.73,\n          285.82,\n          2465.49\n        ],\n        \"semantic_type\": \"\",\n        \"description\": \"\"\n      }\n    }\n  ]\n}"
            }
          },
          "metadata": {},
          "execution_count": 47
        }
      ]
    },
    {
      "cell_type": "code",
      "source": [
        "data.dropna(axis=0, inplace=True)"
      ],
      "metadata": {
        "id": "7h8Nps4-e_Lt"
      },
      "execution_count": 48,
      "outputs": []
    },
    {
      "cell_type": "markdown",
      "metadata": {
        "id": "tls69_PrbJKW"
      },
      "source": [
        "## Dataset Splitting\n",
        "Partition the dataset into training and testing sets with an 80:20 ratio.\n",
        "\n",
        "**WARNING: DO NOT SHUFFLE THE DATASET.**\n",
        "\n"
      ]
    },
    {
      "cell_type": "code",
      "execution_count": 49,
      "metadata": {
        "id": "PjGGGMxebeoB"
      },
      "outputs": [],
      "source": [
        "X, y = data.drop(columns='close'), data[target]"
      ]
    },
    {
      "cell_type": "code",
      "source": [
        "train_X, test_X, train_y, test_y = train_test_split(X, y, test_size=0.20, shuffle=False)"
      ],
      "metadata": {
        "id": "FW_zRJh9fXdZ"
      },
      "execution_count": 50,
      "outputs": []
    },
    {
      "cell_type": "markdown",
      "metadata": {
        "id": "VIkAR1Hibiwr"
      },
      "source": [
        "## Neural Networks"
      ]
    },
    {
      "cell_type": "markdown",
      "metadata": {
        "id": "qWn1pafKbnxH"
      },
      "source": [
        "Create an LSTM model and train it using the `train` function."
      ]
    },
    {
      "cell_type": "code",
      "execution_count": 51,
      "metadata": {
        "id": "IXFIrQthbnkb"
      },
      "outputs": [],
      "source": [
        "scaler = MinMaxScaler()\n",
        "train_X = scaler.fit_transform(train_X)\n",
        "test_X = scaler.transform(test_X)"
      ]
    },
    {
      "cell_type": "code",
      "source": [
        "scaler = MinMaxScaler()\n",
        "train_y = scaler.fit_transform(train_y.to_numpy().reshape(-1, 1))"
      ],
      "metadata": {
        "id": "TvBVW7hhfieW"
      },
      "execution_count": 52,
      "outputs": []
    },
    {
      "cell_type": "code",
      "source": [
        "lag = 7\n",
        "(train_X.shape[0], lag, (train_X.shape[1] // lag))"
      ],
      "metadata": {
        "colab": {
          "base_uri": "https://localhost:8080/"
        },
        "id": "RlP9wKEkfzBv",
        "outputId": "7da72383-7aab-435a-c33c-5728666c80d7"
      },
      "execution_count": 53,
      "outputs": [
        {
          "output_type": "execute_result",
          "data": {
            "text/plain": [
              "(2115, 7, 1)"
            ]
          },
          "metadata": {},
          "execution_count": 53
        }
      ]
    },
    {
      "cell_type": "code",
      "source": [
        "train_X = train_X.reshape((train_X.shape[0], lag, (train_X.shape[1] // lag)))\n",
        "test_X = test_X.reshape((test_X.shape[0], lag, (test_X.shape[1] // lag)))"
      ],
      "metadata": {
        "id": "5gs1-4hpfz6S"
      },
      "execution_count": 54,
      "outputs": []
    },
    {
      "cell_type": "code",
      "source": [
        "from keras.models import Sequential\n",
        "from keras.layers import Input, LSTM, Dense"
      ],
      "metadata": {
        "id": "W-iSvLGIf3xY"
      },
      "execution_count": 55,
      "outputs": []
    },
    {
      "cell_type": "code",
      "source": [
        "model = Sequential([\n",
        "    Input((train_X.shape[1], train_X.shape[2],)),\n",
        "    LSTM(64, activation=\"relu\", return_sequences=True),\n",
        "    LSTM(32, activation=\"relu\"),\n",
        "    Dense(1, activation=\"linear\")\n",
        "])"
      ],
      "metadata": {
        "id": "vzSpDsGyf4NU"
      },
      "execution_count": 57,
      "outputs": []
    },
    {
      "cell_type": "code",
      "source": [
        "model.summary()"
      ],
      "metadata": {
        "colab": {
          "base_uri": "https://localhost:8080/",
          "height": 232
        },
        "id": "QEq4_pxbgGSB",
        "outputId": "3bfe902d-cc0e-4553-eb73-4867f59c88f7"
      },
      "execution_count": 58,
      "outputs": [
        {
          "output_type": "display_data",
          "data": {
            "text/plain": [
              "\u001b[1mModel: \"sequential_1\"\u001b[0m\n"
            ],
            "text/html": [
              "<pre style=\"white-space:pre;overflow-x:auto;line-height:normal;font-family:Menlo,'DejaVu Sans Mono',consolas,'Courier New',monospace\"><span style=\"font-weight: bold\">Model: \"sequential_1\"</span>\n",
              "</pre>\n"
            ]
          },
          "metadata": {}
        },
        {
          "output_type": "display_data",
          "data": {
            "text/plain": [
              "┏━━━━━━━━━━━━━━━━━━━━━━━━━━━━━━━━━━━━━━┳━━━━━━━━━━━━━━━━━━━━━━━━━━━━━┳━━━━━━━━━━━━━━━━━┓\n",
              "┃\u001b[1m \u001b[0m\u001b[1mLayer (type)                        \u001b[0m\u001b[1m \u001b[0m┃\u001b[1m \u001b[0m\u001b[1mOutput Shape               \u001b[0m\u001b[1m \u001b[0m┃\u001b[1m \u001b[0m\u001b[1m        Param #\u001b[0m\u001b[1m \u001b[0m┃\n",
              "┡━━━━━━━━━━━━━━━━━━━━━━━━━━━━━━━━━━━━━━╇━━━━━━━━━━━━━━━━━━━━━━━━━━━━━╇━━━━━━━━━━━━━━━━━┩\n",
              "│ lstm_3 (\u001b[38;5;33mLSTM\u001b[0m)                        │ (\u001b[38;5;45mNone\u001b[0m, \u001b[38;5;34m7\u001b[0m, \u001b[38;5;34m64\u001b[0m)               │          \u001b[38;5;34m16,896\u001b[0m │\n",
              "├──────────────────────────────────────┼─────────────────────────────┼─────────────────┤\n",
              "│ lstm_4 (\u001b[38;5;33mLSTM\u001b[0m)                        │ (\u001b[38;5;45mNone\u001b[0m, \u001b[38;5;34m32\u001b[0m)                  │          \u001b[38;5;34m12,416\u001b[0m │\n",
              "├──────────────────────────────────────┼─────────────────────────────┼─────────────────┤\n",
              "│ dense_1 (\u001b[38;5;33mDense\u001b[0m)                      │ (\u001b[38;5;45mNone\u001b[0m, \u001b[38;5;34m1\u001b[0m)                   │              \u001b[38;5;34m33\u001b[0m │\n",
              "└──────────────────────────────────────┴─────────────────────────────┴─────────────────┘\n"
            ],
            "text/html": [
              "<pre style=\"white-space:pre;overflow-x:auto;line-height:normal;font-family:Menlo,'DejaVu Sans Mono',consolas,'Courier New',monospace\">┏━━━━━━━━━━━━━━━━━━━━━━━━━━━━━━━━━━━━━━┳━━━━━━━━━━━━━━━━━━━━━━━━━━━━━┳━━━━━━━━━━━━━━━━━┓\n",
              "┃<span style=\"font-weight: bold\"> Layer (type)                         </span>┃<span style=\"font-weight: bold\"> Output Shape                </span>┃<span style=\"font-weight: bold\">         Param # </span>┃\n",
              "┡━━━━━━━━━━━━━━━━━━━━━━━━━━━━━━━━━━━━━━╇━━━━━━━━━━━━━━━━━━━━━━━━━━━━━╇━━━━━━━━━━━━━━━━━┩\n",
              "│ lstm_3 (<span style=\"color: #0087ff; text-decoration-color: #0087ff\">LSTM</span>)                        │ (<span style=\"color: #00d7ff; text-decoration-color: #00d7ff\">None</span>, <span style=\"color: #00af00; text-decoration-color: #00af00\">7</span>, <span style=\"color: #00af00; text-decoration-color: #00af00\">64</span>)               │          <span style=\"color: #00af00; text-decoration-color: #00af00\">16,896</span> │\n",
              "├──────────────────────────────────────┼─────────────────────────────┼─────────────────┤\n",
              "│ lstm_4 (<span style=\"color: #0087ff; text-decoration-color: #0087ff\">LSTM</span>)                        │ (<span style=\"color: #00d7ff; text-decoration-color: #00d7ff\">None</span>, <span style=\"color: #00af00; text-decoration-color: #00af00\">32</span>)                  │          <span style=\"color: #00af00; text-decoration-color: #00af00\">12,416</span> │\n",
              "├──────────────────────────────────────┼─────────────────────────────┼─────────────────┤\n",
              "│ dense_1 (<span style=\"color: #0087ff; text-decoration-color: #0087ff\">Dense</span>)                      │ (<span style=\"color: #00d7ff; text-decoration-color: #00d7ff\">None</span>, <span style=\"color: #00af00; text-decoration-color: #00af00\">1</span>)                   │              <span style=\"color: #00af00; text-decoration-color: #00af00\">33</span> │\n",
              "└──────────────────────────────────────┴─────────────────────────────┴─────────────────┘\n",
              "</pre>\n"
            ]
          },
          "metadata": {}
        },
        {
          "output_type": "display_data",
          "data": {
            "text/plain": [
              "\u001b[1m Total params: \u001b[0m\u001b[38;5;34m29,345\u001b[0m (114.63 KB)\n"
            ],
            "text/html": [
              "<pre style=\"white-space:pre;overflow-x:auto;line-height:normal;font-family:Menlo,'DejaVu Sans Mono',consolas,'Courier New',monospace\"><span style=\"font-weight: bold\"> Total params: </span><span style=\"color: #00af00; text-decoration-color: #00af00\">29,345</span> (114.63 KB)\n",
              "</pre>\n"
            ]
          },
          "metadata": {}
        },
        {
          "output_type": "display_data",
          "data": {
            "text/plain": [
              "\u001b[1m Trainable params: \u001b[0m\u001b[38;5;34m29,345\u001b[0m (114.63 KB)\n"
            ],
            "text/html": [
              "<pre style=\"white-space:pre;overflow-x:auto;line-height:normal;font-family:Menlo,'DejaVu Sans Mono',consolas,'Courier New',monospace\"><span style=\"font-weight: bold\"> Trainable params: </span><span style=\"color: #00af00; text-decoration-color: #00af00\">29,345</span> (114.63 KB)\n",
              "</pre>\n"
            ]
          },
          "metadata": {}
        },
        {
          "output_type": "display_data",
          "data": {
            "text/plain": [
              "\u001b[1m Non-trainable params: \u001b[0m\u001b[38;5;34m0\u001b[0m (0.00 B)\n"
            ],
            "text/html": [
              "<pre style=\"white-space:pre;overflow-x:auto;line-height:normal;font-family:Menlo,'DejaVu Sans Mono',consolas,'Courier New',monospace\"><span style=\"font-weight: bold\"> Non-trainable params: </span><span style=\"color: #00af00; text-decoration-color: #00af00\">0</span> (0.00 B)\n",
              "</pre>\n"
            ]
          },
          "metadata": {}
        }
      ]
    },
    {
      "cell_type": "code",
      "source": [
        "model.compile(\n",
        "    loss=\"mean_squared_error\",\n",
        "    optimizer=\"adam\",\n",
        "    metrics=[\"mean_squared_error\"],\n",
        ")"
      ],
      "metadata": {
        "id": "oSQbqryagGkm"
      },
      "execution_count": 70,
      "outputs": []
    },
    {
      "cell_type": "code",
      "source": [
        "history = model.fit(train_X, train_y, validation_split=0.20, epochs=2, batch_size=64, shuffle=False)"
      ],
      "metadata": {
        "colab": {
          "base_uri": "https://localhost:8080/"
        },
        "id": "QLURM2OOgJ11",
        "outputId": "af42b795-f74e-4a94-fba9-b6707b3baf6d"
      },
      "execution_count": 71,
      "outputs": [
        {
          "output_type": "stream",
          "name": "stdout",
          "text": [
            "Epoch 1/2\n",
            "\u001b[1m27/27\u001b[0m \u001b[32m━━━━━━━━━━━━━━━━━━━━\u001b[0m\u001b[37m\u001b[0m \u001b[1m5s\u001b[0m 36ms/step - loss: 6.6232e-04 - mean_squared_error: 6.6232e-04 - val_loss: 9.8568e-04 - val_mean_squared_error: 9.8568e-04\n",
            "Epoch 2/2\n",
            "\u001b[1m27/27\u001b[0m \u001b[32m━━━━━━━━━━━━━━━━━━━━\u001b[0m\u001b[37m\u001b[0m \u001b[1m1s\u001b[0m 30ms/step - loss: 6.6822e-04 - mean_squared_error: 6.6822e-04 - val_loss: 0.0013 - val_mean_squared_error: 0.0013\n"
          ]
        }
      ]
    },
    {
      "cell_type": "code",
      "source": [
        "sns.lineplot(history.history[\"loss\"], label=\"loss\")\n",
        "sns.lineplot(history.history[\"val_loss\"], label=\"val_loss\")"
      ],
      "metadata": {
        "colab": {
          "base_uri": "https://localhost:8080/",
          "height": 447
        },
        "id": "JvDGKUR9gaAp",
        "outputId": "24b3befe-1938-458c-ea20-45b4d381954d"
      },
      "execution_count": 72,
      "outputs": [
        {
          "output_type": "execute_result",
          "data": {
            "text/plain": [
              "<Axes: >"
            ]
          },
          "metadata": {},
          "execution_count": 72
        },
        {
          "output_type": "display_data",
          "data": {
            "text/plain": [
              "<Figure size 640x480 with 1 Axes>"
            ],
            "image/png": "[encoded data removed]"
          },
          "metadata": {}
        }
      ]
    },
    {
      "cell_type": "markdown",
      "metadata": {
        "id": "gyXZwAVab8Cp"
      },
      "source": [
        "Use the trained model to make predictions for the test set."
      ]
    },
    {
      "cell_type": "code",
      "execution_count": 73,
      "metadata": {
        "id": "EvMfVum6b_9b",
        "colab": {
          "base_uri": "https://localhost:8080/"
        },
        "outputId": "5d9a70bc-6cee-4b15-af75-6d19b203aa52"
      },
      "outputs": [
        {
          "output_type": "stream",
          "name": "stdout",
          "text": [
            "\u001b[1m17/17\u001b[0m \u001b[32m━━━━━━━━━━━━━━━━━━━━\u001b[0m\u001b[37m\u001b[0m \u001b[1m1s\u001b[0m 26ms/step\n"
          ]
        }
      ],
      "source": [
        "pred_y = model.predict(test_X)"
      ]
    },
    {
      "cell_type": "code",
      "source": [
        "pred_y = scaler.inverse_transform(pred_y)"
      ],
      "metadata": {
        "id": "irowX_XEhDpv"
      },
      "execution_count": 74,
      "outputs": []
    },
    {
      "cell_type": "markdown",
      "metadata": {
        "id": "3VxAvDPtcNCh"
      },
      "source": [
        "Assess the performance of the model by using different metrics provided by the `scikit-learn` library."
      ]
    },
    {
      "cell_type": "code",
      "execution_count": 75,
      "metadata": {
        "id": "V4axpktycQhp",
        "colab": {
          "base_uri": "https://localhost:8080/"
        },
        "outputId": "53f8dd1c-49d0-432f-cd50-36702492714b"
      },
      "outputs": [
        {
          "output_type": "execute_result",
          "data": {
            "text/plain": [
              "(5654.54345703125, 57001672.0, 0.7423447370529175)"
            ]
          },
          "metadata": {},
          "execution_count": 75
        }
      ],
      "source": [
        "from sklearn.metrics import mean_absolute_error, mean_squared_error, r2_score\n",
        "(mean_absolute_error(test_y, pred_y), mean_squared_error(test_y, pred_y), r2_score(test_y, pred_y))"
      ]
    },
    {
      "cell_type": "markdown",
      "metadata": {
        "id": "rRg7FzVwcxQD"
      },
      "source": [
        "# Additional Bonus Task"
      ]
    },
    {
      "cell_type": "markdown",
      "metadata": {
        "id": "rtUihr93cxQD"
      },
      "source": [
        "Group the data by month. You can use [pandas.Grouper](https://pandas.pydata.org/docs/reference/api/pandas.Grouper.html) function."
      ]
    },
    {
      "cell_type": "markdown",
      "metadata": {
        "id": "r8EHOND3cxQD"
      },
      "source": [
        "Create an LSTM model to predict the 'close' price on a montly frequency."
      ]
    },
    {
      "cell_type": "code",
      "source": [
        "data = data.groupby(pd.Grouper(freq=\"M\")).mean()\n",
        "data"
      ],
      "metadata": {
        "colab": {
          "base_uri": "https://localhost:8080/",
          "height": 510
        },
        "id": "6CRrjnrRhv38",
        "outputId": "4421a9d3-dd6c-48f6-f503-9a43c58f9121"
      },
      "execution_count": 78,
      "outputs": [
        {
          "output_type": "stream",
          "name": "stderr",
          "text": [
            "<ipython-input-78-5f544fb7790b>:1: FutureWarning: 'M' is deprecated and will be removed in a future version, please use 'ME' instead.\n",
            "  data = data.groupby(pd.Grouper(freq=\"M\")).mean()\n"
          ]
        },
        {
          "output_type": "execute_result",
          "data": {
            "text/plain": [
              "                   close       close_7       close_6       close_5  \\\n",
              "date                                                                 \n",
              "2014-12-31    336.915185    351.622222    349.515185    347.817407   \n",
              "2015-01-31    247.703871    264.531290    262.392581    260.412581   \n",
              "2015-02-28    234.278214    234.673929    234.087857    232.995714   \n",
              "2015-03-31    268.596774    267.455806    267.810645    268.150645   \n",
              "2015-04-30    234.833333    239.573667    239.019667    238.247000   \n",
              "...                  ...           ...           ...           ...   \n",
              "2021-11-30  60705.494000  61744.982000  61547.769667  61503.167000   \n",
              "2021-12-31  49328.349032  51184.920645  50967.409677  50702.928065   \n",
              "2022-01-31  41111.849677  43562.009032  43127.611935  42677.228387   \n",
              "2022-02-28  40763.182143  40413.088571  40459.303929  40475.191786   \n",
              "2022-03-31  43185.480000  38269.940000  37274.180000  38376.880000   \n",
              "\n",
              "                 close_4       close_3       close_2       close_1  \n",
              "date                                                                \n",
              "2014-12-31    345.689630    343.402222    341.014444    338.617037  \n",
              "2015-01-31    258.706129    256.111613    253.530000    250.970645  \n",
              "2015-02-28    232.163571    232.227857    232.297500    233.028214  \n",
              "2015-03-31    268.421613    268.883226    269.060323    268.887097  \n",
              "2015-04-30    237.293667    236.417000    235.847667    235.107667  \n",
              "...                  ...           ...           ...           ...  \n",
              "2021-11-30  61347.282000  61153.345333  60987.910667  60851.671333  \n",
              "2021-12-31  50603.855806  50370.586129  50020.418710  49675.437742  \n",
              "2022-01-31  42241.430000  41925.464194  41658.021935  41360.960968  \n",
              "2022-02-28  40516.924643  40569.898929  40603.970714  40595.787143  \n",
              "2022-03-31  39231.640000  39146.660000  37712.680000  43178.980000  \n",
              "\n",
              "[88 rows x 8 columns]"
            ],
            "text/html": [
              "\n",
              "  <div id=\"df-9c87ff92-9676-42a0-87f5-5d696096c867\" class=\"colab-df-container\">\n",
              "    <div>\n",
              "<style scoped>\n",
              "    .dataframe tbody tr th:only-of-type {\n",
              "        vertical-align: middle;\n",
              "    }\n",
              "\n",
              "    .dataframe tbody tr th {\n",
              "        vertical-align: top;\n",
              "    }\n",
              "\n",
              "    .dataframe thead th {\n",
              "        text-align: right;\n",
              "    }\n",
              "</style>\n",
              "<table border=\"1\" class=\"dataframe\">\n",
              "  <thead>\n",
              "    <tr style=\"text-align: right;\">\n",
              "      <th></th>\n",
              "      <th>close</th>\n",
              "      <th>close_7</th>\n",
              "      <th>close_6</th>\n",
              "      <th>close_5</th>\n",
              "      <th>close_4</th>\n",
              "      <th>close_3</th>\n",
              "      <th>close_2</th>\n",
              "      <th>close_1</th>\n",
              "    </tr>\n",
              "    <tr>\n",
              "      <th>date</th>\n",
              "      <th></th>\n",
              "      <th></th>\n",
              "      <th></th>\n",
              "      <th></th>\n",
              "      <th></th>\n",
              "      <th></th>\n",
              "      <th></th>\n",
              "      <th></th>\n",
              "    </tr>\n",
              "  </thead>\n",
              "  <tbody>\n",
              "    <tr>\n",
              "      <th>2014-12-31</th>\n",
              "      <td>336.915185</td>\n",
              "      <td>351.622222</td>\n",
              "      <td>349.515185</td>\n",
              "      <td>347.817407</td>\n",
              "      <td>345.689630</td>\n",
              "      <td>343.402222</td>\n",
              "      <td>341.014444</td>\n",
              "      <td>338.617037</td>\n",
              "    </tr>\n",
              "    <tr>\n",
              "      <th>2015-01-31</th>\n",
              "      <td>247.703871</td>\n",
              "      <td>264.531290</td>\n",
              "      <td>262.392581</td>\n",
              "      <td>260.412581</td>\n",
              "      <td>258.706129</td>\n",
              "      <td>256.111613</td>\n",
              "      <td>253.530000</td>\n",
              "      <td>250.970645</td>\n",
              "    </tr>\n",
              "    <tr>\n",
              "      <th>2015-02-28</th>\n",
              "      <td>234.278214</td>\n",
              "      <td>234.673929</td>\n",
              "      <td>234.087857</td>\n",
              "      <td>232.995714</td>\n",
              "      <td>232.163571</td>\n",
              "      <td>232.227857</td>\n",
              "      <td>232.297500</td>\n",
              "      <td>233.028214</td>\n",
              "    </tr>\n",
              "    <tr>\n",
              "      <th>2015-03-31</th>\n",
              "      <td>268.596774</td>\n",
              "      <td>267.455806</td>\n",
              "      <td>267.810645</td>\n",
              "      <td>268.150645</td>\n",
              "      <td>268.421613</td>\n",
              "      <td>268.883226</td>\n",
              "      <td>269.060323</td>\n",
              "      <td>268.887097</td>\n",
              "    </tr>\n",
              "    <tr>\n",
              "      <th>2015-04-30</th>\n",
              "      <td>234.833333</td>\n",
              "      <td>239.573667</td>\n",
              "      <td>239.019667</td>\n",
              "      <td>238.247000</td>\n",
              "      <td>237.293667</td>\n",
              "      <td>236.417000</td>\n",
              "      <td>235.847667</td>\n",
              "      <td>235.107667</td>\n",
              "    </tr>\n",
              "    <tr>\n",
              "      <th>...</th>\n",
              "      <td>...</td>\n",
              "      <td>...</td>\n",
              "      <td>...</td>\n",
              "      <td>...</td>\n",
              "      <td>...</td>\n",
              "      <td>...</td>\n",
              "      <td>...</td>\n",
              "      <td>...</td>\n",
              "    </tr>\n",
              "    <tr>\n",
              "      <th>2021-11-30</th>\n",
              "      <td>60705.494000</td>\n",
              "      <td>61744.982000</td>\n",
              "      <td>61547.769667</td>\n",
              "      <td>61503.167000</td>\n",
              "      <td>61347.282000</td>\n",
              "      <td>61153.345333</td>\n",
              "      <td>60987.910667</td>\n",
              "      <td>60851.671333</td>\n",
              "    </tr>\n",
              "    <tr>\n",
              "      <th>2021-12-31</th>\n",
              "      <td>49328.349032</td>\n",
              "      <td>51184.920645</td>\n",
              "      <td>50967.409677</td>\n",
              "      <td>50702.928065</td>\n",
              "      <td>50603.855806</td>\n",
              "      <td>50370.586129</td>\n",
              "      <td>50020.418710</td>\n",
              "      <td>49675.437742</td>\n",
              "    </tr>\n",
              "    <tr>\n",
              "      <th>2022-01-31</th>\n",
              "      <td>41111.849677</td>\n",
              "      <td>43562.009032</td>\n",
              "      <td>43127.611935</td>\n",
              "      <td>42677.228387</td>\n",
              "      <td>42241.430000</td>\n",
              "      <td>41925.464194</td>\n",
              "      <td>41658.021935</td>\n",
              "      <td>41360.960968</td>\n",
              "    </tr>\n",
              "    <tr>\n",
              "      <th>2022-02-28</th>\n",
              "      <td>40763.182143</td>\n",
              "      <td>40413.088571</td>\n",
              "      <td>40459.303929</td>\n",
              "      <td>40475.191786</td>\n",
              "      <td>40516.924643</td>\n",
              "      <td>40569.898929</td>\n",
              "      <td>40603.970714</td>\n",
              "      <td>40595.787143</td>\n",
              "    </tr>\n",
              "    <tr>\n",
              "      <th>2022-03-31</th>\n",
              "      <td>43185.480000</td>\n",
              "      <td>38269.940000</td>\n",
              "      <td>37274.180000</td>\n",
              "      <td>38376.880000</td>\n",
              "      <td>39231.640000</td>\n",
              "      <td>39146.660000</td>\n",
              "      <td>37712.680000</td>\n",
              "      <td>43178.980000</td>\n",
              "    </tr>\n",
              "  </tbody>\n",
              "</table>\n",
              "<p>88 rows × 8 columns</p>\n",
              "</div>\n",
              "    <div class=\"colab-df-buttons\">\n",
              "\n",
              "  <div class=\"colab-df-container\">\n",
              "    <button class=\"colab-df-convert\" onclick=\"convertToInteractive('df-9c87ff92-9676-42a0-87f5-5d696096c867')\"\n",
              "            title=\"Convert this dataframe to an interactive table.\"\n",
              "            style=\"display:none;\">\n",
              "\n",
              "  <svg xmlns=\"http://www.w3.org/2000/svg\" height=\"24px\" viewBox=\"0 -960 960 960\">\n",
              "    <path d=\"M120-120v-720h720v720H120Zm60-500h600v-160H180v160Zm220 220h160v-160H400v160Zm0 220h160v-160H400v160ZM180-400h160v-160H180v160Zm440 0h160v-160H620v160ZM180-180h160v-160H180v160Zm440 0h160v-160H620v160Z\"/>\n",
              "  </svg>\n",
              "    </button>\n",
              "\n",
              "  <style>\n",
              "    .colab-df-container {\n",
              "      display:flex;\n",
              "      gap: 12px;\n",
              "    }\n",
              "\n",
              "    .colab-df-convert {\n",
              "      background-color: #E8F0FE;\n",
              "      border: none;\n",
              "      border-radius: 50%;\n",
              "      cursor: pointer;\n",
              "      display: none;\n",
              "      fill: #1967D2;\n",
              "      height: 32px;\n",
              "      padding: 0 0 0 0;\n",
              "      width: 32px;\n",
              "    }\n",
              "\n",
              "    .colab-df-convert:hover {\n",
              "      background-color: #E2EBFA;\n",
              "      box-shadow: 0px 1px 2px rgba(60, 64, 67, 0.3), 0px 1px 3px 1px rgba(60, 64, 67, 0.15);\n",
              "      fill: #174EA6;\n",
              "    }\n",
              "\n",
              "    .colab-df-buttons div {\n",
              "      margin-bottom: 4px;\n",
              "    }\n",
              "\n",
              "    [theme=dark] .colab-df-convert {\n",
              "      background-color: #3B4455;\n",
              "      fill: #D2E3FC;\n",
              "    }\n",
              "\n",
              "    [theme=dark] .colab-df-convert:hover {\n",
              "      background-color: #434B5C;\n",
              "      box-shadow: 0px 1px 3px 1px rgba(0, 0, 0, 0.15);\n",
              "      filter: drop-shadow(0px 1px 2px rgba(0, 0, 0, 0.3));\n",
              "      fill: #FFFFFF;\n",
              "    }\n",
              "  </style>\n",
              "\n",
              "    <script>\n",
              "      const buttonEl =\n",
              "        document.querySelector('#df-9c87ff92-9676-42a0-87f5-5d696096c867 button.colab-df-convert');\n",
              "      buttonEl.style.display =\n",
              "        google.colab.kernel.accessAllowed ? 'block' : 'none';\n",
              "\n",
              "      async function convertToInteractive(key) {\n",
              "        const element = document.querySelector('#df-9c87ff92-9676-42a0-87f5-5d696096c867');\n",
              "        const dataTable =\n",
              "          await google.colab.kernel.invokeFunction('convertToInteractive',\n",
              "                                                    [key], {});\n",
              "        if (!dataTable) return;\n",
              "\n",
              "        const docLinkHtml = 'Like what you see? Visit the ' +\n",
              "          '<a target=\"_blank\" href=https://colab.research.google.com/notebooks/data_table.ipynb>data table notebook</a>'\n",
              "          + ' to learn more about interactive tables.';\n",
              "        element.innerHTML = '';\n",
              "        dataTable['output_type'] = 'display_data';\n",
              "        await google.colab.output.renderOutput(dataTable, element);\n",
              "        const docLink = document.createElement('div');\n",
              "        docLink.innerHTML = docLinkHtml;\n",
              "        element.appendChild(docLink);\n",
              "      }\n",
              "    </script>\n",
              "  </div>\n",
              "\n",
              "\n",
              "<div id=\"df-782bb15c-315b-4cf3-a96d-dcd95048087f\">\n",
              "  <button class=\"colab-df-quickchart\" onclick=\"quickchart('df-782bb15c-315b-4cf3-a96d-dcd95048087f')\"\n",
              "            title=\"Suggest charts\"\n",
              "            style=\"display:none;\">\n",
              "\n",
              "<svg xmlns=\"http://www.w3.org/2000/svg\" height=\"24px\"viewBox=\"0 0 24 24\"\n",
              "     width=\"24px\">\n",
              "    <g>\n",
              "        <path d=\"M19 3H5c-1.1 0-2 .9-2 2v14c0 1.1.9 2 2 2h14c1.1 0 2-.9 2-2V5c0-1.1-.9-2-2-2zM9 17H7v-7h2v7zm4 0h-2V7h2v10zm4 0h-2v-4h2v4z\"/>\n",
              "    </g>\n",
              "</svg>\n",
              "  </button>\n",
              "\n",
              "<style>\n",
              "  .colab-df-quickchart {\n",
              "      --bg-color: #E8F0FE;\n",
              "      --fill-color: #1967D2;\n",
              "      --hover-bg-color: #E2EBFA;\n",
              "      --hover-fill-color: #174EA6;\n",
              "      --disabled-fill-color: #AAA;\n",
              "      --disabled-bg-color: #DDD;\n",
              "  }\n",
              "\n",
              "  [theme=dark] .colab-df-quickchart {\n",
              "      --bg-color: #3B4455;\n",
              "      --fill-color: #D2E3FC;\n",
              "      --hover-bg-color: #434B5C;\n",
              "      --hover-fill-color: #FFFFFF;\n",
              "      --disabled-bg-color: #3B4455;\n",
              "      --disabled-fill-color: #666;\n",
              "  }\n",
              "\n",
              "  .colab-df-quickchart {\n",
              "    background-color: var(--bg-color);\n",
              "    border: none;\n",
              "    border-radius: 50%;\n",
              "    cursor: pointer;\n",
              "    display: none;\n",
              "    fill: var(--fill-color);\n",
              "    height: 32px;\n",
              "    padding: 0;\n",
              "    width: 32px;\n",
              "  }\n",
              "\n",
              "  .colab-df-quickchart:hover {\n",
              "    background-color: var(--hover-bg-color);\n",
              "    box-shadow: 0 1px 2px rgba(60, 64, 67, 0.3), 0 1px 3px 1px rgba(60, 64, 67, 0.15);\n",
              "    fill: var(--button-hover-fill-color);\n",
              "  }\n",
              "\n",
              "  .colab-df-quickchart-complete:disabled,\n",
              "  .colab-df-quickchart-complete:disabled:hover {\n",
              "    background-color: var(--disabled-bg-color);\n",
              "    fill: var(--disabled-fill-color);\n",
              "    box-shadow: none;\n",
              "  }\n",
              "\n",
              "  .colab-df-spinner {\n",
              "    border: 2px solid var(--fill-color);\n",
              "    border-color: transparent;\n",
              "    border-bottom-color: var(--fill-color);\n",
              "    animation:\n",
              "      spin 1s steps(1) infinite;\n",
              "  }\n",
              "\n",
              "  @keyframes spin {\n",
              "    0% {\n",
              "      border-color: transparent;\n",
              "      border-bottom-color: var(--fill-color);\n",
              "      border-left-color: var(--fill-color);\n",
              "    }\n",
              "    20% {\n",
              "      border-color: transparent;\n",
              "      border-left-color: var(--fill-color);\n",
              "      border-top-color: var(--fill-color);\n",
              "    }\n",
              "    30% {\n",
              "      border-color: transparent;\n",
              "      border-left-color: var(--fill-color);\n",
              "      border-top-color: var(--fill-color);\n",
              "      border-right-color: var(--fill-color);\n",
              "    }\n",
              "    40% {\n",
              "      border-color: transparent;\n",
              "      border-right-color: var(--fill-color);\n",
              "      border-top-color: var(--fill-color);\n",
              "    }\n",
              "    60% {\n",
              "      border-color: transparent;\n",
              "      border-right-color: var(--fill-color);\n",
              "    }\n",
              "    80% {\n",
              "      border-color: transparent;\n",
              "      border-right-color: var(--fill-color);\n",
              "      border-bottom-color: var(--fill-color);\n",
              "    }\n",
              "    90% {\n",
              "      border-color: transparent;\n",
              "      border-bottom-color: var(--fill-color);\n",
              "    }\n",
              "  }\n",
              "</style>\n",
              "\n",
              "  <script>\n",
              "    async function quickchart(key) {\n",
              "      const quickchartButtonEl =\n",
              "        document.querySelector('#' + key + ' button');\n",
              "      quickchartButtonEl.disabled = true;  // To prevent multiple clicks.\n",
              "      quickchartButtonEl.classList.add('colab-df-spinner');\n",
              "      try {\n",
              "        const charts = await google.colab.kernel.invokeFunction(\n",
              "            'suggestCharts', [key], {});\n",
              "      } catch (error) {\n",
              "        console.error('Error during call to suggestCharts:', error);\n",
              "      }\n",
              "      quickchartButtonEl.classList.remove('colab-df-spinner');\n",
              "      quickchartButtonEl.classList.add('colab-df-quickchart-complete');\n",
              "    }\n",
              "    (() => {\n",
              "      let quickchartButtonEl =\n",
              "        document.querySelector('#df-782bb15c-315b-4cf3-a96d-dcd95048087f button');\n",
              "      quickchartButtonEl.style.display =\n",
              "        google.colab.kernel.accessAllowed ? 'block' : 'none';\n",
              "    })();\n",
              "  </script>\n",
              "</div>\n",
              "    </div>\n",
              "  </div>\n"
            ],
            "application/vnd.google.colaboratory.intrinsic+json": {
              "type": "dataframe",
              "variable_name": "data",
              "summary": "{\n  \"name\": \"data\",\n  \"rows\": 88,\n  \"fields\": [\n    {\n      \"column\": \"date\",\n      \"properties\": {\n        \"dtype\": \"date\",\n        \"min\": \"2014-12-31 00:00:00\",\n        \"max\": \"2022-03-31 00:00:00\",\n        \"num_unique_values\": 88,\n        \"samples\": [\n          \"2021-04-30 00:00:00\",\n          \"2014-12-31 00:00:00\",\n          \"2017-02-28 00:00:00\"\n        ],\n        \"semantic_type\": \"\",\n        \"description\": \"\"\n      }\n    },\n    {\n      \"column\": \"close\",\n      \"properties\": {\n        \"dtype\": \"number\",\n        \"std\": 16538.679078089073,\n        \"min\": 233.34633333333335,\n        \"max\": 60705.494,\n        \"num_unique_values\": 88,\n        \"samples\": [\n          57098.524,\n          336.9151851851852,\n          1065.1703571428573\n        ],\n        \"semantic_type\": \"\",\n        \"description\": \"\"\n      }\n    },\n    {\n      \"column\": \"close_7\",\n      \"properties\": {\n        \"dtype\": \"number\",\n        \"std\": 16370.49726522928,\n        \"min\": 231.47033333333331,\n        \"max\": 61744.981999999996,\n        \"num_unique_values\": 88,\n        \"samples\": [\n          57715.11433333333,\n          351.6222222222222,\n          1001.91\n        ],\n        \"semantic_type\": \"\",\n        \"description\": \"\"\n      }\n    },\n    {\n      \"column\": \"close_6\",\n      \"properties\": {\n        \"dtype\": \"number\",\n        \"std\": 16360.127602257277,\n        \"min\": 231.85533333333333,\n        \"max\": 61547.76966666667,\n        \"num_unique_values\": 88,\n        \"samples\": [\n          57674.87533333334,\n          349.5151851851852,\n          1010.3764285714286\n        ],\n        \"semantic_type\": \"\",\n        \"description\": \"\"\n      }\n    },\n    {\n      \"column\": \"close_5\",\n      \"properties\": {\n        \"dtype\": \"number\",\n        \"std\": 16388.54063716987,\n        \"min\": 232.18733333333333,\n        \"max\": 61503.167,\n        \"num_unique_values\": 88,\n        \"samples\": [\n          57476.444,\n          347.8174074074074,\n          1020.0825000000001\n        ],\n        \"semantic_type\": \"\",\n        \"description\": \"\"\n      }\n    },\n    {\n      \"column\": \"close_4\",\n      \"properties\": {\n        \"dtype\": \"number\",\n        \"std\": 16414.19628661514,\n        \"min\": 232.16357142857143,\n        \"max\": 61347.282,\n        \"num_unique_values\": 88,\n        \"samples\": [\n          57417.577000000005,\n          345.6896296296297,\n          1029.4503571428572\n        ],\n        \"semantic_type\": \"\",\n        \"description\": \"\"\n      }\n    },\n    {\n      \"column\": \"close_3\",\n      \"properties\": {\n        \"dtype\": \"number\",\n        \"std\": 16422.057423616952,\n        \"min\": 232.22785714285715,\n        \"max\": 61153.34533333334,\n        \"num_unique_values\": 88,\n        \"samples\": [\n          57394.259333333335,\n          343.40222222222224,\n          1037.8235714285715\n        ],\n        \"semantic_type\": \"\",\n        \"description\": \"\"\n      }\n    },\n    {\n      \"column\": \"close_2\",\n      \"properties\": {\n        \"dtype\": \"number\",\n        \"std\": 16405.615230185696,\n        \"min\": 232.29749999999999,\n        \"max\": 60987.91066666667,\n        \"num_unique_values\": 88,\n        \"samples\": [\n          57304.32166666666,\n          341.01444444444445,\n          1047.3217857142856\n        ],\n        \"semantic_type\": \"\",\n        \"description\": \"\"\n      }\n    },\n    {\n      \"column\": \"close_1\",\n      \"properties\": {\n        \"dtype\": \"number\",\n        \"std\": 16523.286194753273,\n        \"min\": 233.02821428571428,\n        \"max\": 60851.67133333334,\n        \"num_unique_values\": 88,\n        \"samples\": [\n          57132.101,\n          338.61703703703705,\n          1057.0917857142856\n        ],\n        \"semantic_type\": \"\",\n        \"description\": \"\"\n      }\n    }\n  ]\n}"
            }
          },
          "metadata": {},
          "execution_count": 78
        }
      ]
    },
    {
      "cell_type": "code",
      "source": [
        "model = Sequential([\n",
        "    Input((train_X.shape[1], train_X.shape[2],)),\n",
        "    LSTM(64, activation=\"relu\", return_sequences=True),\n",
        "    LSTM(32, activation=\"relu\"),\n",
        "    Dense(1, activation=\"linear\")\n",
        "])"
      ],
      "metadata": {
        "id": "mWjxFhFpiSiV"
      },
      "execution_count": 79,
      "outputs": []
    },
    {
      "cell_type": "code",
      "source": [
        "model.compile(\n",
        "    loss=\"mean_squared_error\",\n",
        "    optimizer=\"adam\",\n",
        "    metrics=[\"mean_squared_error\"],\n",
        ")"
      ],
      "metadata": {
        "id": "xtiOFtK1idWN"
      },
      "execution_count": 104,
      "outputs": []
    },
    {
      "cell_type": "code",
      "source": [
        "history = model.fit(train_X, train_y, validation_split=0.20, epochs=2, batch_size=16, shuffle=False)"
      ],
      "metadata": {
        "colab": {
          "base_uri": "https://localhost:8080/"
        },
        "id": "PT9kIxboifuV",
        "outputId": "bf882cc1-b91f-44fb-cf95-26b163983905"
      },
      "execution_count": 105,
      "outputs": [
        {
          "output_type": "stream",
          "name": "stdout",
          "text": [
            "Epoch 1/2\n",
            "\u001b[1m106/106\u001b[0m \u001b[32m━━━━━━━━━━━━━━━━━━━━\u001b[0m\u001b[37m\u001b[0m \u001b[1m6s\u001b[0m 15ms/step - loss: 0.0019 - mean_squared_error: 0.0019 - val_loss: 0.0059 - val_mean_squared_error: 0.0059\n",
            "Epoch 2/2\n",
            "\u001b[1m106/106\u001b[0m \u001b[32m━━━━━━━━━━━━━━━━━━━━\u001b[0m\u001b[37m\u001b[0m \u001b[1m1s\u001b[0m 8ms/step - loss: 0.0022 - mean_squared_error: 0.0022 - val_loss: 0.0013 - val_mean_squared_error: 0.0013\n"
          ]
        }
      ]
    },
    {
      "cell_type": "code",
      "source": [
        "sns.lineplot(history.history[\"loss\"], label=\"loss\")\n",
        "sns.lineplot(history.history[\"val_loss\"], label=\"val_loss\")"
      ],
      "metadata": {
        "colab": {
          "base_uri": "https://localhost:8080/",
          "height": 447
        },
        "id": "XOnR9U4uihys",
        "outputId": "9c4402b8-eb7f-4d0d-b87a-b62d4d5bf90e"
      },
      "execution_count": 106,
      "outputs": [
        {
          "output_type": "execute_result",
          "data": {
            "text/plain": [
              "<Axes: >"
            ]
          },
          "metadata": {},
          "execution_count": 106
        },
        {
          "output_type": "display_data",
          "data": {
            "text/plain": [
              "<Figure size 640x480 with 1 Axes>"
            ],
            "image/png": "[encoded data removed]"
          },
          "metadata": {}
        }
      ]
    },
    {
      "cell_type": "code",
      "source": [
        "pred_y = model.predict(test_X)"
      ],
      "metadata": {
        "colab": {
          "base_uri": "https://localhost:8080/"
        },
        "id": "RysD--ozikWe",
        "outputId": "4cc6873b-bb13-4c03-8a1b-133619bcc7c8"
      },
      "execution_count": 107,
      "outputs": [
        {
          "output_type": "stream",
          "name": "stdout",
          "text": [
            "\u001b[1m17/17\u001b[0m \u001b[32m━━━━━━━━━━━━━━━━━━━━\u001b[0m\u001b[37m\u001b[0m \u001b[1m2s\u001b[0m 49ms/step\n"
          ]
        }
      ]
    },
    {
      "cell_type": "code",
      "source": [
        "pred_y = scaler.inverse_transform(pred_y)"
      ],
      "metadata": {
        "id": "5JGy4r-SjNwh"
      },
      "execution_count": 108,
      "outputs": []
    },
    {
      "cell_type": "code",
      "source": [
        "from sklearn.metrics import mean_absolute_error, mean_squared_error, r2_score\n",
        "(mean_absolute_error(test_y, pred_y), mean_squared_error(test_y, pred_y), r2_score(test_y, pred_y))"
      ],
      "metadata": {
        "id": "cSj-DqiujPRR",
        "outputId": "99c94be7-89a2-4e19-bb40-6b7f4e12de66",
        "colab": {
          "base_uri": "https://localhost:8080/"
        }
      },
      "execution_count": 109,
      "outputs": [
        {
          "output_type": "execute_result",
          "data": {
            "text/plain": [
              "(7609.9775390625, 107606160.0, 0.5136056542396545)"
            ]
          },
          "metadata": {},
          "execution_count": 109
        }
      ]
    }
  ],
  "metadata": {
    "colab": {
      "provenance": []
    },
    "kernelspec": {
      "display_name": "Python 3",
      "name": "python3"
    },
    "language_info": {
      "name": "python"
    }
  },
  "nbformat": 4,
  "nbformat_minor": 0
}