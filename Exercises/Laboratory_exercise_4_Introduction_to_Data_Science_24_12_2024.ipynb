{
  "cells": [
    {
      "cell_type": "markdown",
      "metadata": {
        "id": "rODb9vHvIEbp"
      },
      "source": [
        "# Requirements"
      ]
    },
    {
      "cell_type": "code",
      "execution_count": 109,
      "metadata": {
        "id": "U4KmHBd2cdx9"
      },
      "outputs": [],
      "source": [
        "import pandas as pd\n",
        "from sklearn.model_selection import train_test_split\n",
        "from sklearn.preprocessing import MinMaxScaler\n",
        "from textblob import TextBlob\n",
        "from keras.models import Sequential\n",
        "from keras.layers import Input, LSTM, Dense"
      ]
    },
    {
      "cell_type": "markdown",
      "metadata": {
        "id": "KNMMoUiUIW3L"
      },
      "source": [
        "# Laboratory Exercise - Run Mode (8 points)"
      ]
    },
    {
      "cell_type": "markdown",
      "metadata": {
        "id": "_rAh_91OIjeS"
      },
      "source": [
        "## Introduction\n",
        "In this laboratory assignment, the primary objective is to use Long Short-Term Memory (LSTM) networks for time series forecasting in order to predict the current **close price** of the Dow Jones Industrial Average index. To accomplish this use data from the past 7 days, which includes numeric information and news information. The goal is to employ LSTM, a type of recurrent neural network, to effectively forecast one future step for the index price (the following day).\n"
      ]
    },
    {
      "cell_type": "markdown",
      "metadata": {
        "id": "zBYI-EypaWom"
      },
      "source": [
        "## The DIJA Dataset\n",
        "\n",
        "This dataset consists of daily price records for the value of the Dow Jones Industrial Average index. The dataset includes the following attributes:\n",
        "\n",
        "- Date - date in the format YYYY-MM-DD,\n",
        "- Open - open price of the index on the specified date\n",
        "- Close - close price of the index on the specified date\n",
        "- High - high price of the index on the specified date\n",
        "- Low - low price of the index on the specified date\n",
        "- Volume - number of trades\n",
        "\n"
      ]
    },
    {
      "cell_type": "markdown",
      "metadata": {
        "id": "dSzwHTxmgeHT"
      },
      "source": [
        "## The Reddit News Dataset"
      ]
    },
    {
      "cell_type": "markdown",
      "metadata": {
        "id": "giqLu4SpgeHU"
      },
      "source": [
        "This dataset consists of news headlines for a certain date that might impact the price:\n",
        "\n",
        "- Date - date in the format YYYY-MM-DD,\n",
        "- News - news headline scraped from Reddit\n",
        "\n",
        "<b>Note: You might have multiple headlines for each date. The number of news per date might not be the same for each date. <b>"
      ]
    },
    {
      "cell_type": "markdown",
      "metadata": {
        "id": "DCm1qm1mZwMr"
      },
      "source": [
        "Load the datasets into a `pandas` data frame."
      ]
    },
    {
      "cell_type": "code",
      "execution_count": 74,
      "metadata": {
        "id": "KMOn4fgcZn8s"
      },
      "outputs": [],
      "source": [
        "data1 = pd.read_csv(\"DJIA_table.csv\")\n",
        "data2 = pd.read_csv(\"RedditNews.csv\")"
      ]
    },
    {
      "cell_type": "markdown",
      "metadata": {
        "id": "5slwyyhCKRo9"
      },
      "source": [
        "Merge the datasets (be careful you can get multiple rows per date which is not desirable)"
      ]
    },
    {
      "cell_type": "code",
      "execution_count": 75,
      "metadata": {
        "id": "DFY6TKhGKOY4"
      },
      "outputs": [],
      "source": [
        "def drop_data(data:pd.DataFrame, columns:list):\n",
        "  data_copy = data.copy()\n",
        "  data_copy.drop(columns, axis=1, inplace=True)\n",
        "  return data_copy"
      ]
    },
    {
      "cell_type": "code",
      "source": [
        "data1.columns"
      ],
      "metadata": {
        "colab": {
          "base_uri": "https://localhost:8080/"
        },
        "id": "XLGJ3U6rrxnI",
        "outputId": "bf4739b4-daf2-4d4f-acc9-d99ae7b5c842"
      },
      "execution_count": 76,
      "outputs": [
        {
          "output_type": "execute_result",
          "data": {
            "text/plain": [
              "Index(['Date', 'Open', 'High', 'Low', 'Close', 'Volume'], dtype='object')"
            ]
          },
          "metadata": {},
          "execution_count": 76
        }
      ]
    },
    {
      "cell_type": "code",
      "source": [
        "data1 = drop_data(data1,['Open', 'High', 'Low','Volume'])"
      ],
      "metadata": {
        "id": "KB0YuJu4ryxG"
      },
      "execution_count": 77,
      "outputs": []
    },
    {
      "cell_type": "code",
      "source": [
        "aggregated_data2 = data2.groupby('Date')['News'].apply(lambda x: ' ; '.join(x)).reset_index()\n",
        "aggregated_data2"
      ],
      "metadata": {
        "colab": {
          "base_uri": "https://localhost:8080/",
          "height": 424
        },
        "id": "c1HONqsFtT3k",
        "outputId": "551150f4-f1f8-4f63-82b5-d428456198ba"
      },
      "execution_count": 78,
      "outputs": [
        {
          "output_type": "execute_result",
          "data": {
            "text/plain": [
              "            Date                                               News\n",
              "0     2008-06-08  b'Nim Chimpsky: The tragedy of the chimp who t...\n",
              "1     2008-06-09  b'United States quits Human Rights Council' ; ...\n",
              "2     2008-06-10  b'Oil shortage a myth, says industry insider' ...\n",
              "3     2008-06-11  b'BBC uncovers lost Iraq billions' ; b'War Cri...\n",
              "4     2008-06-12  b'Did US attack Pakistan last night? \"Pakistan...\n",
              "...          ...                                                ...\n",
              "2938  2016-06-27  Barclays and RBS shares suspended from trading...\n",
              "2939  2016-06-28  2,500 Scientists To Australia: If You Want To ...\n",
              "2940  2016-06-29  Explosion At Airport In Istanbul ; Yemeni form...\n",
              "2941  2016-06-30  Jamaica proposes marijuana dispensers for tour...\n",
              "2942  2016-07-01  A 117-year-old woman in Mexico City finally re...\n",
              "\n",
              "[2943 rows x 2 columns]"
            ],
            "text/html": [
              "\n",
              "  <div id=\"df-26ca4c04-59b2-4f24-8ed2-11976e502a05\" class=\"colab-df-container\">\n",
              "    <div>\n",
              "<style scoped>\n",
              "    .dataframe tbody tr th:only-of-type {\n",
              "        vertical-align: middle;\n",
              "    }\n",
              "\n",
              "    .dataframe tbody tr th {\n",
              "        vertical-align: top;\n",
              "    }\n",
              "\n",
              "    .dataframe thead th {\n",
              "        text-align: right;\n",
              "    }\n",
              "</style>\n",
              "<table border=\"1\" class=\"dataframe\">\n",
              "  <thead>\n",
              "    <tr style=\"text-align: right;\">\n",
              "      <th></th>\n",
              "      <th>Date</th>\n",
              "      <th>News</th>\n",
              "    </tr>\n",
              "  </thead>\n",
              "  <tbody>\n",
              "    <tr>\n",
              "      <th>0</th>\n",
              "      <td>2008-06-08</td>\n",
              "      <td>b'Nim Chimpsky: The tragedy of the chimp who t...</td>\n",
              "    </tr>\n",
              "    <tr>\n",
              "      <th>1</th>\n",
              "      <td>2008-06-09</td>\n",
              "      <td>b'United States quits Human Rights Council' ; ...</td>\n",
              "    </tr>\n",
              "    <tr>\n",
              "      <th>2</th>\n",
              "      <td>2008-06-10</td>\n",
              "      <td>b'Oil shortage a myth, says industry insider' ...</td>\n",
              "    </tr>\n",
              "    <tr>\n",
              "      <th>3</th>\n",
              "      <td>2008-06-11</td>\n",
              "      <td>b'BBC uncovers lost Iraq billions' ; b'War Cri...</td>\n",
              "    </tr>\n",
              "    <tr>\n",
              "      <th>4</th>\n",
              "      <td>2008-06-12</td>\n",
              "      <td>b'Did US attack Pakistan last night? \"Pakistan...</td>\n",
              "    </tr>\n",
              "    <tr>\n",
              "      <th>...</th>\n",
              "      <td>...</td>\n",
              "      <td>...</td>\n",
              "    </tr>\n",
              "    <tr>\n",
              "      <th>2938</th>\n",
              "      <td>2016-06-27</td>\n",
              "      <td>Barclays and RBS shares suspended from trading...</td>\n",
              "    </tr>\n",
              "    <tr>\n",
              "      <th>2939</th>\n",
              "      <td>2016-06-28</td>\n",
              "      <td>2,500 Scientists To Australia: If You Want To ...</td>\n",
              "    </tr>\n",
              "    <tr>\n",
              "      <th>2940</th>\n",
              "      <td>2016-06-29</td>\n",
              "      <td>Explosion At Airport In Istanbul ; Yemeni form...</td>\n",
              "    </tr>\n",
              "    <tr>\n",
              "      <th>2941</th>\n",
              "      <td>2016-06-30</td>\n",
              "      <td>Jamaica proposes marijuana dispensers for tour...</td>\n",
              "    </tr>\n",
              "    <tr>\n",
              "      <th>2942</th>\n",
              "      <td>2016-07-01</td>\n",
              "      <td>A 117-year-old woman in Mexico City finally re...</td>\n",
              "    </tr>\n",
              "  </tbody>\n",
              "</table>\n",
              "<p>2943 rows × 2 columns</p>\n",
              "</div>\n",
              "    <div class=\"colab-df-buttons\">\n",
              "\n",
              "  <div class=\"colab-df-container\">\n",
              "    <button class=\"colab-df-convert\" onclick=\"convertToInteractive('df-26ca4c04-59b2-4f24-8ed2-11976e502a05')\"\n",
              "            title=\"Convert this dataframe to an interactive table.\"\n",
              "            style=\"display:none;\">\n",
              "\n",
              "  <svg xmlns=\"http://www.w3.org/2000/svg\" height=\"24px\" viewBox=\"0 -960 960 960\">\n",
              "    <path d=\"M120-120v-720h720v720H120Zm60-500h600v-160H180v160Zm220 220h160v-160H400v160Zm0 220h160v-160H400v160ZM180-400h160v-160H180v160Zm440 0h160v-160H620v160ZM180-180h160v-160H180v160Zm440 0h160v-160H620v160Z\"/>\n",
              "  </svg>\n",
              "    </button>\n",
              "\n",
              "  <style>\n",
              "    .colab-df-container {\n",
              "      display:flex;\n",
              "      gap: 12px;\n",
              "    }\n",
              "\n",
              "    .colab-df-convert {\n",
              "      background-color: #E8F0FE;\n",
              "      border: none;\n",
              "      border-radius: 50%;\n",
              "      cursor: pointer;\n",
              "      display: none;\n",
              "      fill: #1967D2;\n",
              "      height: 32px;\n",
              "      padding: 0 0 0 0;\n",
              "      width: 32px;\n",
              "    }\n",
              "\n",
              "    .colab-df-convert:hover {\n",
              "      background-color: #E2EBFA;\n",
              "      box-shadow: 0px 1px 2px rgba(60, 64, 67, 0.3), 0px 1px 3px 1px rgba(60, 64, 67, 0.15);\n",
              "      fill: #174EA6;\n",
              "    }\n",
              "\n",
              "    .colab-df-buttons div {\n",
              "      margin-bottom: 4px;\n",
              "    }\n",
              "\n",
              "    [theme=dark] .colab-df-convert {\n",
              "      background-color: #3B4455;\n",
              "      fill: #D2E3FC;\n",
              "    }\n",
              "\n",
              "    [theme=dark] .colab-df-convert:hover {\n",
              "      background-color: #434B5C;\n",
              "      box-shadow: 0px 1px 3px 1px rgba(0, 0, 0, 0.15);\n",
              "      filter: drop-shadow(0px 1px 2px rgba(0, 0, 0, 0.3));\n",
              "      fill: #FFFFFF;\n",
              "    }\n",
              "  </style>\n",
              "\n",
              "    <script>\n",
              "      const buttonEl =\n",
              "        document.querySelector('#df-26ca4c04-59b2-4f24-8ed2-11976e502a05 button.colab-df-convert');\n",
              "      buttonEl.style.display =\n",
              "        google.colab.kernel.accessAllowed ? 'block' : 'none';\n",
              "\n",
              "      async function convertToInteractive(key) {\n",
              "        const element = document.querySelector('#df-26ca4c04-59b2-4f24-8ed2-11976e502a05');\n",
              "        const dataTable =\n",
              "          await google.colab.kernel.invokeFunction('convertToInteractive',\n",
              "                                                    [key], {});\n",
              "        if (!dataTable) return;\n",
              "\n",
              "        const docLinkHtml = 'Like what you see? Visit the ' +\n",
              "          '<a target=\"_blank\" href=https://colab.research.google.com/notebooks/data_table.ipynb>data table notebook</a>'\n",
              "          + ' to learn more about interactive tables.';\n",
              "        element.innerHTML = '';\n",
              "        dataTable['output_type'] = 'display_data';\n",
              "        await google.colab.output.renderOutput(dataTable, element);\n",
              "        const docLink = document.createElement('div');\n",
              "        docLink.innerHTML = docLinkHtml;\n",
              "        element.appendChild(docLink);\n",
              "      }\n",
              "    </script>\n",
              "  </div>\n",
              "\n",
              "\n",
              "<div id=\"df-14e4a474-207c-4436-8fce-26b326b7d0bd\">\n",
              "  <button class=\"colab-df-quickchart\" onclick=\"quickchart('df-14e4a474-207c-4436-8fce-26b326b7d0bd')\"\n",
              "            title=\"Suggest charts\"\n",
              "            style=\"display:none;\">\n",
              "\n",
              "<svg xmlns=\"http://www.w3.org/2000/svg\" height=\"24px\"viewBox=\"0 0 24 24\"\n",
              "     width=\"24px\">\n",
              "    <g>\n",
              "        <path d=\"M19 3H5c-1.1 0-2 .9-2 2v14c0 1.1.9 2 2 2h14c1.1 0 2-.9 2-2V5c0-1.1-.9-2-2-2zM9 17H7v-7h2v7zm4 0h-2V7h2v10zm4 0h-2v-4h2v4z\"/>\n",
              "    </g>\n",
              "</svg>\n",
              "  </button>\n",
              "\n",
              "<style>\n",
              "  .colab-df-quickchart {\n",
              "      --bg-color: #E8F0FE;\n",
              "      --fill-color: #1967D2;\n",
              "      --hover-bg-color: #E2EBFA;\n",
              "      --hover-fill-color: #174EA6;\n",
              "      --disabled-fill-color: #AAA;\n",
              "      --disabled-bg-color: #DDD;\n",
              "  }\n",
              "\n",
              "  [theme=dark] .colab-df-quickchart {\n",
              "      --bg-color: #3B4455;\n",
              "      --fill-color: #D2E3FC;\n",
              "      --hover-bg-color: #434B5C;\n",
              "      --hover-fill-color: #FFFFFF;\n",
              "      --disabled-bg-color: #3B4455;\n",
              "      --disabled-fill-color: #666;\n",
              "  }\n",
              "\n",
              "  .colab-df-quickchart {\n",
              "    background-color: var(--bg-color);\n",
              "    border: none;\n",
              "    border-radius: 50%;\n",
              "    cursor: pointer;\n",
              "    display: none;\n",
              "    fill: var(--fill-color);\n",
              "    height: 32px;\n",
              "    padding: 0;\n",
              "    width: 32px;\n",
              "  }\n",
              "\n",
              "  .colab-df-quickchart:hover {\n",
              "    background-color: var(--hover-bg-color);\n",
              "    box-shadow: 0 1px 2px rgba(60, 64, 67, 0.3), 0 1px 3px 1px rgba(60, 64, 67, 0.15);\n",
              "    fill: var(--button-hover-fill-color);\n",
              "  }\n",
              "\n",
              "  .colab-df-quickchart-complete:disabled,\n",
              "  .colab-df-quickchart-complete:disabled:hover {\n",
              "    background-color: var(--disabled-bg-color);\n",
              "    fill: var(--disabled-fill-color);\n",
              "    box-shadow: none;\n",
              "  }\n",
              "\n",
              "  .colab-df-spinner {\n",
              "    border: 2px solid var(--fill-color);\n",
              "    border-color: transparent;\n",
              "    border-bottom-color: var(--fill-color);\n",
              "    animation:\n",
              "      spin 1s steps(1) infinite;\n",
              "  }\n",
              "\n",
              "  @keyframes spin {\n",
              "    0% {\n",
              "      border-color: transparent;\n",
              "      border-bottom-color: var(--fill-color);\n",
              "      border-left-color: var(--fill-color);\n",
              "    }\n",
              "    20% {\n",
              "      border-color: transparent;\n",
              "      border-left-color: var(--fill-color);\n",
              "      border-top-color: var(--fill-color);\n",
              "    }\n",
              "    30% {\n",
              "      border-color: transparent;\n",
              "      border-left-color: var(--fill-color);\n",
              "      border-top-color: var(--fill-color);\n",
              "      border-right-color: var(--fill-color);\n",
              "    }\n",
              "    40% {\n",
              "      border-color: transparent;\n",
              "      border-right-color: var(--fill-color);\n",
              "      border-top-color: var(--fill-color);\n",
              "    }\n",
              "    60% {\n",
              "      border-color: transparent;\n",
              "      border-right-color: var(--fill-color);\n",
              "    }\n",
              "    80% {\n",
              "      border-color: transparent;\n",
              "      border-right-color: var(--fill-color);\n",
              "      border-bottom-color: var(--fill-color);\n",
              "    }\n",
              "    90% {\n",
              "      border-color: transparent;\n",
              "      border-bottom-color: var(--fill-color);\n",
              "    }\n",
              "  }\n",
              "</style>\n",
              "\n",
              "  <script>\n",
              "    async function quickchart(key) {\n",
              "      const quickchartButtonEl =\n",
              "        document.querySelector('#' + key + ' button');\n",
              "      quickchartButtonEl.disabled = true;  // To prevent multiple clicks.\n",
              "      quickchartButtonEl.classList.add('colab-df-spinner');\n",
              "      try {\n",
              "        const charts = await google.colab.kernel.invokeFunction(\n",
              "            'suggestCharts', [key], {});\n",
              "      } catch (error) {\n",
              "        console.error('Error during call to suggestCharts:', error);\n",
              "      }\n",
              "      quickchartButtonEl.classList.remove('colab-df-spinner');\n",
              "      quickchartButtonEl.classList.add('colab-df-quickchart-complete');\n",
              "    }\n",
              "    (() => {\n",
              "      let quickchartButtonEl =\n",
              "        document.querySelector('#df-14e4a474-207c-4436-8fce-26b326b7d0bd button');\n",
              "      quickchartButtonEl.style.display =\n",
              "        google.colab.kernel.accessAllowed ? 'block' : 'none';\n",
              "    })();\n",
              "  </script>\n",
              "</div>\n",
              "    </div>\n",
              "  </div>\n"
            ],
            "application/vnd.google.colaboratory.intrinsic+json": {
              "type": "dataframe",
              "variable_name": "aggregated_data2",
              "summary": "{\n  \"name\": \"aggregated_data2\",\n  \"rows\": 2943,\n  \"fields\": [\n    {\n      \"column\": \"Date\",\n      \"properties\": {\n        \"dtype\": \"object\",\n        \"num_unique_values\": 2943,\n        \"samples\": [\n          \"2010-09-28\",\n          \"2011-04-13\",\n          \"2015-01-04\"\n        ],\n        \"semantic_type\": \"\",\n        \"description\": \"\"\n      }\n    },\n    {\n      \"column\": \"News\",\n      \"properties\": {\n        \"dtype\": \"string\",\n        \"num_unique_values\": 2943,\n        \"samples\": [\n          \"Tapes describe U.S. servicemen killing civilians for sport ; Since 2000, 7,454 people killed as a result of the Israel-palestine conflict: 6,371 Palestinians and 1,083 Israelis ; Israeli court recognizes Jewish pre-1948 property deed in East Jerusalem, allowing for the legal eviction of dozens of Palestinian families who will be replaced by Jewish families. ; Russia is exporting 60 tons of mammoth ivory to China per year, and scientists estimate there is plenty more where that came from.  ; More Israelis have been killed in car accidents than in all of the countrys wars combined.   ; Parents Of Soldier Say They Warned Army About Thrill Kill Sergeant - ABC News ; Aid ship carrying eight Jewish activists from Europe, Israel, and the US was seized by Israeli navy off the coast of Gaza ; Since 2006, over 28.000 people have died as the result of the drug war in Mexico ; Settlement freeze? It was barely a slowdown\\r\\nWhat took place in the past few months is, in the best case scenario, not more than a negligible decrease in the number of housing units that were built in settlements. By Dror Etkes  ; Taser firm that supplies weapons to UK police forces had its licence revoked for supplying unauthorized weapons to cops in the stand-off with gunman Raoul Moat ; Russian President Dmitry Medvedev on Tuesday abruptly sacked veteran Moscow mayor Yuri Luzhkov, a powerful political opponent who criticized the Kremlin and then defied pressure to resign ; Continent of Fear: The Rise of Europe's Right-Wing Populists ; Tony Blair received early torture warning, court told ; A Dutch woman \\\"guerilla chick\\\" is thought to have been killed in last Wednesday's Colombian army raid on a Farc camp. ; Pakistan has lodged a protest with Nato after forces killed more than 30 insurgents in a rare, cross-border air raid.  ; \\r\\nNorth Korea's Kim Jong-Il appoints son, Kim Jong Un, to a four-star genearl, fueling speculation he'll lead next. ; Mexico landslide buries hundreds of homes, 1,000 people feared dead or injured ; ACS:Law could face 500,000 fine for porn list leak ; People's Republic of China threatens Nobel Prize Committee ; Canadian court overturns prostitution laws ; The worst drought in the last 30 years has ignited more than 47,000 fires in Bolivia over the last few months - 9.9 million acres burned so far ; New Al Qaeda Number Three Killed Before his Seat Got Warm ; Medvedev fires Moscow's mayor: Is this a turning point in his presidency? ; Luzhkov dethroned by Medvedev! ; Insurance firms are establishing a private navy to take on Somali pirates\",\n          \"The Canadian Cannabis laws have been declared invalid, in 90 days it will be fully re legalized. ; Bolivia is drawing up a draft UN treaty which would give Mother Earth the same rights as humans, including the right to life, to pure water and clean air.\\r\\n ; \\\"The clatter of helicopter blades echoed across the jungles of northwestern Ecuador...The police had received a tip that a gang of Colombian drug smugglers had set up a clandestine work site here...And whatever the traffickers were building, the tipster had warned, was truly enormous.\\\" ; Susan Manning calls on British foreign secretary to check her son's physical and mental health in maximum security custody ; New Zealand's trying to pass a previously rejected three-strikes Internet disconnection law by attaching it to legislation dealing with the earthquakes in Christchurch. ; US WikiLeaks Suspect Bradley Manning's Jail \\r\\nConditions Criticized By Germany's Parliament ; Rebels Hijack Gadhafi's Phone Network ; MEXICO: 39 killed in Ciudad Juarez in four days ; WikiLeaks: Bradley Manning treatment may be \\r\\n'illegal and unconstitutional' ; \\\"The scam was not complicated. Coins taken out of \\r\\ncirculation are destroyed and sold as scrap metal. \\r\\nOften, however, one and two euro coins are merely \\r\\nsplit in two. A group in China would simply \\r\\nreassemble the coins.\\\" ; Hugh Grant wears wire to turn tables on journalist about Phone-hacking ; Syria: Thousands come out to protest imprisonment of hundreds of Syrian men arrested by authorities in recent days ; Armenian nuclear power plant still operating with out containment structures, just like Chernobyl.  And it sits on \\\"some of Earth's most earthquake-prone terrain\\\" ; MEXICO  Mexican investigators have found a total of 116 bodies in pits near the U.S. border, 28 more than previously reported ; Israeli Foreign Minister Lieberman faces corruption charges ; Libyan rebels: 10,000 people killed by pro-Gadhafi forces, 30,000 wounded, 20,000 missing ; Nokia will lay off up to 6,000 next week - Microsoft partnership more \\\"takeover\\\" than deal ; Governor of Santa Cruz, Bolivia was shot after attempting to stop a mugging ; British Banker Dies in Plunge from Singapore Hotel Rooftop Bar. ; \\\"North Korean leader Kim Jong-il is unlikely to bow to pressure to surrender his nuclear capability because he believes it is vital for 'regime survival,' the U.S. commander in South Korea said on Tuesday [12 April 2011].\\\" ; Indonesian clinic touts smoking as cancer cure - The 'treatment' for the emphysema sufferer includes the blowing of smoke from 'divine cigarettes' infused with 'nanotechnology' to remove their cancer-causing 'free radicals\\\", through a tube into her diseased lungs. ; Japan's crisis: one month later ; In new protest, Syrian women block main highway  ; Oil above $122 ; Pressure at fukushima reactor vessel 1 at around 10bars (quite a lot) and rising\",\n          \"AirAsia plane engine dies just before takeoff from Surabaya. 90% of passengers refuse to re-embark plane for takeoff after problem was rectified ; Merkel prepared to let Greece exit eurozone: report ; Iran's elite Revolutionary Guards Corps thwarted a Mossad assassination attempt against one of its nuclear scientists, a senior Iranian security official said on Saturday. ; Chinese demand for tiger wine and skins puts wild cats in peril ; France most notorious and internationally best-known novelist Michel Houellebecq insisted Saturday that his new book Submission, which envisions a future France ruled by a Muslim government, is not a far-right racist scare story ; Taxpayers' bill for policing WikiLeaks founder Julian Assange's two-year stay in Ecuadorian embassy soars to 9MILLION ; Ship collision causes 33,000 barrel oil spill off Singapore ; Jews Leaving Europe For Israel In Record Numbers ; Following ICC application, Israel freezes Palestinian tax funds ; Thatcher confidant raped boy and police covered crime up - Telegraph ; Less than 48 hours after the Coast Guard destroyed a boat it suspected was ferrying explosives and terrorists from Pakistan into Indian waters, new evidence has begun to emerge that those on board might have been liquor and diesel smugglers ; French mayor shows mercy after baby Roma girl denied burial spot | A French mayor has granted a burial place to a baby Roma girl, after the family were refused permission in a neighboring town. Staunchly conservative mayor Richard Trinquier said it was a question of humanity. ; Armenia Joins Russia-Led Eurasian Economic Union ; A New Zealander is Facing Four Years in a Burmese Prison for \\\"Insulting Buddhism\\\" ; Boko Haram 'seizes Nigerian army base' ; Iran says no to new law on hijab, saying it is unconstitutional ; Israel won't let its soldiers be dragged to ICC ; Islamist militants have abducted 20 Egyptian Christians in Libya in recent days ; Many of Spains small businesses are being wiped out after New Years Day ; Major search after ship overturns off north of Scotland ; Iran must end isolation for economy to boom: Rouhani ; Intelligence agencies have warned that a Delhi-Kabul flight may be hijacked by terrorists. The input is 'quite specific' and also mentions that an Air India flight could be targeted. Indian airports on high alert ; Indian and Pakistani Guards Trade Fire on Disputed Border ; Saudi Arabian King Abdullah, 90, hospitalised with pneumonia in Riyadh ; Buckingham Palace 'emphatically denies' Prince Andrew sex claims\"\n        ],\n        \"semantic_type\": \"\",\n        \"description\": \"\"\n      }\n    }\n  ]\n}"
            }
          },
          "metadata": {},
          "execution_count": 78
        }
      ]
    },
    {
      "cell_type": "code",
      "source": [
        "data1['Date'] = pd.to_datetime(data1['Date'])\n",
        "aggregated_data2['Date'] = pd.to_datetime(aggregated_data2['Date'])"
      ],
      "metadata": {
        "id": "3REiWR8zvMyU"
      },
      "execution_count": 79,
      "outputs": []
    },
    {
      "cell_type": "code",
      "source": [
        "data = data1.merge(aggregated_data2, on='Date')\n",
        "data"
      ],
      "metadata": {
        "colab": {
          "base_uri": "https://localhost:8080/",
          "height": 424
        },
        "id": "QmG5TYPkv6je",
        "outputId": "aa817d66-81c6-492c-e947-abc271b82e75"
      },
      "execution_count": 80,
      "outputs": [
        {
          "output_type": "execute_result",
          "data": {
            "text/plain": [
              "           Date        Close  \\\n",
              "0    2016-07-01  17949.36914   \n",
              "1    2016-06-30  17929.99023   \n",
              "2    2016-06-29  17694.67969   \n",
              "3    2016-06-28  17409.72070   \n",
              "4    2016-06-27  17140.24023   \n",
              "...         ...          ...   \n",
              "1984 2008-08-14  11615.92969   \n",
              "1985 2008-08-13  11532.95996   \n",
              "1986 2008-08-12  11642.46973   \n",
              "1987 2008-08-11  11782.34961   \n",
              "1988 2008-08-08  11734.32031   \n",
              "\n",
              "                                                   News  \n",
              "0     A 117-year-old woman in Mexico City finally re...  \n",
              "1     Jamaica proposes marijuana dispensers for tour...  \n",
              "2     Explosion At Airport In Istanbul ; Yemeni form...  \n",
              "3     2,500 Scientists To Australia: If You Want To ...  \n",
              "4     Barclays and RBS shares suspended from trading...  \n",
              "...                                                 ...  \n",
              "1984  b'All the experts admit that we should legalis...  \n",
              "1985  b' U.S. refuses Israel weapons to attack Iran:...  \n",
              "1986  b'Remember that adorable 9-year-old who sang a...  \n",
              "1987  b'Why wont America and Nato help us? If they w...  \n",
              "1988  b\"Georgia 'downs two Russian warplanes' as cou...  \n",
              "\n",
              "[1989 rows x 3 columns]"
            ],
            "text/html": [
              "\n",
              "  <div id=\"df-13e978a6-fe2f-4f69-9301-cfa3aa6b701a\" class=\"colab-df-container\">\n",
              "    <div>\n",
              "<style scoped>\n",
              "    .dataframe tbody tr th:only-of-type {\n",
              "        vertical-align: middle;\n",
              "    }\n",
              "\n",
              "    .dataframe tbody tr th {\n",
              "        vertical-align: top;\n",
              "    }\n",
              "\n",
              "    .dataframe thead th {\n",
              "        text-align: right;\n",
              "    }\n",
              "</style>\n",
              "<table border=\"1\" class=\"dataframe\">\n",
              "  <thead>\n",
              "    <tr style=\"text-align: right;\">\n",
              "      <th></th>\n",
              "      <th>Date</th>\n",
              "      <th>Close</th>\n",
              "      <th>News</th>\n",
              "    </tr>\n",
              "  </thead>\n",
              "  <tbody>\n",
              "    <tr>\n",
              "      <th>0</th>\n",
              "      <td>2016-07-01</td>\n",
              "      <td>17949.36914</td>\n",
              "      <td>A 117-year-old woman in Mexico City finally re...</td>\n",
              "    </tr>\n",
              "    <tr>\n",
              "      <th>1</th>\n",
              "      <td>2016-06-30</td>\n",
              "      <td>17929.99023</td>\n",
              "      <td>Jamaica proposes marijuana dispensers for tour...</td>\n",
              "    </tr>\n",
              "    <tr>\n",
              "      <th>2</th>\n",
              "      <td>2016-06-29</td>\n",
              "      <td>17694.67969</td>\n",
              "      <td>Explosion At Airport In Istanbul ; Yemeni form...</td>\n",
              "    </tr>\n",
              "    <tr>\n",
              "      <th>3</th>\n",
              "      <td>2016-06-28</td>\n",
              "      <td>17409.72070</td>\n",
              "      <td>2,500 Scientists To Australia: If You Want To ...</td>\n",
              "    </tr>\n",
              "    <tr>\n",
              "      <th>4</th>\n",
              "      <td>2016-06-27</td>\n",
              "      <td>17140.24023</td>\n",
              "      <td>Barclays and RBS shares suspended from trading...</td>\n",
              "    </tr>\n",
              "    <tr>\n",
              "      <th>...</th>\n",
              "      <td>...</td>\n",
              "      <td>...</td>\n",
              "      <td>...</td>\n",
              "    </tr>\n",
              "    <tr>\n",
              "      <th>1984</th>\n",
              "      <td>2008-08-14</td>\n",
              "      <td>11615.92969</td>\n",
              "      <td>b'All the experts admit that we should legalis...</td>\n",
              "    </tr>\n",
              "    <tr>\n",
              "      <th>1985</th>\n",
              "      <td>2008-08-13</td>\n",
              "      <td>11532.95996</td>\n",
              "      <td>b' U.S. refuses Israel weapons to attack Iran:...</td>\n",
              "    </tr>\n",
              "    <tr>\n",
              "      <th>1986</th>\n",
              "      <td>2008-08-12</td>\n",
              "      <td>11642.46973</td>\n",
              "      <td>b'Remember that adorable 9-year-old who sang a...</td>\n",
              "    </tr>\n",
              "    <tr>\n",
              "      <th>1987</th>\n",
              "      <td>2008-08-11</td>\n",
              "      <td>11782.34961</td>\n",
              "      <td>b'Why wont America and Nato help us? If they w...</td>\n",
              "    </tr>\n",
              "    <tr>\n",
              "      <th>1988</th>\n",
              "      <td>2008-08-08</td>\n",
              "      <td>11734.32031</td>\n",
              "      <td>b\"Georgia 'downs two Russian warplanes' as cou...</td>\n",
              "    </tr>\n",
              "  </tbody>\n",
              "</table>\n",
              "<p>1989 rows × 3 columns</p>\n",
              "</div>\n",
              "    <div class=\"colab-df-buttons\">\n",
              "\n",
              "  <div class=\"colab-df-container\">\n",
              "    <button class=\"colab-df-convert\" onclick=\"convertToInteractive('df-13e978a6-fe2f-4f69-9301-cfa3aa6b701a')\"\n",
              "            title=\"Convert this dataframe to an interactive table.\"\n",
              "            style=\"display:none;\">\n",
              "\n",
              "  <svg xmlns=\"http://www.w3.org/2000/svg\" height=\"24px\" viewBox=\"0 -960 960 960\">\n",
              "    <path d=\"M120-120v-720h720v720H120Zm60-500h600v-160H180v160Zm220 220h160v-160H400v160Zm0 220h160v-160H400v160ZM180-400h160v-160H180v160Zm440 0h160v-160H620v160ZM180-180h160v-160H180v160Zm440 0h160v-160H620v160Z\"/>\n",
              "  </svg>\n",
              "    </button>\n",
              "\n",
              "  <style>\n",
              "    .colab-df-container {\n",
              "      display:flex;\n",
              "      gap: 12px;\n",
              "    }\n",
              "\n",
              "    .colab-df-convert {\n",
              "      background-color: #E8F0FE;\n",
              "      border: none;\n",
              "      border-radius: 50%;\n",
              "      cursor: pointer;\n",
              "      display: none;\n",
              "      fill: #1967D2;\n",
              "      height: 32px;\n",
              "      padding: 0 0 0 0;\n",
              "      width: 32px;\n",
              "    }\n",
              "\n",
              "    .colab-df-convert:hover {\n",
              "      background-color: #E2EBFA;\n",
              "      box-shadow: 0px 1px 2px rgba(60, 64, 67, 0.3), 0px 1px 3px 1px rgba(60, 64, 67, 0.15);\n",
              "      fill: #174EA6;\n",
              "    }\n",
              "\n",
              "    .colab-df-buttons div {\n",
              "      margin-bottom: 4px;\n",
              "    }\n",
              "\n",
              "    [theme=dark] .colab-df-convert {\n",
              "      background-color: #3B4455;\n",
              "      fill: #D2E3FC;\n",
              "    }\n",
              "\n",
              "    [theme=dark] .colab-df-convert:hover {\n",
              "      background-color: #434B5C;\n",
              "      box-shadow: 0px 1px 3px 1px rgba(0, 0, 0, 0.15);\n",
              "      filter: drop-shadow(0px 1px 2px rgba(0, 0, 0, 0.3));\n",
              "      fill: #FFFFFF;\n",
              "    }\n",
              "  </style>\n",
              "\n",
              "    <script>\n",
              "      const buttonEl =\n",
              "        document.querySelector('#df-13e978a6-fe2f-4f69-9301-cfa3aa6b701a button.colab-df-convert');\n",
              "      buttonEl.style.display =\n",
              "        google.colab.kernel.accessAllowed ? 'block' : 'none';\n",
              "\n",
              "      async function convertToInteractive(key) {\n",
              "        const element = document.querySelector('#df-13e978a6-fe2f-4f69-9301-cfa3aa6b701a');\n",
              "        const dataTable =\n",
              "          await google.colab.kernel.invokeFunction('convertToInteractive',\n",
              "                                                    [key], {});\n",
              "        if (!dataTable) return;\n",
              "\n",
              "        const docLinkHtml = 'Like what you see? Visit the ' +\n",
              "          '<a target=\"_blank\" href=https://colab.research.google.com/notebooks/data_table.ipynb>data table notebook</a>'\n",
              "          + ' to learn more about interactive tables.';\n",
              "        element.innerHTML = '';\n",
              "        dataTable['output_type'] = 'display_data';\n",
              "        await google.colab.output.renderOutput(dataTable, element);\n",
              "        const docLink = document.createElement('div');\n",
              "        docLink.innerHTML = docLinkHtml;\n",
              "        element.appendChild(docLink);\n",
              "      }\n",
              "    </script>\n",
              "  </div>\n",
              "\n",
              "\n",
              "<div id=\"df-52918efd-261a-461a-acb9-8194c262886d\">\n",
              "  <button class=\"colab-df-quickchart\" onclick=\"quickchart('df-52918efd-261a-461a-acb9-8194c262886d')\"\n",
              "            title=\"Suggest charts\"\n",
              "            style=\"display:none;\">\n",
              "\n",
              "<svg xmlns=\"http://www.w3.org/2000/svg\" height=\"24px\"viewBox=\"0 0 24 24\"\n",
              "     width=\"24px\">\n",
              "    <g>\n",
              "        <path d=\"M19 3H5c-1.1 0-2 .9-2 2v14c0 1.1.9 2 2 2h14c1.1 0 2-.9 2-2V5c0-1.1-.9-2-2-2zM9 17H7v-7h2v7zm4 0h-2V7h2v10zm4 0h-2v-4h2v4z\"/>\n",
              "    </g>\n",
              "</svg>\n",
              "  </button>\n",
              "\n",
              "<style>\n",
              "  .colab-df-quickchart {\n",
              "      --bg-color: #E8F0FE;\n",
              "      --fill-color: #1967D2;\n",
              "      --hover-bg-color: #E2EBFA;\n",
              "      --hover-fill-color: #174EA6;\n",
              "      --disabled-fill-color: #AAA;\n",
              "      --disabled-bg-color: #DDD;\n",
              "  }\n",
              "\n",
              "  [theme=dark] .colab-df-quickchart {\n",
              "      --bg-color: #3B4455;\n",
              "      --fill-color: #D2E3FC;\n",
              "      --hover-bg-color: #434B5C;\n",
              "      --hover-fill-color: #FFFFFF;\n",
              "      --disabled-bg-color: #3B4455;\n",
              "      --disabled-fill-color: #666;\n",
              "  }\n",
              "\n",
              "  .colab-df-quickchart {\n",
              "    background-color: var(--bg-color);\n",
              "    border: none;\n",
              "    border-radius: 50%;\n",
              "    cursor: pointer;\n",
              "    display: none;\n",
              "    fill: var(--fill-color);\n",
              "    height: 32px;\n",
              "    padding: 0;\n",
              "    width: 32px;\n",
              "  }\n",
              "\n",
              "  .colab-df-quickchart:hover {\n",
              "    background-color: var(--hover-bg-color);\n",
              "    box-shadow: 0 1px 2px rgba(60, 64, 67, 0.3), 0 1px 3px 1px rgba(60, 64, 67, 0.15);\n",
              "    fill: var(--button-hover-fill-color);\n",
              "  }\n",
              "\n",
              "  .colab-df-quickchart-complete:disabled,\n",
              "  .colab-df-quickchart-complete:disabled:hover {\n",
              "    background-color: var(--disabled-bg-color);\n",
              "    fill: var(--disabled-fill-color);\n",
              "    box-shadow: none;\n",
              "  }\n",
              "\n",
              "  .colab-df-spinner {\n",
              "    border: 2px solid var(--fill-color);\n",
              "    border-color: transparent;\n",
              "    border-bottom-color: var(--fill-color);\n",
              "    animation:\n",
              "      spin 1s steps(1) infinite;\n",
              "  }\n",
              "\n",
              "  @keyframes spin {\n",
              "    0% {\n",
              "      border-color: transparent;\n",
              "      border-bottom-color: var(--fill-color);\n",
              "      border-left-color: var(--fill-color);\n",
              "    }\n",
              "    20% {\n",
              "      border-color: transparent;\n",
              "      border-left-color: var(--fill-color);\n",
              "      border-top-color: var(--fill-color);\n",
              "    }\n",
              "    30% {\n",
              "      border-color: transparent;\n",
              "      border-left-color: var(--fill-color);\n",
              "      border-top-color: var(--fill-color);\n",
              "      border-right-color: var(--fill-color);\n",
              "    }\n",
              "    40% {\n",
              "      border-color: transparent;\n",
              "      border-right-color: var(--fill-color);\n",
              "      border-top-color: var(--fill-color);\n",
              "    }\n",
              "    60% {\n",
              "      border-color: transparent;\n",
              "      border-right-color: var(--fill-color);\n",
              "    }\n",
              "    80% {\n",
              "      border-color: transparent;\n",
              "      border-right-color: var(--fill-color);\n",
              "      border-bottom-color: var(--fill-color);\n",
              "    }\n",
              "    90% {\n",
              "      border-color: transparent;\n",
              "      border-bottom-color: var(--fill-color);\n",
              "    }\n",
              "  }\n",
              "</style>\n",
              "\n",
              "  <script>\n",
              "    async function quickchart(key) {\n",
              "      const quickchartButtonEl =\n",
              "        document.querySelector('#' + key + ' button');\n",
              "      quickchartButtonEl.disabled = true;  // To prevent multiple clicks.\n",
              "      quickchartButtonEl.classList.add('colab-df-spinner');\n",
              "      try {\n",
              "        const charts = await google.colab.kernel.invokeFunction(\n",
              "            'suggestCharts', [key], {});\n",
              "      } catch (error) {\n",
              "        console.error('Error during call to suggestCharts:', error);\n",
              "      }\n",
              "      quickchartButtonEl.classList.remove('colab-df-spinner');\n",
              "      quickchartButtonEl.classList.add('colab-df-quickchart-complete');\n",
              "    }\n",
              "    (() => {\n",
              "      let quickchartButtonEl =\n",
              "        document.querySelector('#df-52918efd-261a-461a-acb9-8194c262886d button');\n",
              "      quickchartButtonEl.style.display =\n",
              "        google.colab.kernel.accessAllowed ? 'block' : 'none';\n",
              "    })();\n",
              "  </script>\n",
              "</div>\n",
              "    </div>\n",
              "  </div>\n"
            ],
            "application/vnd.google.colaboratory.intrinsic+json": {
              "type": "dataframe",
              "variable_name": "data",
              "summary": "{\n  \"name\": \"data\",\n  \"rows\": 1989,\n  \"fields\": [\n    {\n      \"column\": \"Date\",\n      \"properties\": {\n        \"dtype\": \"date\",\n        \"min\": \"2008-08-08 00:00:00\",\n        \"max\": \"2016-07-01 00:00:00\",\n        \"num_unique_values\": 1989,\n        \"samples\": [\n          \"2011-11-01 00:00:00\",\n          \"2009-12-10 00:00:00\",\n          \"2013-02-27 00:00:00\"\n        ],\n        \"semantic_type\": \"\",\n        \"description\": \"\"\n      }\n    },\n    {\n      \"column\": \"Close\",\n      \"properties\": {\n        \"dtype\": \"number\",\n        \"std\": 3144.006995761724,\n        \"min\": 6547.049805,\n        \"max\": 18312.39063,\n        \"num_unique_values\": 1978,\n        \"samples\": [\n          16323.05957,\n          15914.74023,\n          13032.75\n        ],\n        \"semantic_type\": \"\",\n        \"description\": \"\"\n      }\n    },\n    {\n      \"column\": \"News\",\n      \"properties\": {\n        \"dtype\": \"string\",\n        \"num_unique_values\": 1989,\n        \"samples\": [\n          \"Israel to shift tax burden to the rich and corporations: Israel's protest movement celebrates its first tangible success.\\r\\n ; S. Korea Plans $50B Fund for Reunification ; China to assemble a permanent space station in ten years! ; Israel punishes Palestinians for Unesco membership: Withholding tax revenues and accelerating settlement construction - But it's Palestines bid for membership that will kill peace talks. ; Palestinians hit by cyber-attack following success at UNESCO ; US soldier jailed for raping South Korean teenager ; Syria has been planting landmines along the country's border with Lebanon as Syrian refugees leave the country to escape the government's crackdown against protesters ; Hacking Update: News Of the World Lawyer Warned Email Was Fatal To Our Case Ahead Of Crucial James Murdoch Meeting   ; China 'targeted 48 chemical and military companies in hacking attack':   Attacks are latest in a long line of internet hacks aimed at industrial and military targets traced back to China\\r\\n ; A 5-Year-Old Girl Is Dying in Brazil Because Insurance Refuses to Pay for US$10,000 Surgery  ; The father of a girl who narrowly escaped Norway's summer massacre is campaigning for the country to ban Call of Duty.  ; Inflation grips China.  The $600 billion stimulus launched in 2008 is all but spent. They've stopped paying migrant workers, with more cuts on the way. ; Nearly half of China's wealthiest citizens are considering emigrating, with the United States and Canada the most popular destinations, according to a new report from the authors of China's rich list. ; Displacement of Palestinians 'a war crime' ; BBC News - Israel to speed up settler homes after Unesco vote ; Markets Slide After Surprise Referendum Is Set by Greece ; Occidental Petroleum Corp. gave millions of dollars to the Colombian army unit that carried out the cold-blooded murder of three union activists ; Libya elects little-known scientist new prime minister\\r\\n| Reuters\\r\\n\\r\\n ; Law firm documents add to heat on James Murdoch ; Japanese MP drinks decontaminated water ; Protesters gather in southern France for G20:  Security tightened in city of Nice as anti-capitalism activists rally on eve of gathering of top world leaders. ; Live coverage of significant new evidence about the News of the World phone-hacking scandal that is emerging from a tranche of documents published by the culture select committee ; European shares tumble on Greek referendum news ; Ai Weiwei ordered to pay $2.2m in taxes ; Israel approves ground operations in Gaza\",\n          \"b'Israeli minister has announced there will be 10,000 new settlers in the occupied West Bank over the next 10 months' ; b'A man who was jailed for rape after going to the aid of a drunken teenager in Edinburgh has been declared a victim of a miscarriage of justice' ; b'Jewish settlers are suspected of being behind an attack on a mosque in the north of the occupied West Bank.' ; b'Uganda just doesn\\\\'t understand human rights: \\\"This \\\\r\\\\nwhole concept of human rights grates my nerves. It \\\\r\\\\nhas made people un-african, mean and self-\\\\r\\\\ncentered. One can now shamelessly stand up and \\\\r\\\\ntell you: \\\"I do as I please. You have no business in \\\\r\\\\nmy affairs.\\\"' ; b' Argentina might become the first Latin American country to legalize gay marriage' ; b'UK food labels are set to distinguish between goods from Palestinians in the occupied territories and produce from Israeli settlements' ; b'From snapshot to Special Branch: how my camera made me a terror suspect' ; b'Is the Chinese government secretly buying hundreds of thousands of cars and parking them somewhere? While auto sales are strong in China, gasoline sales are flat. ' ; b'Furious over a confiscatory currency \\\"reform,\\\" citizens of the world\\\\'s most repressive state have begun publicly criticizing their government' ; b'Congolese government soldiers, who had been supplied with ammunition and food by United Nations peacekeepers, killed hundreds of civilians, gang-raped girls and even cut the heads off some young men.' ; b'New state in India' ; b\\\"Japan's 9/11 Victims to Press for Criminal Investigation of 9/11\\\\n\\\" ; b'UK and US talked of toppling Saddam in 2001' ; b'Dutch man reports theft of ecstasy pill collection' ; b\\\"Turkey's top court has closed the only pro-Kurdish party in parliament for having links to PKK Kurdish rebels. The EU had warned that banning the party would violate Kurdish rights and might jeopardize Turkey's bid for membership.\\\" ; b'A poor boy in Africa drops out of school due to poverty. Builds a windmill at age 14. Garners international attention.' ; b\\\"Britain's libel laws under attack\\\" ; b'Woman faces witchcraft charge in fraud case (in Canada!)' ; b'US judge declares Swiss banker, lawyer fugitives, both accused of helping rich Americans evade taxes by hiding assets in Swiss banks' ; b'Iranian state media attempts to humiliate jailed student activist by releasing picture of him wearing a female headscarf' ; b'Cairo is covertly constructing an underground steel barrier along the 13km-border with Gaza to cut smuggling into the Strip' ; b'Swiss businessman has built a muslim minaret on his company building in protest of his fellow citizens recent referendum decision to ban minarets' ; b\\\"North Korea agrees nuclear 'co-operation' with US\\\" ; b'US Marines train Afghan new police: illiterate young farmers with no formal training who had been plucked off the streets only weeks before' ; b'Innocent Guantnamo Torture Victim Fouad al-Rabiah Is Released In Kuwait (But the worst part about this story is that the mainstream media has buried it.)'\",\n          \"Maldives girl gets 100 lashes for pre-marital sex. 'A 15-year-old rape victim has been sentenced to 100 lashes for engaging in premarital sex, court officials said' ; Compulsive liar jailed after 11 false rape claims in decade ; Australian Muslim activists lose free speech case. 'Australia's highest court on Wednesday narrowly rejected the case of two Muslim activists who argued they had a constitutional free-speech right to send offensive letters to families of Australian soldiers killed in Afghanistan' ; North Korea warns U.S. is within range of strategic rockets, nuclear weapons ; Chinese parents of gays and lesbians demand equal marriage rights ; 'Homosexuality is a ticking timebomb for the Catholic Church': Explosive claim of former friar who says half of recruits are gay ; We'll never stop eating whales, declares Japanese minister ; Afghan teenager whose nose &amp; ears were cut off as punishment for attempting to flee an abusive marriage has revealed her new nose after reconstructive surgery. Aesha Mohammadzai appeared on the cover of Time magazine and became an international symbol of female oppression following her mutilation. ; Tony Blair: People are still 'very abusive' to me 10 years after the Iraq War ; 9 year old boy hangs himself because he was being bullied for being white. ; Evidence is mounting that Chinas government is sponsoring the cybertheft of Western corporate secrets. ; Minister: 'ban smoking in cars carrying children' ; Beijing Restaurant Sign Triggers Fury - Sign at popular tourist spot  bars citizens of nations involved in maritime disputes with China,  triggering outrage among Vietnamese &amp; Filipinos. It reads:  \\\"This shop does not receive the Japanese,  Philippines, Vietnamese &amp; dogs.\\\"  It's gone viral.\\r\\n\\r\\n\\r\\n\\r\\n ; At least 5 dead in Swiss workplace shooting ; New Zealand man eaten by Great White, Police shoot at shark. ; Deforestation rate in Venezuela reduced by 47% ; Amsterdam to raise prostitution age, bring in brothel closing hours. ; Niger arrests doctors after Bill Gates charity graft probe:  Niger arrested about 20 doctors suspected of embezzling funds from a charity set up by the Bill and Melinda Gates Foundation to promote vaccination in poor countries, judicial and police sources said on Monday. ; Anti-protest: Bahrain bans import of plastic Guy Fawkes masks\\r\\n ; U.N. told atheists face discrimination around globe ; An accused rapist was allowed to walk free and later kill two children as a result of a London police policy to manipulate crime statistics by failing to record sexual assault allegations  ; Black Canadian police officer faces charges for not investigating racial taunts directed at him.  \\\"I was treated like a dog.\\\" ; In conservative Pakistan, everybody must get stoned. The garbage man doubles as a dealer, and you can light up in a prominent Sufi shrine  never mind the death penalty. ; The United Nations brought a deadly strain of cholera to Haiti that killed 8,000 people but accepts no responsibility for the disaster ; Salafists fail to stop 'Harlem Shake' in Tunisia\"\n        ],\n        \"semantic_type\": \"\",\n        \"description\": \"\"\n      }\n    }\n  ]\n}"
            }
          },
          "metadata": {},
          "execution_count": 80
        }
      ]
    },
    {
      "cell_type": "code",
      "source": [
        "data.sort_index(inplace=True)"
      ],
      "metadata": {
        "id": "PABwSv-WwnEg"
      },
      "execution_count": 81,
      "outputs": []
    },
    {
      "cell_type": "markdown",
      "metadata": {
        "id": "hZceBEFuiGpI"
      },
      "source": [
        "## Feauture Extraction\n",
        "\n",
        "\n",
        "1. DIJA Table\n",
        "Apply a lag of one, up to 7 days to each feature, creating a set of features representing the index price from the previous 7 days. To maintain dataset integrity, eliminate any resulting missing values at the beginning of the dataset.\n",
        "\n",
        "2. Reddit News Table\n",
        "Create a numeric representation for the news (for example average embedding or average sentiment). <b> You must create lags of the news features as well since we will not know the news for the future. </b>\n",
        "\n",
        "Hint: Use `df['column_name'].shift(period)`. Check the documentation at https://pandas.pydata.org/docs/reference/api/pandas.DataFrame.shift.html."
      ]
    },
    {
      "cell_type": "code",
      "execution_count": 82,
      "metadata": {
        "id": "S-xymWvjTFt-"
      },
      "outputs": [],
      "source": [
        "target = ['Close']\n",
        "all = ['Close','Sentiment']"
      ]
    },
    {
      "cell_type": "code",
      "source": [
        "lags = range(7, 0, -1)\n",
        "list(lags)"
      ],
      "metadata": {
        "colab": {
          "base_uri": "https://localhost:8080/"
        },
        "id": "qetxHYqvw4cc",
        "outputId": "ec3a5c2a-3d6a-4ef0-b279-0b4088b49a8b"
      },
      "execution_count": 83,
      "outputs": [
        {
          "output_type": "execute_result",
          "data": {
            "text/plain": [
              "[7, 6, 5, 4, 3, 2, 1]"
            ]
          },
          "metadata": {},
          "execution_count": 83
        }
      ]
    },
    {
      "cell_type": "code",
      "source": [
        "data['Sentiment'] = data['News'].apply(lambda x: TextBlob(x).sentiment.polarity)"
      ],
      "metadata": {
        "id": "42IEQutMx_AP"
      },
      "execution_count": 84,
      "outputs": []
    },
    {
      "cell_type": "code",
      "source": [
        "data = drop_data(data,['News'])"
      ],
      "metadata": {
        "id": "o_DR_InMy2vu"
      },
      "execution_count": 85,
      "outputs": []
    },
    {
      "cell_type": "code",
      "source": [
        "for lag in lags:\n",
        "    for column in all:\n",
        "        data[f\"{column}_{lag}\"] = data[column].shift(lag)"
      ],
      "metadata": {
        "id": "04CE3NCwxCXa"
      },
      "execution_count": 86,
      "outputs": []
    },
    {
      "cell_type": "code",
      "source": [
        "data.dropna(axis=0, inplace=True)"
      ],
      "metadata": {
        "id": "kc5Ug42yxJtz"
      },
      "execution_count": 87,
      "outputs": []
    },
    {
      "cell_type": "markdown",
      "metadata": {
        "id": "tls69_PrbJKW"
      },
      "source": [
        "## Dataset Splitting\n",
        "Partition the dataset into training and testing sets with an 80:20 ratio.\n",
        "\n",
        "**WARNING: DO NOT SHUFFLE THE DATASET.**\n",
        "\n"
      ]
    },
    {
      "cell_type": "code",
      "execution_count": 88,
      "metadata": {
        "id": "PjGGGMxebeoB"
      },
      "outputs": [],
      "source": [
        "X, y = data.drop(columns=['Close','Date']), data[target]"
      ]
    },
    {
      "cell_type": "code",
      "source": [
        "train_X, test_X, train_y, test_y = train_test_split(X, y, test_size=0.20, shuffle=False)"
      ],
      "metadata": {
        "id": "vNxQ1TPQxr6N"
      },
      "execution_count": 89,
      "outputs": []
    },
    {
      "cell_type": "markdown",
      "metadata": {
        "id": "lwhDHS-nRRhW"
      },
      "source": [
        "## Feauture Scaling\n",
        "Scale the extracted features using an appropriate scaler if needed."
      ]
    },
    {
      "cell_type": "code",
      "execution_count": 90,
      "metadata": {
        "id": "xlvbs68wRaVj"
      },
      "outputs": [],
      "source": [
        "scaler = MinMaxScaler()\n",
        "train_X = scaler.fit_transform(train_X)\n",
        "test_X = scaler.transform(test_X)"
      ]
    },
    {
      "cell_type": "markdown",
      "metadata": {
        "id": "xI53ZRmfW8WG"
      },
      "source": [
        "## Feature Reshaping"
      ]
    },
    {
      "cell_type": "markdown",
      "metadata": {
        "id": "sK9naW8AXVaU"
      },
      "source": [
        "Reshape the feature dimensions into the shape `(samples, timesteps, features)`."
      ]
    },
    {
      "cell_type": "code",
      "execution_count": 107,
      "metadata": {
        "id": "3D-1-V9bW8tl",
        "colab": {
          "base_uri": "https://localhost:8080/"
        },
        "outputId": "5fb50692-1a06-48bd-a2db-7a816be60a01"
      },
      "outputs": [
        {
          "output_type": "execute_result",
          "data": {
            "text/plain": [
              "(1585, 5, 3)"
            ]
          },
          "metadata": {},
          "execution_count": 107
        }
      ],
      "source": [
        "lag = 5\n",
        "(train_X.shape[0], lag, (train_X.shape[1] // lag))"
      ]
    },
    {
      "cell_type": "code",
      "source": [
        "train_X = train_X.reshape((train_X.shape[0], lag, (train_X.shape[1] // lag)))\n",
        "test_X = test_X.reshape((test_X.shape[0], lag, (test_X.shape[1] // lag)))"
      ],
      "metadata": {
        "id": "-XMBbjJlzL6n"
      },
      "execution_count": 108,
      "outputs": []
    },
    {
      "cell_type": "markdown",
      "metadata": {
        "id": "VIkAR1Hibiwr"
      },
      "source": [
        "## Long Short-Term Memory (LSTM) Network\n"
      ]
    },
    {
      "cell_type": "markdown",
      "metadata": {
        "id": "qWn1pafKbnxH"
      },
      "source": [
        "Define the forecasting model using the **Keras Sequential API** (`keras.models.Sequential`), incorporating one or more LSTM layers along with additional relevant layers (`keras.layers`). Be cautious when specifying the configuration of the final layer to ensure proper model output for the forecasting task."
      ]
    },
    {
      "cell_type": "code",
      "execution_count": 131,
      "metadata": {
        "id": "IXFIrQthbnkb"
      },
      "outputs": [],
      "source": [
        "model = Sequential([\n",
        "    Input((train_X.shape[1], train_X.shape[2],)),\n",
        "    LSTM(64, activation=\"relu\", return_sequences=True),\n",
        "    LSTM(32, activation=\"relu\"),\n",
        "    Dense(1, activation=\"linear\")\n",
        "])"
      ]
    },
    {
      "cell_type": "markdown",
      "metadata": {
        "id": "tAM-g59xSO4V"
      },
      "source": [
        "Compile the previously defined model specifying **loss function** (`keras.losses`), **optimizer** (`keras.optimizers`) and **evaluation metrics** (`keras.metics`)."
      ]
    },
    {
      "cell_type": "code",
      "execution_count": 142,
      "metadata": {
        "id": "ZBtCCy9VSQpF"
      },
      "outputs": [],
      "source": [
        "model.compile(\n",
        "    loss=\"mean_squared_error\",\n",
        "    optimizer=\"adam\",\n",
        "    metrics=[\"mean_squared_error\"],\n",
        ")"
      ]
    },
    {
      "cell_type": "markdown",
      "metadata": {
        "id": "lygUzi0QTXgZ"
      },
      "source": [
        "Train the model on the training set, specifying the **batch size** and **number of epochs** for the training process. Allocate 20% of the samples for **validation**, and ensure that the dataset remains **unshuffled** during training."
      ]
    },
    {
      "cell_type": "code",
      "execution_count": 143,
      "metadata": {
        "id": "Fkj3k5p8TXEF",
        "colab": {
          "base_uri": "https://localhost:8080/"
        },
        "outputId": "dd5398e7-c79f-4121-8f5a-b7e66400caba"
      },
      "outputs": [
        {
          "output_type": "stream",
          "name": "stdout",
          "text": [
            "Epoch 1/5\n",
            "\u001b[1m20/20\u001b[0m \u001b[32m━━━━━━━━━━━━━━━━━━━━\u001b[0m\u001b[37m\u001b[0m \u001b[1m7s\u001b[0m 167ms/step - loss: 863989.0000 - mean_squared_error: 863989.0000 - val_loss: 860157.0625 - val_mean_squared_error: 860157.1875\n",
            "Epoch 2/5\n",
            "\u001b[1m20/20\u001b[0m \u001b[32m━━━━━━━━━━━━━━━━━━━━\u001b[0m\u001b[37m\u001b[0m \u001b[1m1s\u001b[0m 7ms/step - loss: 877177.0625 - mean_squared_error: 877177.0625 - val_loss: 644583.1875 - val_mean_squared_error: 644583.1875\n",
            "Epoch 3/5\n",
            "\u001b[1m20/20\u001b[0m \u001b[32m━━━━━━━━━━━━━━━━━━━━\u001b[0m\u001b[37m\u001b[0m \u001b[1m0s\u001b[0m 6ms/step - loss: 757929.6875 - mean_squared_error: 757929.6875 - val_loss: 624500.4375 - val_mean_squared_error: 624500.4375\n",
            "Epoch 4/5\n",
            "\u001b[1m20/20\u001b[0m \u001b[32m━━━━━━━━━━━━━━━━━━━━\u001b[0m\u001b[37m\u001b[0m \u001b[1m0s\u001b[0m 6ms/step - loss: 693736.5000 - mean_squared_error: 693736.5000 - val_loss: 586424.3750 - val_mean_squared_error: 586424.3750\n",
            "Epoch 5/5\n",
            "\u001b[1m20/20\u001b[0m \u001b[32m━━━━━━━━━━━━━━━━━━━━\u001b[0m\u001b[37m\u001b[0m \u001b[1m0s\u001b[0m 8ms/step - loss: 658365.3750 - mean_squared_error: 658365.3750 - val_loss: 544453.2500 - val_mean_squared_error: 544453.2500\n"
          ]
        }
      ],
      "source": [
        "history = model.fit(train_X, train_y, validation_split=0.20, epochs=5, batch_size=64, shuffle=False)"
      ]
    },
    {
      "cell_type": "markdown",
      "metadata": {
        "id": "BgK9j0GrUs2l"
      },
      "source": [
        "Create a line plot illustrating both the **training** and **validation loss** over the training epochs."
      ]
    },
    {
      "cell_type": "code",
      "execution_count": 144,
      "metadata": {
        "id": "2u1RylwfUtR0",
        "colab": {
          "base_uri": "https://localhost:8080/",
          "height": 447
        },
        "outputId": "393d5f38-4243-41f7-af53-89858c22a096"
      },
      "outputs": [
        {
          "output_type": "execute_result",
          "data": {
            "text/plain": [
              "<Axes: >"
            ]
          },
          "metadata": {},
          "execution_count": 144
        },
        {
          "output_type": "display_data",
          "data": {
            "text/plain": [
              "<Figure size 640x480 with 1 Axes>"
            ],
            "image/png": "[encoded data removed]"
          },
          "metadata": {}
        }
      ],
      "source": [
        "import seaborn as sns\n",
        "sns.lineplot(history.history[\"loss\"], label=\"loss\")\n",
        "sns.lineplot(history.history[\"val_loss\"], label=\"val_loss\")"
      ]
    },
    {
      "cell_type": "markdown",
      "metadata": {
        "id": "gyXZwAVab8Cp"
      },
      "source": [
        "Use the trained model to make predictions for the test set."
      ]
    },
    {
      "cell_type": "code",
      "execution_count": 145,
      "metadata": {
        "id": "EvMfVum6b_9b",
        "colab": {
          "base_uri": "https://localhost:8080/"
        },
        "outputId": "6b6208ef-7ffd-4314-ecce-5c7f5116ce5e"
      },
      "outputs": [
        {
          "output_type": "stream",
          "name": "stdout",
          "text": [
            "\u001b[1m13/13\u001b[0m \u001b[32m━━━━━━━━━━━━━━━━━━━━\u001b[0m\u001b[37m\u001b[0m \u001b[1m1s\u001b[0m 50ms/step\n"
          ]
        }
      ],
      "source": [
        "pred_y = model.predict(test_X)"
      ]
    },
    {
      "cell_type": "markdown",
      "metadata": {
        "id": "3VxAvDPtcNCh"
      },
      "source": [
        "Assess the performance of the model by using different metrics provided by the `scikit-learn` library."
      ]
    },
    {
      "cell_type": "code",
      "execution_count": 146,
      "metadata": {
        "id": "V4axpktycQhp",
        "colab": {
          "base_uri": "https://localhost:8080/"
        },
        "outputId": "934e52a8-a998-4548-ae0e-b5df1e9832b1"
      },
      "outputs": [
        {
          "output_type": "execute_result",
          "data": {
            "text/plain": [
              "(660.5801391601562, 699407.375, 0.4859405755996704)"
            ]
          },
          "metadata": {},
          "execution_count": 146
        }
      ],
      "source": [
        "from sklearn.metrics import mean_absolute_error, mean_squared_error, r2_score\n",
        "(mean_absolute_error(test_y, pred_y), mean_squared_error(test_y, pred_y), r2_score(test_y, pred_y))"
      ]
    },
    {
      "cell_type": "markdown",
      "metadata": {
        "id": "X01Q7Pb9VOAI"
      },
      "source": [
        "Create a line plot in order to compare the actual and predicted mean temperatures for the test set."
      ]
    },
    {
      "cell_type": "code",
      "source": [
        "pred_y = pred_y.flatten() if len(pred_y.shape) > 1 else pred_y\n",
        "test_y = test_y.squeeze()\n"
      ],
      "metadata": {
        "id": "clkbVQRg2qcG"
      },
      "execution_count": 150,
      "outputs": []
    },
    {
      "cell_type": "code",
      "source": [
        "sns.lineplot(x=test_y.index, y=test_y.values)\n",
        "sns.lineplot(x=test_y.index, y=pred_y.flatten())"
      ],
      "metadata": {
        "colab": {
          "base_uri": "https://localhost:8080/",
          "height": 466
        },
        "id": "DG7pkUEo2d3x",
        "outputId": "396d1459-f095-4b2f-8d29-3529000145a9"
      },
      "execution_count": 151,
      "outputs": [
        {
          "output_type": "execute_result",
          "data": {
            "text/plain": [
              "<Axes: xlabel='None'>"
            ]
          },
          "metadata": {},
          "execution_count": 151
        },
        {
          "output_type": "display_data",
          "data": {
            "text/plain": [
              "<Figure size 640x480 with 1 Axes>"
            ],
            "image/png": "[encoded data removed]"
          },
          "metadata": {}
        }
      ]
    }
  ],
  "metadata": {
    "accelerator": "GPU",
    "colab": {
      "gpuType": "T4",
      "provenance": []
    },
    "kernelspec": {
      "display_name": "Python 3",
      "language": "python",
      "name": "python3"
    },
    "language_info": {
      "codemirror_mode": {
        "name": "ipython",
        "version": 3
      },
      "file_extension": ".py",
      "mimetype": "text/x-python",
      "name": "python",
      "nbconvert_exporter": "python",
      "pygments_lexer": "ipython3",
      "version": "3.8.5"
    }
  },
  "nbformat": 4,
  "nbformat_minor": 0
}